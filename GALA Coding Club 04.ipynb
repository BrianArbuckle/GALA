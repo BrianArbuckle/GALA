{
 "cells": [
  {
   "cell_type": "markdown",
   "metadata": {},
   "source": [
    "# Review\n",
    "\n",
    "Last week we started talking about **Lists**.  \n",
    "\n",
    "In Python to assign values to a list, we use square brackets `[ ]` and individual elements in the list are separated by commas. Lists are there own data type and contain other data types such as **Strings** , **Numbers** , **Booleen**  and other **Lists**.  These data types don't have to be the same, though often are:"
   ]
  },
  {
   "cell_type": "code",
   "execution_count": null,
   "metadata": {},
   "outputs": [],
   "source": [
    "things = ['wheel', 12, 43.7, 34j, True, ['cars', 'bikes', 'scooters']]\n",
    "things"
   ]
  },
  {
   "cell_type": "markdown",
   "metadata": {},
   "source": [
    "We learned the  **`.append()`** method to add items to lists. And:<br>\n",
    "The `len()` function to count items in a list.  Remember it also counts charecters in a string<br>\n",
    "The **delete `del`** function to delete items, and we use number possitions such as `singers[2]`<br>\n",
    "The **`pop()`** method removes the last item in a list<br>\n",
    "The **`remove()`** method to remove an item when we only know the values stored - `users.remove('Aarika')`<br>\n",
    "the **delete `del`** function, to delete and item from a list.<br>\n",
    "Selecting a range using colon : such as `new_users = users[0:5]`<br>\n",
    "\n",
    "Also there was the **`insert()`** method. You do this by specifying the index of the new element and the value of the new item.  Unlike the text manipulation methods (.title(), .upper(), etc..) the `insert()` method requires **arguments** to be passed through the method in the\n",
    "\n",
    "We ran out of time last week so I wanted to cover two more "
   ]
  },
  {
   "cell_type": "markdown",
   "metadata": {},
   "source": [
    "## Organizing a List\n",
    "\n",
    "Often, your lists will be created in an unpredictable order, because you can’t always control the order in which your users provide their data. Although this is unavoidable in most circumstances, you’ll frequently want to present your information in a particular order. Sometimes you’ll want to preserve the original order of your list, and other times you’ll want to change the original order. Python provides a number of different ways to organize your lists, depending on the situation.\n",
    "\n",
    "### Sorting a List Permanently with the `sort()` Method\n",
    "\n",
    "The **`sort()`** method changes the order of the list permanently. The cars are now in alphabetical order, and we can never revert to the original order:"
   ]
  },
  {
   "cell_type": "code",
   "execution_count": 74,
   "metadata": {},
   "outputs": [
    {
     "name": "stdout",
     "output_type": "stream",
     "text": [
      "['audi', 'bmw', 'subaru', 'toyota']\n"
     ]
    }
   ],
   "source": [
    "cars = ['bmw', 'audi', 'toyota', 'subaru'] \n",
    "cars.sort()\n",
    "print(cars)"
   ]
  },
  {
   "cell_type": "markdown",
   "metadata": {},
   "source": [
    "You can also sort this list in reverse alphabetical order by passing the argument `reverse=True` to the `sort()` method."
   ]
  },
  {
   "cell_type": "code",
   "execution_count": 75,
   "metadata": {},
   "outputs": [
    {
     "name": "stdout",
     "output_type": "stream",
     "text": [
      "['toyota', 'subaru', 'bmw', 'audi']\n"
     ]
    }
   ],
   "source": [
    "cars.sort(reverse=True)\n",
    "print(cars)"
   ]
  },
  {
   "cell_type": "markdown",
   "metadata": {},
   "source": [
    "### Sorting a List Temporarily with the `sorted()` Function\n",
    "\n",
    "Since `sorted()` is a function, instead of a method, it work a little differntly:"
   ]
  },
  {
   "cell_type": "code",
   "execution_count": 76,
   "metadata": {},
   "outputs": [
    {
     "name": "stdout",
     "output_type": "stream",
     "text": [
      "['audi', 'bmw', 'subaru', 'toyota']\n"
     ]
    }
   ],
   "source": [
    "cars = ['bmw', 'audi', 'toyota', 'subaru']\n",
    "print(sorted(cars))"
   ]
  },
  {
   "cell_type": "code",
   "execution_count": 77,
   "metadata": {},
   "outputs": [
    {
     "data": {
      "text/plain": [
       "['bmw', 'audi', 'toyota', 'subaru']"
      ]
     },
     "execution_count": 77,
     "metadata": {},
     "output_type": "execute_result"
    }
   ],
   "source": [
    "cars"
   ]
  },
  {
   "cell_type": "markdown",
   "metadata": {},
   "source": [
    "Things don't always work this well but the sorted funtion also has the `reverse=True` argument:'"
   ]
  },
  {
   "cell_type": "code",
   "execution_count": null,
   "metadata": {},
   "outputs": [],
   "source": [
    "cars = ['bmw', 'audi', 'toyota', 'subaru']\n",
    "print(sorted(cars,reverse=True))"
   ]
  },
  {
   "cell_type": "markdown",
   "metadata": {},
   "source": [
    "### Reverse Order *method* with `reverse()`\n",
    "\n",
    "To reverse the original order of a list, you can use the `reverse()` method.\n",
    "If we originally stored the list of cars in chronological order according to when we owned them, we could easily rearrange the list into reverse chronological order:"
   ]
  },
  {
   "cell_type": "code",
   "execution_count": 78,
   "metadata": {},
   "outputs": [
    {
     "name": "stdout",
     "output_type": "stream",
     "text": [
      "['subaru', 'toyota', 'audi', 'bmw']\n"
     ]
    }
   ],
   "source": [
    "cars = ['bmw', 'audi', 'toyota', 'subaru']\n",
    "cars.reverse()\n",
    "print(cars)"
   ]
  },
  {
   "cell_type": "markdown",
   "metadata": {},
   "source": [
    "Notice that `reverse()` doesn’t sort backward alphabetically; it simply reverses the order of the list.\n",
    "\n",
    "---\n",
    "\n",
    "---"
   ]
  },
  {
   "cell_type": "markdown",
   "metadata": {},
   "source": [
    "# LOOPS\n",
    "\n",
    "Let’s say we have a list of singers’ names, and we want to print out each name in the list. We could do this by retrieving each name from the list individually, but this approach could cause several problems. For one,\n",
    "it would be repetitive to do this with a long list of names. Also, we’d have to change our code each time the list’s length changed. "
   ]
  },
  {
   "cell_type": "code",
   "execution_count": 79,
   "metadata": {},
   "outputs": [
    {
     "name": "stdout",
     "output_type": "stream",
     "text": [
      "Taylor Swift\n",
      "Demi Lovato\n",
      "Selena Gomez\n",
      "Alicia Keys\n",
      "Ariana Grande\n"
     ]
    }
   ],
   "source": [
    "singers = ['taylor swift', 'demi lovato', 'selena gomez', 'alicia keys', 'ariana grande']\n",
    "print(singers[0].title())\n",
    "print(singers[1].title())\n",
    "print(singers[2].title())\n",
    "print(singers[3].title())\n",
    "print(singers[4].title())"
   ]
  },
  {
   "cell_type": "markdown",
   "metadata": {},
   "source": [
    "## For Loop \n",
    "A **for** loop avoids both of these issues by letting Python manage these issues internally:"
   ]
  },
  {
   "cell_type": "code",
   "execution_count": 81,
   "metadata": {},
   "outputs": [
    {
     "name": "stdout",
     "output_type": "stream",
     "text": [
      "Taylor Swift\n",
      "Demi Lovato\n"
     ]
    }
   ],
   "source": [
    "for singer in singers[0:2]:\n",
    "    print(singer.title())"
   ]
  },
  {
   "cell_type": "markdown",
   "metadata": {},
   "source": [
    "## A Closer Look at Looping\n",
    "\n",
    "The concept of looping is important because it’s one of the most common ways a computer automates repetitive tasks. For example, in a simple loop like we used in the singers loop above, Python initially reads the first line of the loop:\n",
    "\n",
    "---\n",
    "\n",
    "**`for singer in singers:`**\n",
    "\n",
    "---\n",
    "\n",
    "This line tells Python to retrieve the first value from the list singers and store it in the variable singer. This first value is 'taylor swift'. Python then reads the next line:\n",
    "\n",
    "---\n",
    "\n",
    "**`    print(singer.title())`**\n",
    "\n",
    "---\n",
    "\n",
    "Python prints the current value of singer, which is still 'taylor swift' and we applyed the `.title()` method.  Because the list contains more values, Python returns to the first line of the loop:\n",
    "\n",
    "---\n",
    "\n",
    "**`for singer in singers:`**\n",
    "\n",
    "---\n",
    "\n",
    "Python retrieves the next name in the list, 'demi lovato', and replaces that value in singer. Python then executes the line: \n",
    "\n",
    "---\n",
    "\n",
    "**`    print(singer.title())`**\n",
    "\n",
    "---"
   ]
  },
  {
   "cell_type": "markdown",
   "metadata": {},
   "source": [
    "When you’re using loops for the first time, keep in mind that the set of steps is repeated once for each item in the list, no matter how many items are in the list. If you have a million items in your list, Python repeats these steps a million times—and usually very quickly.  \n",
    "\n",
    "Also keep in mind when writing your own for loops that you can choose any name you want for the temporary variable that holds each value in the list. However, it’s helpful to choose a meaningful name that represents a single item from the list. For example, here’s a good way to start a for loop for a list of cats, a list of dogs, and a general list of items:\n",
    "\n",
    "---\n",
    "\n",
    "**`for cat in cats:`**<br>\n",
    "**`for dog in dogs:`**<br>\n",
    "**`for item in list_of_items:`**\n",
    "\n",
    "---\n",
    "\n",
    "## Doing More Work Within a for Loop\n",
    "You can do just about anything with each item in a for loop. Let’s build on the previous example by printing a message to each singer, telling them that we loved their performance:\n"
   ]
  },
  {
   "cell_type": "code",
   "execution_count": 82,
   "metadata": {},
   "outputs": [
    {
     "name": "stdout",
     "output_type": "stream",
     "text": [
      "Wow Taylor Swift, that was a great performance!\n",
      "Wow Demi Lovato, that was a great performance!\n",
      "Wow Selena Gomez, that was a great performance!\n",
      "Wow Alicia Keys, that was a great performance!\n",
      "Wow Ariana Grande, that was a great performance!\n"
     ]
    }
   ],
   "source": [
    "for singer in singers:\n",
    "    print('Wow ' + singer.title() + ', that was a great performance!')"
   ]
  },
  {
   "cell_type": "markdown",
   "metadata": {},
   "source": [
    "We can add a second line (take a look at the `\\n` whcih tells Python to add a new line):"
   ]
  },
  {
   "cell_type": "code",
   "execution_count": 83,
   "metadata": {},
   "outputs": [
    {
     "name": "stdout",
     "output_type": "stream",
     "text": [
      "Wow Taylor Swift, that was a great performance!\n",
      "We can't wait to hear your next song, Taylor Swift.\n",
      "\n",
      "Wow Demi Lovato, that was a great performance!\n",
      "We can't wait to hear your next song, Demi Lovato.\n",
      "\n",
      "Wow Selena Gomez, that was a great performance!\n",
      "We can't wait to hear your next song, Selena Gomez.\n",
      "\n",
      "Wow Alicia Keys, that was a great performance!\n",
      "We can't wait to hear your next song, Alicia Keys.\n",
      "\n",
      "Wow Ariana Grande, that was a great performance!\n",
      "We can't wait to hear your next song, Ariana Grande.\n",
      "\n"
     ]
    }
   ],
   "source": [
    "for singer in singers:\n",
    "    print('Wow ' + singer.title() + ', that was a great performance!')\n",
    "    print(\"We can't wait to hear your next song, \" + singer.title() + \".\\n\")"
   ]
  },
  {
   "cell_type": "markdown",
   "metadata": {},
   "source": [
    "What happens once a for loop has finished executing? Usually, you’ll want to summarize a block of output or move on to other work that your program must accomplish.\n",
    "Any lines of code after the for loop that are not indented are executed once without repetition. Let’s write a thank you to the group of singers as a whole, thanking them for putting on an excellent show."
   ]
  },
  {
   "cell_type": "code",
   "execution_count": 85,
   "metadata": {},
   "outputs": [
    {
     "name": "stdout",
     "output_type": "stream",
     "text": [
      "Wow Taylor Swift, that was a great performance!\n",
      "We can't wait to hear your next song, Taylor Swift.\n",
      "\n",
      "Wow Demi Lovato, that was a great performance!\n",
      "We can't wait to hear your next song, Demi Lovato.\n",
      "\n",
      "Wow Selena Gomez, that was a great performance!\n",
      "We can't wait to hear your next song, Selena Gomez.\n",
      "\n",
      "Wow Alicia Keys, that was a great performance!\n",
      "We can't wait to hear your next song, Alicia Keys.\n",
      "\n",
      "Wow Ariana Grande, that was a great performance!\n",
      "We can't wait to hear your next song, Ariana Grande.\n",
      "\n",
      "Thank you, everyone. We look forward to seeing you at the next GALA Coding Club.\n"
     ]
    }
   ],
   "source": [
    "for singer in singers:\n",
    "    print('Wow ' + singer.title() + ', that was a great performance!')\n",
    "    print(\"We can't wait to hear your next song, \" + singer.title() + \".\\n\")\n",
    "    \n",
    "print(\"Thank you, everyone. We look forward to seeing you at the next GALA Coding Club.\")"
   ]
  },
  {
   "cell_type": "markdown",
   "metadata": {},
   "source": [
    "## Indents\n",
    "\n",
    "Look at the code above, notice the indents after the line `for singer in singers:`?  The indent tells python to repeate these commands until the for loop has completed.\n",
    "\n",
    "## Forgetting to Indent will give you an error:\n",
    "Always indent the line after the for statement in a loop. If you forget, Python will remind you:"
   ]
  },
  {
   "cell_type": "code",
   "execution_count": 86,
   "metadata": {},
   "outputs": [
    {
     "ename": "IndentationError",
     "evalue": "expected an indented block (<ipython-input-86-e55e9e6e9768>, line 2)",
     "output_type": "error",
     "traceback": [
      "\u001b[0;36m  File \u001b[0;32m\"<ipython-input-86-e55e9e6e9768>\"\u001b[0;36m, line \u001b[0;32m2\u001b[0m\n\u001b[0;31m    print('Wow ' + singer.title() + ', that was a great performance!')\u001b[0m\n\u001b[0m        ^\u001b[0m\n\u001b[0;31mIndentationError\u001b[0m\u001b[0;31m:\u001b[0m expected an indented block\n"
     ]
    }
   ],
   "source": [
    "for singer in singers:\n",
    "print('Wow ' + singer.title() + ', that was a great performance!')"
   ]
  },
  {
   "cell_type": "markdown",
   "metadata": {},
   "source": [
    "And a general guide, if you have a colon at the end of a line the next line needs to be indented. Later we will learn about defing our own **functions** and **classes**, which also end with a colon.  \n",
    "\n",
    "Sometime when creating code, you may want indicate that you plan on doing a loop but don't want to or don't quite know what the loop will do.  This is where the **`pass`** function come in handy,  the pass function does nothing!  However, it allows you to meet the Python requirement to have one item indented after the colon:\n",
    "\n",
    "Also, take a look at the **`#`** hashtag below.  Any line after a `#` is ignored by Python and is a greta way to make notes to yourself or others that you are coding with to explain what is about to happen in the code:"
   ]
  },
  {
   "cell_type": "code",
   "execution_count": 87,
   "metadata": {},
   "outputs": [],
   "source": [
    "# Tell each singer how great they are\n",
    "for singer in singers:\n",
    "    pass"
   ]
  },
  {
   "cell_type": "markdown",
   "metadata": {},
   "source": [
    "Take note, Python skips everything after the `#` while `pass` is actually run by Python and instructs Python to do nothing.  Look what happens when we try and use a `#` as out indented commend:"
   ]
  },
  {
   "cell_type": "code",
   "execution_count": 93,
   "metadata": {},
   "outputs": [
    {
     "name": "stdout",
     "output_type": "stream",
     "text": [
      "Tell each Taylor Swift how great they are\n",
      "Tell each Demi Lovato how great they are\n",
      "Tell each Selena Gomez how great they are\n",
      "Tell each Alicia Keys how great they are\n",
      "Tell each Ariana Grande how great they are\n"
     ]
    }
   ],
   "source": [
    "for singer in singers:\n",
    "    print('Tell each ' + singer.title() + ' how great they are')"
   ]
  },
  {
   "cell_type": "markdown",
   "metadata": {},
   "source": [
    "## Loops and working with numbers\n",
    "\n",
    "Many reasons exist to store a set of numbers. For example, you’ll need to keep track of the positions of each character in a game, and you might want to keep track of a player’s high scores as well. In data visualizations, you’ll almost always work with sets of numbers, such as temperatures, distances, population sizes, or latitude and longitude values and in the case of our project ZIP CODES, among other types of numerical sets.\n",
    "\n",
    "Lists are ideal for storing sets of numbers, and Python provides a num- ber of tools to help you work efficiently with lists of numbers. Once you understand how to use these tools effectively, your code will work well even when your lists contain millions of items.\n",
    "\n",
    "### Using the `range()` Function\n",
    "\n",
    "Python’s **`range()`** function makes it easy to generate a series of numbers. For example, you can use the `range()` function to print a series of numbers like this:"
   ]
  },
  {
   "cell_type": "code",
   "execution_count": 94,
   "metadata": {},
   "outputs": [
    {
     "name": "stdout",
     "output_type": "stream",
     "text": [
      "1\n",
      "2\n",
      "3\n",
      "4\n"
     ]
    }
   ],
   "source": [
    "for value in range(1,5):\n",
    "    print(value)"
   ]
  },
  {
   "cell_type": "markdown",
   "metadata": {},
   "source": [
    "In this example, `range()` prints only the numbers 1 through 4. This is another result of the off-by-one behavior you’ll see often in programming languages. The `range()` function causes Python to start counting at the first value you give it, and it stops when it reaches the second value you provide. Because it stops at that second value, the output never contains the end value, which would have been 5 in this case.  NOTE: If your output is different than what you expect when you’re using range(), try adjusting your end value by 1.\n",
    "\n",
    "To print the numbers from 1 to 5, you would use `range(1,6)`:"
   ]
  },
  {
   "cell_type": "code",
   "execution_count": 95,
   "metadata": {},
   "outputs": [
    {
     "name": "stdout",
     "output_type": "stream",
     "text": [
      "1\n",
      "2\n",
      "3\n",
      "4\n",
      "5\n"
     ]
    }
   ],
   "source": [
    "for value in range(1,6):\n",
    "    print(value)"
   ]
  },
  {
   "cell_type": "markdown",
   "metadata": {},
   "source": [
    "### Using `range() `to Make a List of Numbers with the `list()` function\n",
    "If you want to make a list of numbers, you can convert the results of `range()` directly into a list using the `list()` function. When you wrap `list()` around a call to the `range()` function, the output will be a list of numbers.\n",
    "In the example in the previous section, we simply printed out a series of numbers. We can use `list()` to convert that same set of numbers into a list:"
   ]
  },
  {
   "cell_type": "code",
   "execution_count": 96,
   "metadata": {},
   "outputs": [
    {
     "name": "stdout",
     "output_type": "stream",
     "text": [
      "[1, 2, 3, 4, 5]\n"
     ]
    }
   ],
   "source": [
    "numbers = list(range(1,6))\n",
    "print(numbers)"
   ]
  },
  {
   "cell_type": "markdown",
   "metadata": {},
   "source": [
    "We can also use the `range()` function to tell Python to skip numbers in a given range. For example, here’s how we would list the even numbers between 1 and 10:"
   ]
  },
  {
   "cell_type": "code",
   "execution_count": 98,
   "metadata": {},
   "outputs": [
    {
     "name": "stdout",
     "output_type": "stream",
     "text": [
      "[2, 14, 26, 38, 50, 62, 74, 86, 98]\n"
     ]
    }
   ],
   "source": [
    "even_numbers = list(range(2,110,12))\n",
    "print(even_numbers)"
   ]
  },
  {
   "cell_type": "markdown",
   "metadata": {},
   "source": [
    "You can create almost any set of numbers you want to using the `range()` function. For example, consider how you might make a list of the first 10 square numbers (that is, the square of each integer from 1 through 10). In Python, two asterisks `(**)` represent exponents. Here’s how you might put the first 10 square numbers into a list:"
   ]
  },
  {
   "cell_type": "code",
   "execution_count": null,
   "metadata": {},
   "outputs": [],
   "source": [
    "squares = []\n",
    "for value in range(1,11): \n",
    "    square = value**2\n",
    "    squares.append(square)\n",
    "    \n",
    "print(squares)"
   ]
  },
  {
   "cell_type": "markdown",
   "metadata": {},
   "source": [
    "We start with an empty list called squares in the first line. Then, we tell Python to loop through each value from 1 to 10 using the `range()` function. Inside the loop, the current value is raised to the second power and stored in the variable `square`. The, each new value of `square` is appended to the list `squares`. Finally, when the loop has finished running, the list of `squares` is printed.  \n",
    "\n",
    "Often in coding we try an be as efficient as possible we also want clear readable code.  Here is a concise way to make the code both efficient, and readble. "
   ]
  },
  {
   "cell_type": "code",
   "execution_count": null,
   "metadata": {},
   "outputs": [],
   "source": [
    "squares = []\n",
    "for value in range(1,11): \n",
    "    squares.append(value**2)\n",
    "    \n",
    "print(squares)"
   ]
  },
  {
   "cell_type": "markdown",
   "metadata": {},
   "source": [
    "You can use either of these two approaches when you’re making more complex lists. Sometimes using a temporary variable makes your code eas- ier to read; other times it makes the code unnecessarily long. Focus first on writing code that you understand clearly, which does what you want it to do. Then look for more efficient approaches as you review your code.\n"
   ]
  },
  {
   "cell_type": "markdown",
   "metadata": {},
   "source": [
    "## Simple Statistics with a List of Numbers\n",
    "\n",
    "A few Python functions are specific to lists of numbers. For example, you can easily find the minimum, maximum, and sum of a list of numbers:"
   ]
  },
  {
   "cell_type": "code",
   "execution_count": null,
   "metadata": {},
   "outputs": [],
   "source": [
    "digits = [1, 2, 3, 4, 5, 6, 7, 8, 9, 10]\n",
    "print(min(digits))\n",
    "print(max(digits))\n",
    "print(sum(digits))"
   ]
  },
  {
   "cell_type": "markdown",
   "metadata": {},
   "source": [
    "## How can we find the average?"
   ]
  },
  {
   "cell_type": "code",
   "execution_count": null,
   "metadata": {},
   "outputs": [],
   "source": [
    "average = sum(digits)/len(digits)\n",
    "print(average)"
   ]
  },
  {
   "cell_type": "markdown",
   "metadata": {},
   "source": [
    "## List Comprehensions\n",
    "The approach described earlier for generating the list squares consisted of using three or four lines of code. A **list comprehension** allows you to generate this same list in just one line of code. A list comprehension combines the for loop and the creation of new elements into one line, and automatically appends each new element. List comprehensions are not always presented to beginners, but I have included them here because you’ll most likely see them as soon as you start looking at other people’s code."
   ]
  },
  {
   "cell_type": "code",
   "execution_count": null,
   "metadata": {},
   "outputs": [],
   "source": [
    "squares = [value**2 for value in range(1,11)]\n",
    "print(squares)"
   ]
  },
  {
   "cell_type": "markdown",
   "metadata": {},
   "source": [
    "To use this syntax, begin with a descriptive name for the list, such as squares. Next, open a set of square brackets and define the expression for the values you want to store in the new list. In this example the expres- sion is `value**2`, which raises the value to the second power. Then, write\n",
    "a for loop to generate the numbers you want to feed into the expression, and close the square brackets. The for loop in this example is for value in range(1,11), which feeds the values 1 through 10 into the expression `value**2`. Notice that no colon is used at the end of the for statement.\n",
    "The result is the same list of square numbers you saw earlier:"
   ]
  },
  {
   "cell_type": "code",
   "execution_count": null,
   "metadata": {},
   "outputs": [],
   "source": [
    "# NEW"
   ]
  },
  {
   "cell_type": "markdown",
   "metadata": {},
   "source": [
    "Here is the hard way with a look to sqaure 100 1-100 in a list:"
   ]
  },
  {
   "cell_type": "code",
   "execution_count": 101,
   "metadata": {},
   "outputs": [
    {
     "name": "stdout",
     "output_type": "stream",
     "text": [
      "[1, 4, 9, 16, 25, 36, 49, 64, 81, 100, 121, 144, 169, 196, 225, 256, 289, 324, 361, 400, 441, 484, 529, 576, 625, 676, 729, 784, 841, 900, 961, 1024, 1089, 1156, 1225, 1296, 1369, 1444, 1521, 1600, 1681, 1764, 1849, 1936, 2025, 2116, 2209, 2304, 2401, 2500, 2601, 2704, 2809, 2916, 3025, 3136, 3249, 3364, 3481, 3600, 3721, 3844, 3969, 4096, 4225, 4356, 4489, 4624, 4761, 4900, 5041, 5184, 5329, 5476, 5625, 5776, 5929, 6084, 6241, 6400, 6561, 6724, 6889, 7056, 7225, 7396, 7569, 7744, 7921, 8100, 8281, 8464, 8649, 8836, 9025, 9216, 9409, 9604, 9801, 10000]\n"
     ]
    }
   ],
   "source": [
    "squares = []\n",
    "for i in range(1, 101):\n",
    "    squares.append(i**2)\n",
    "\n",
    "print(squares)"
   ]
  },
  {
   "cell_type": "code",
   "execution_count": 102,
   "metadata": {},
   "outputs": [],
   "source": [
    "squares2 = [i**2 for i in range(1, 101)]\n",
    "\n",
    "print(squares2)"
   ]
  },
  {
   "cell_type": "code",
   "execution_count": 103,
   "metadata": {},
   "outputs": [
    {
     "name": "stdout",
     "output_type": "stream",
     "text": [
      "[1, 4, 9, 16, 25, 36, 49, 64, 81, 100, 121, 144, 169, 196, 225, 256, 289, 324, 361, 400, 441, 484, 529, 576, 625, 676, 729, 784, 841, 900, 961, 1024, 1089, 1156, 1225, 1296, 1369, 1444, 1521, 1600, 1681, 1764, 1849, 1936, 2025, 2116, 2209, 2304, 2401, 2500, 2601, 2704, 2809, 2916, 3025, 3136, 3249, 3364, 3481, 3600, 3721, 3844, 3969, 4096, 4225, 4356, 4489, 4624, 4761, 4900, 5041, 5184, 5329, 5476, 5625, 5776, 5929, 6084, 6241, 6400, 6561, 6724, 6889, 7056, 7225, 7396, 7569, 7744, 7921, 8100, 8281, 8464, 8649, 8836, 9025, 9216, 9409, 9604, 9801, 10000]\n"
     ]
    }
   ],
   "source": []
  },
  {
   "cell_type": "markdown",
   "metadata": {},
   "source": [
    "## Here is a great Socratica Video for more detail about List Comprehensions:"
   ]
  },
  {
   "cell_type": "code",
   "execution_count": 1,
   "metadata": {},
   "outputs": [
    {
     "data": {
      "text/html": [
       "<iframe width=\"640\" height=\"360\" src=\"https://www.youtube.com/embed/AhSvKGTh28Q?rel=0&amp;controls=0&amp;showinfo=0\" frameborder=\"0\" allowfullscreen></iframe>"
      ],
      "text/plain": [
       "<IPython.core.display.HTML object>"
      ]
     },
     "execution_count": 1,
     "metadata": {},
     "output_type": "execute_result"
    }
   ],
   "source": [
    "from IPython.display import HTML\n",
    "\n",
    "HTML('<iframe width=\"640\" height=\"360\" src=\"https://www.youtube.com/embed/AhSvKGTh28Q?rel=0&amp;controls=0&amp;showinfo=0\" frameborder=\"0\" allowfullscreen></iframe>')\n"
   ]
  },
  {
   "cell_type": "code",
   "execution_count": null,
   "metadata": {},
   "outputs": [],
   "source": []
  }
 ],
 "metadata": {
  "kernelspec": {
   "display_name": "Python 3",
   "language": "python",
   "name": "python3"
  },
  "language_info": {
   "codemirror_mode": {
    "name": "ipython",
    "version": 3
   },
   "file_extension": ".py",
   "mimetype": "text/x-python",
   "name": "python",
   "nbconvert_exporter": "python",
   "pygments_lexer": "ipython3",
   "version": "3.6.4"
  }
 },
 "nbformat": 4,
 "nbformat_minor": 2
}
