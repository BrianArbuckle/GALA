{
 "cells": [
  {
   "cell_type": "markdown",
   "metadata": {},
   "source": [
    "# Last Session's Challenges\n",
    "\n",
    "Write two functions.\n",
    "\n",
    "1. Celsius °C to Fahrenheit °F converter:\n",
    "    ### $\\frac{9}{5}$ $\\times$\t$c$ $+$ $32$<br>\n",
    "2. Find the area of a circle with the radius:\n",
    "    ### $a = \\pi \\times r^2$<br>\n",
    "    \n",
    "The two functions are started below, as well as several test lists. "
   ]
  },
  {
   "cell_type": "code",
   "execution_count": 3,
   "metadata": {},
   "outputs": [],
   "source": [
    "def c_to_f(c):\n",
    "    f = (9/5)*c +32\n",
    "    return f"
   ]
  },
  {
   "cell_type": "code",
   "execution_count": 4,
   "metadata": {},
   "outputs": [],
   "source": [
    "import math\n",
    "\n",
    "def area_circle(r):\n",
    "    a = math.pi * r**2\n",
    "    return a"
   ]
  },
  {
   "cell_type": "code",
   "execution_count": 5,
   "metadata": {},
   "outputs": [],
   "source": [
    "c_temps = [12,0,24,34,32,12,22,25,18,30,12,23,26,19,-2,20.5,16.7,7,12,17]\n",
    "radii = [67, 59, 72, 47, 61, 93, 11, 84, 86, 65, 70, 50, 50, 75, 58, 11, \n",
    "         100, 19, 20, 60, 25, 66, 16, 83, 48, 48, 95, 63, 32, 53, 45, 3, \n",
    "         36, 49, 52, 62, 67, 40, 89, 9, 51, 72, 81, 40, 80, 96, 17, 36, \n",
    "         99, 5, 99, 21, 62, 79, 39, 74, 54, 65, 3, 76, 1, 58, 73, 81, 60, \n",
    "         95, 30, 74, 90, 65, 27, 15, 34, 49, 61, 68, 9, 70, 33, 52, 15, \n",
    "         84, 92, 75, 67, 46, 43, 34, 85, 85, 45, 57, 10, 58, 15, 5, 45, \n",
    "         17, 54, 100]"
   ]
  },
  {
   "cell_type": "markdown",
   "metadata": {},
   "source": [
    "And to create our new list should have looked like the following:"
   ]
  },
  {
   "cell_type": "code",
   "execution_count": 6,
   "metadata": {},
   "outputs": [],
   "source": [
    "f_temps = []\n",
    "\n",
    "for c in c_temps:\n",
    "    f = c_to_f(c)\n",
    "    f_temps.append(f)"
   ]
  },
  {
   "cell_type": "code",
   "execution_count": 7,
   "metadata": {},
   "outputs": [
    {
     "name": "stdout",
     "output_type": "stream",
     "text": [
      "53.6\n",
      "32.0\n",
      "75.2\n",
      "93.2\n",
      "89.6\n",
      "53.6\n",
      "71.6\n",
      "77.0\n",
      "64.4\n",
      "86.0\n",
      "53.6\n",
      "73.4\n",
      "78.80000000000001\n",
      "66.2\n",
      "28.4\n",
      "68.9\n",
      "62.06\n",
      "44.6\n",
      "53.6\n",
      "62.6\n"
     ]
    }
   ],
   "source": [
    "for x in c_temps:\n",
    "    print(c_to_f(x))"
   ]
  },
  {
   "cell_type": "code",
   "execution_count": 8,
   "metadata": {},
   "outputs": [],
   "source": [
    "areas = []\n",
    "\n",
    "for r in radii:\n",
    "    r = area_circle(r)\n",
    "    areas.append(r)"
   ]
  },
  {
   "cell_type": "markdown",
   "metadata": {},
   "source": [
    "# MAP\n",
    "\n",
    "Instead of looping there is a simpler way to apply a function to every part of a list.\n",
    "\n",
    "<code>map()</code> function returns a list of the results after applying the given function to each item of a given iterable (list, tuple etc.)\n",
    "    \n",
    "It is quite simple to construct:\n",
    "\n",
    "    results = map(function, iterable)\n",
    "    \n",
    "Here it is with out area of a circle function:"
   ]
  },
  {
   "cell_type": "code",
   "execution_count": 12,
   "metadata": {},
   "outputs": [
    {
     "data": {
      "text/plain": [
       "<map at 0x10b3f3c88>"
      ]
     },
     "execution_count": 12,
     "metadata": {},
     "output_type": "execute_result"
    }
   ],
   "source": [
    "areas2 = map(area_circle, radii)\n",
    "areas2"
   ]
  },
  {
   "cell_type": "markdown",
   "metadata": {},
   "source": [
    "That is unexpected!  Not really, it is a map object that needs to run through a contructor. If you would like to create a list you woudl do the following:"
   ]
  },
  {
   "cell_type": "code",
   "execution_count": null,
   "metadata": {},
   "outputs": [],
   "source": [
    "areas2 = list(map(area_circle, radii))\n",
    "areas2"
   ]
  },
  {
   "cell_type": "markdown",
   "metadata": {},
   "source": [
    "#### Let's apply <code>map()</code> to the Celsius temperatures:"
   ]
  },
  {
   "cell_type": "code",
   "execution_count": 16,
   "metadata": {},
   "outputs": [
    {
     "data": {
      "text/plain": [
       "[53.6,\n",
       " 32.0,\n",
       " 75.2,\n",
       " 93.2,\n",
       " 89.6,\n",
       " 53.6,\n",
       " 71.6,\n",
       " 77.0,\n",
       " 64.4,\n",
       " 86.0,\n",
       " 53.6,\n",
       " 73.4,\n",
       " 78.80000000000001,\n",
       " 66.2,\n",
       " 28.4,\n",
       " 68.9,\n",
       " 62.06,\n",
       " 44.6,\n",
       " 53.6,\n",
       " 62.6]"
      ]
     },
     "execution_count": 16,
     "metadata": {},
     "output_type": "execute_result"
    }
   ],
   "source": [
    "new_temps = list(map(c_to_f, c_temps))\n",
    "new_temps"
   ]
  },
  {
   "cell_type": "code",
   "execution_count": null,
   "metadata": {},
   "outputs": [],
   "source": []
  }
 ],
 "metadata": {
  "kernelspec": {
   "display_name": "Python 3",
   "language": "python",
   "name": "python3"
  },
  "language_info": {
   "codemirror_mode": {
    "name": "ipython",
    "version": 3
   },
   "file_extension": ".py",
   "mimetype": "text/x-python",
   "name": "python",
   "nbconvert_exporter": "python",
   "pygments_lexer": "ipython3",
   "version": "3.7.3"
  }
 },
 "nbformat": 4,
 "nbformat_minor": 2
}
