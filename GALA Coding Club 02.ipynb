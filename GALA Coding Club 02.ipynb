{
 "cells": [
  {
   "cell_type": "markdown",
   "metadata": {},
   "source": [
    "# Review\n",
    "\n",
    "Last week we discussed ***variables***, ***strings***, our first ***data type***, as well as a ***function*** and 4 ***methods***.  To review these items:\n",
    "\n",
    ">A **variable** holds a value, which is the information associated with that variable. <br>\n",
    "> This value or information that is stored can be one of many **Data Types**. <br>\n",
    "A **String** is the first Data Type we worked with and is simply a series of characters. Anything inside quotes is considered a string in Python.  Remember you can use single or double quotes around your strings.<br>\n",
    "> The first **function** we used is print()<br>\n",
    ">We worked with 4 **methods** A *method* is an action that Python can perform on a piece of data. The dot (.) after name in `school_name.title()` tells Python to make the `title()` method act on the variable school_name.<br>  \n",
    "\n",
    "Here are the *string* methods we learned:\n",
    ">`.upper()`<br>\n",
    ">`.lower()`<br>\n",
    ">`.title()`<br>\n",
    ">`.capitalize()`<br>\n",
    "\n",
    "Let's run the cell below by holding the shift key down as we hit return or enter, after you do that change title to the `.upper()` upper method and rerun the cell: "
   ]
  },
  {
   "cell_type": "code",
   "execution_count": null,
   "metadata": {},
   "outputs": [],
   "source": [
    "school_name = 'gala'\n",
    "print(school_name.title())"
   ]
  },
  {
   "cell_type": "markdown",
   "metadata": {},
   "source": [
    "# Numbers\n",
    "\n",
    "Today were going to play with two new Number data types.\n",
    "\n",
    "> **Integer**<br>\n",
    "> **Float**\n",
    "\n",
    "Unlike a string, when you assign a value to a variable, you don't use quotes.  For example, run the cell below:"
   ]
  },
  {
   "cell_type": "code",
   "execution_count": null,
   "metadata": {},
   "outputs": [],
   "source": [
    "number = 100"
   ]
  },
  {
   "cell_type": "markdown",
   "metadata": {},
   "source": [
    "### You can add (+), subtract (-), multiply (*), and divide (/) integers & floats in Python.\n",
    "\n",
    "Run the four cells below:"
   ]
  },
  {
   "cell_type": "code",
   "execution_count": null,
   "metadata": {},
   "outputs": [],
   "source": [
    "10 + 12"
   ]
  },
  {
   "cell_type": "code",
   "execution_count": null,
   "metadata": {},
   "outputs": [],
   "source": [
    "13 - 7"
   ]
  },
  {
   "cell_type": "code",
   "execution_count": null,
   "metadata": {},
   "outputs": [],
   "source": [
    "2 * 20"
   ]
  },
  {
   "cell_type": "code",
   "execution_count": null,
   "metadata": {},
   "outputs": [],
   "source": [
    "8 / 5"
   ]
  },
  {
   "cell_type": "markdown",
   "metadata": {},
   "source": [
    "Floats have a decimal while integers do not.  One way to tell, is to use the **`type()`** function:"
   ]
  },
  {
   "cell_type": "code",
   "execution_count": null,
   "metadata": {},
   "outputs": [],
   "source": [
    "x = 2 * 20\n",
    "type(x)"
   ]
  },
  {
   "cell_type": "code",
   "execution_count": null,
   "metadata": {},
   "outputs": [],
   "source": [
    "y = 8 / 5\n",
    "type(y)"
   ]
  },
  {
   "cell_type": "markdown",
   "metadata": {},
   "source": [
    "Notice how dividing the integer by another integer, with a remainder, creates a float. However, unless you convert a float, it will remain a float - 1.6 * 5 equals 8 however since and integer is multiplying the float the answer will be a float, regardless that it equals a whole number 8:"
   ]
  },
  {
   "cell_type": "code",
   "execution_count": null,
   "metadata": {},
   "outputs": [],
   "source": [
    "1.6 * 5"
   ]
  },
  {
   "cell_type": "code",
   "execution_count": null,
   "metadata": {},
   "outputs": [],
   "source": [
    "z = 1.6 * 5\n",
    "type(z)"
   ]
  },
  {
   "cell_type": "markdown",
   "metadata": {},
   "source": [
    "The way to convert a float to an integer is the **`int()`** function.  Notice this is a function, and not a method, which starts with a (.) dot."
   ]
  },
  {
   "cell_type": "code",
   "execution_count": null,
   "metadata": {},
   "outputs": [],
   "source": [
    "int(z)"
   ]
  },
  {
   "cell_type": "code",
   "execution_count": null,
   "metadata": {},
   "outputs": [],
   "source": [
    "int(y)"
   ]
  },
  {
   "cell_type": "markdown",
   "metadata": {},
   "source": [
    "Notice how the `int()` function does not round up to the number 2.  Instead it gets rid everything after the decimal. to round, use **`round()`** function:"
   ]
  },
  {
   "cell_type": "code",
   "execution_count": null,
   "metadata": {},
   "outputs": [],
   "source": [
    "y = 8 / 5\n",
    "\n",
    "round(y)"
   ]
  },
  {
   "cell_type": "code",
   "execution_count": null,
   "metadata": {},
   "outputs": [],
   "source": [
    "help(round)"
   ]
  },
  {
   "cell_type": "code",
   "execution_count": 66,
   "metadata": {},
   "outputs": [
    {
     "data": {
      "text/plain": [
       "1.6"
      ]
     },
     "execution_count": 66,
     "metadata": {},
     "output_type": "execute_result"
    }
   ],
   "source": []
  },
  {
   "cell_type": "code",
   "execution_count": null,
   "metadata": {},
   "outputs": [],
   "source": []
  }
 ],
 "metadata": {
  "kernelspec": {
   "display_name": "Python 3",
   "language": "python",
   "name": "python3"
  },
  "language_info": {
   "codemirror_mode": {
    "name": "ipython",
    "version": 3
   },
   "file_extension": ".py",
   "mimetype": "text/x-python",
   "name": "python",
   "nbconvert_exporter": "python",
   "pygments_lexer": "ipython3",
   "version": "3.6.4"
  }
 },
 "nbformat": 4,
 "nbformat_minor": 2
}
