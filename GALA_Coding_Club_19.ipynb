{
 "cells": [
  {
   "cell_type": "markdown",
   "metadata": {},
   "source": [
    "This week we will build on the excersize we did last time we met.  Here are some review materials to help with today's tasks.  More detail are in [GALA Coding Club 04](https://brianarbuckle.github.io/GALA/html/GALA_Coding_Club_04.html)\n",
    "\n",
    "\n",
    "### LISTS\n",
    "\n",
    "In Python to assign values to a list, we use square brackets `[ ]` and individual elements in the list are separated by commas. Lists are there own data type and contain other data types such as **Strings** , **Numbers** , **Booleen**  and other **Lists**.  These data types don't have to be the same, though often are.\n",
    "\n",
    "\n",
    "The  **`.append()`** method to add items to lists. And:<br>\n",
    "The `len()` function to count items in a list.  Remember it also counts charecters in a string<br>\n",
    "The **delete `del`** function to delete items, and we use number possitions such as `singers[2]`<br>\n",
    "The **`pop()`** method removes the last item in a list<br>\n",
    "The **`remove()`** method to remove an item when we only know the values stored - `users.remove('Aarika')`<br>\n",
    "the **delete `del`** function, to delete and item from a list.<br>\n",
    "Selecting a range using colon : such as `new_users = users[0:5]`<br>\n",
    "\n",
    "Also there was the **`insert()`** method. You do this by specifying the index of the new element and the value of the new item.  Unlike the text manipulation methods (.title(), .upper(), etc..) the `insert()` method requires **arguments** to be passed through the method."
   ]
  },
  {
   "cell_type": "markdown",
   "metadata": {},
   "source": [
    "## LOOPS\n",
    "Let’s say we have a list of singers’ names, and we want to print out each name in the list. We could do this by retrieving each name from the list individually, but this approach could cause several problems. For one, it would be repetitive to do this with a long list of names. Also, we’d have to change our code each time the list’s length changed.\n",
    "\n",
    "## For Loop \n",
    "A **for** loop avoids both of these issues by letting Python manage these issues internally:"
   ]
  },
  {
   "cell_type": "code",
   "execution_count": 3,
   "metadata": {},
   "outputs": [
    {
     "name": "stdout",
     "output_type": "stream",
     "text": [
      "Taylor Swift\n",
      "Demi Lovato\n"
     ]
    }
   ],
   "source": [
    "singers = ['taylor swift', 'demi lovato', 'selena gomez', 'alicia keys', 'ariana grande']\n",
    "\n",
    "for singer in singers[0:2]:\n",
    "    print(singer.title())"
   ]
  },
  {
   "cell_type": "markdown",
   "metadata": {},
   "source": [
    "## Function\n",
    "\n",
    "You can review the last lesson on functions here:\n",
    "[GALA_Coding_Club_18](https://brianarbuckle.github.io/GALA/html/GALA_Coding_Club_18.html)\n",
    "\n",
    "# Today's Goal - Write a function \n",
    "That turns a list of strings into a list of title case strings.  Here is the start.  "
   ]
  },
  {
   "cell_type": "code",
   "execution_count": 5,
   "metadata": {},
   "outputs": [],
   "source": [
    "def my_title():\n",
    "    pass"
   ]
  },
  {
   "cell_type": "markdown",
   "metadata": {},
   "source": [
    "### Here are some tests for your function."
   ]
  },
  {
   "cell_type": "code",
   "execution_count": 6,
   "metadata": {},
   "outputs": [],
   "source": [
    "singers = ['taylor swift', 'demi lovato', 'selena gomez', 'alicia keys', 'ariana grande', \n",
    "           'katy perry', 'lady gaga', 'dua lipa', 'ellie goulding']\n",
    "counties = ['alameda county',  'alpine county',  'amador county',  'butte county',  \n",
    "            'calaveras county',  'colusa county',  'contra costa county',  'del norte county',  \n",
    "            'el dorado county',  'fresno county',  'glenn county',  'humboldt county',  \n",
    "            'imperial county',  'inyo county',  'kern county',  'kings county',  'lake county',  \n",
    "            'lassen county',  'los angeles county',  'madera county',  'marin county',  \n",
    "            'mariposa county',  'mendocino county',  'merced county',  'modoc county',  \n",
    "            'mono county',  'monterey county',  'napa county',  'nevada county',  'orange county',  \n",
    "            'placer county',  'plumas county',  'riverside county',  'sacramento county',  \n",
    "            'san benito county',  'san bernardino county',  'san diego county', 91237,  \n",
    "            'san francisco',  'san joaquin county',  'san luis obispo county',  \n",
    "            'san mateo county',  'santa barbara county',  'santa clara county',  'santa cruz county',  \n",
    "            'shasta county',  'sierra county',  'siskiyou county',  'solano county',  'sonoma county',  \n",
    "            'stanislaus county',  'sutter county',  'tehama county',  'trinity county',  'tulare county',  \n",
    "            'tuolumne county',  'ventura county',  'yolo county',  'yuba county']"
   ]
  },
  {
   "cell_type": "code",
   "execution_count": null,
   "metadata": {},
   "outputs": [],
   "source": []
  }
 ],
 "metadata": {
  "kernelspec": {
   "display_name": "Python 3",
   "language": "python",
   "name": "python3"
  },
  "language_info": {
   "codemirror_mode": {
    "name": "ipython",
    "version": 3
   },
   "file_extension": ".py",
   "mimetype": "text/x-python",
   "name": "python",
   "nbconvert_exporter": "python",
   "pygments_lexer": "ipython3",
   "version": "3.7.3"
  }
 },
 "nbformat": 4,
 "nbformat_minor": 2
}
