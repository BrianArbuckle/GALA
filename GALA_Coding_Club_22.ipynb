{
 "cells": [
  {
   "cell_type": "markdown",
   "metadata": {},
   "source": [
    "# Object-Oriented Programming\n",
    "\n",
    "## Classes\n",
    "\n",
    "We have previously looked at two paradigms of programming - **imperative** (using statements, loops, and functions as subroutines), and **functional** (using pure functions, higher-order functions, and recursion).\n",
    "\n",
    "Another very popular paradigm is **object-oriented programming** (OOP).<br>\n",
    "Objects are created using **classes**, which are actually the focal point of OOP.<br>\n",
    "The **class** describes what the object will be, but is separate from the object itself. In other words, a class can be described as an object's blueprint, description, or definition.<br>\n",
    "You can use the same class as a blueprint for creating multiple different objects. Think of it as a cookie cutter:<br>\n",
    "\n",
    "![](images/class_01.png)\n",
    "\n",
    "### Let's Declare Our First Class - Just like our first function - it will do nothing (kind of).\n",
    "\n",
    "Notice that we are declaring instead of defining, and we do that with the the **class** command:"
   ]
  },
  {
   "cell_type": "code",
   "execution_count": 2,
   "metadata": {},
   "outputs": [],
   "source": [
    "class Dinosaur():\n",
    "    pass"
   ]
  },
  {
   "cell_type": "markdown",
   "metadata": {},
   "source": [
    "And let's make our first Dinosaur object:"
   ]
  },
  {
   "cell_type": "code",
   "execution_count": 3,
   "metadata": {},
   "outputs": [],
   "source": [
    "Tyrannosaurus = Dinosaur()"
   ]
  },
  {
   "cell_type": "markdown",
   "metadata": {},
   "source": [
    "Often with obects, we what them to have atributes, and in the case of our Dinosaur, we want to say how many feet it has.  This is quite simple to add to out Tyrannosaurus, once it has become and object:"
   ]
  },
  {
   "cell_type": "code",
   "execution_count": 4,
   "metadata": {},
   "outputs": [],
   "source": [
    "Tyrannosaurus.feet = 2"
   ]
  },
  {
   "cell_type": "markdown",
   "metadata": {},
   "source": [
    "Take a look at the number of feet our dino has:"
   ]
  },
  {
   "cell_type": "code",
   "execution_count": 5,
   "metadata": {},
   "outputs": [
    {
     "data": {
      "text/plain": [
       "2"
      ]
     },
     "execution_count": 5,
     "metadata": {},
     "output_type": "execute_result"
    }
   ],
   "source": [
    "Tyrannosaurus.feet"
   ]
  },
  {
   "cell_type": "markdown",
   "metadata": {},
   "source": [
    "**feet** is an attribute.  In the real world of constructing objects with classes, you will want to including attributes for all instances of the class.  This is done with the keyword class and an indented block, which contains class methods (which are functions).  We will dive into the methods more as we progress<br> \n",
    "Below is an example of a simple class and its objects."
   ]
  },
  {
   "cell_type": "code",
   "execution_count": 6,
   "metadata": {},
   "outputs": [],
   "source": [
    "class Cat():\n",
    "    def __init__(self, color, legs):\n",
    "        self.color = color\n",
    "        self.legs = legs"
   ]
  },
  {
   "cell_type": "code",
   "execution_count": 7,
   "metadata": {},
   "outputs": [],
   "source": [
    "felix = Cat(\"ginger\", 4)\n",
    "rover = Cat(\"dog-colored\", 4)\n",
    "stumpy = Cat(\"brown\", 3)"
   ]
  },
  {
   "cell_type": "code",
   "execution_count": 9,
   "metadata": {},
   "outputs": [],
   "source": [
    "flip = Cat('pink', 4)"
   ]
  },
  {
   "cell_type": "code",
   "execution_count": 10,
   "metadata": {},
   "outputs": [],
   "source": [
    "flip.hair = 'bald'"
   ]
  },
  {
   "cell_type": "markdown",
   "metadata": {},
   "source": [
    "This code defines a class named Cat, which has two attributes: color and legs.\n",
    "Then the class is used to create 3 separate objects of that class.\n"
   ]
  },
  {
   "cell_type": "markdown",
   "metadata": {},
   "source": [
    "### \\_\\_init\\_\\_\n",
    "\n",
    "The **\\_\\_init\\_\\_** method is the most important method in a class. \n",
    "This is called when an instance (object) of the class is created, using the class name as a function.\n",
    "\n",
    "All methods must have **self** as their first parameter, although it isn't explicitly passed, Python adds the **self** argument to the list for you; you do not need to include it when you call the methods. Within a method definition, **self** refers to the instance calling the method.\n",
    "\n",
    "Instances of a class have **attributes**, which are pieces of data associated with them.\n",
    "In this example, **Cat** instances have attributes **color** and **legs**. These can be accessed by putting a **dot**, and the attribute name after an instance. \n",
    "In an __init__ method, self.attribute can therefore be used to set the initial value of an instance's attributes.<br>\n",
    "Example:\n"
   ]
  },
  {
   "cell_type": "code",
   "execution_count": 2,
   "metadata": {},
   "outputs": [
    {
     "name": "stdout",
     "output_type": "stream",
     "text": [
      "ginger\n"
     ]
    }
   ],
   "source": [
    "class Cat:\n",
    "    def __init__(self, color, legs):\n",
    "        self.color = color\n",
    "        self.legs = legs\n",
    "        self.age = 0\n",
    "\n",
    "felix = Cat(\"ginger\", 4)\n",
    "\n",
    "print(felix.color)"
   ]
  },
  {
   "cell_type": "code",
   "execution_count": 11,
   "metadata": {},
   "outputs": [
    {
     "data": {
      "text/plain": [
       "'bald'"
      ]
     },
     "execution_count": 11,
     "metadata": {},
     "output_type": "execute_result"
    }
   ],
   "source": [
    "flip.hair"
   ]
  },
  {
   "cell_type": "markdown",
   "metadata": {},
   "source": [
    "In the example above, the \\_\\_init\\_\\_ method takes two arguments and assigns them to the object's attributes. The \\_\\_init\\_\\_ method is called the class constructor.\n"
   ]
  },
  {
   "cell_type": "markdown",
   "metadata": {},
   "source": [
    "## Methods\n",
    "\n",
    "Classes can have other **methods** defined to add functionality to them. <br>\n",
    "Remember, that all methods must have **self** as their first parameter.<br>\n",
    "These methods are accessed using the same **dot** syntax as attributes. <br>\n",
    "Example:\n"
   ]
  },
  {
   "cell_type": "code",
   "execution_count": 12,
   "metadata": {},
   "outputs": [
    {
     "name": "stdout",
     "output_type": "stream",
     "text": [
      "Fido\n",
      "Woof!\n"
     ]
    }
   ],
   "source": [
    "class Dog:\n",
    "    def __init__(self, name, color):\n",
    "        self.name = name\n",
    "        self.color = color\n",
    "\n",
    "    def bark(self):\n",
    "        print(\"Woof!\")\n",
    "\n",
    "fido = Dog(\"Fido\", \"brown\")\n",
    "print(fido.name)\n",
    "fido.bark()\n"
   ]
  },
  {
   "cell_type": "markdown",
   "metadata": {},
   "source": [
    "Classes can also have **class attributes**, created by assigning variables within the body of the class. These can be accessed either from instances of the class, or the class itself.<br>\n",
    "Example:"
   ]
  },
  {
   "cell_type": "code",
   "execution_count": 13,
   "metadata": {},
   "outputs": [
    {
     "name": "stdout",
     "output_type": "stream",
     "text": [
      "4\n",
      "4\n"
     ]
    }
   ],
   "source": [
    "class Dog:\n",
    "    legs = 4\n",
    "    def __init__(self, name, color):\n",
    "        self.name = name\n",
    "        self.color = color\n",
    "\n",
    "fido = Dog(\"Fido\", \"brown\")\n",
    "print(fido.legs)\n",
    "print(Dog.legs)\n"
   ]
  },
  {
   "cell_type": "markdown",
   "metadata": {},
   "source": [
    "#### Class attributes are shared by all instances of the class."
   ]
  },
  {
   "cell_type": "code",
   "execution_count": 35,
   "metadata": {},
   "outputs": [
    {
     "name": "stdout",
     "output_type": "stream",
     "text": [
      "Audrey says \"Hi!\"\n"
     ]
    }
   ],
   "source": [
    "#Fill in the blanks to create a class with a method sayHi().\n",
    "class Student:\n",
    "    def __init__(self, name):\n",
    "        self.name = name\n",
    "        \n",
    "    def sayHi(self):\n",
    "        print(self.name + ' says \"Hi!\"')\n",
    "        \n",
    "s1 = Student(\"Audrey\")\n",
    "s1.sayHi()\n"
   ]
  },
  {
   "cell_type": "markdown",
   "metadata": {},
   "source": [
    "Trying to access an attribute of an instance that isn't defined causes an AttributeError. This also applies when you call an undefined method.\n"
   ]
  },
  {
   "cell_type": "code",
   "execution_count": null,
   "metadata": {},
   "outputs": [],
   "source": [
    "class Rectangle: \n",
    "    def __init__(self, width, height):\n",
    "        self.width = width\n",
    "        self.height = height\n",
    "\n",
    "rect = Rectangle(7, 8)\n",
    "print(rect.color)"
   ]
  }
 ],
 "metadata": {
  "kernelspec": {
   "display_name": "Python 3",
   "language": "python",
   "name": "python3"
  },
  "language_info": {
   "codemirror_mode": {
    "name": "ipython",
    "version": 3
   },
   "file_extension": ".py",
   "mimetype": "text/x-python",
   "name": "python",
   "nbconvert_exporter": "python",
   "pygments_lexer": "ipython3",
   "version": "3.7.3"
  }
 },
 "nbformat": 4,
 "nbformat_minor": 2
}
