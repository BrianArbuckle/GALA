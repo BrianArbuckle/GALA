{
 "cells": [
  {
   "cell_type": "markdown",
   "metadata": {},
   "source": [
    "# Classes\n",
    "\n",
    "## Magic Methods - aka dunders\n",
    "\n",
    "**Magic methods** are special methods which have **double underscores** at the beginning and end of their names. <br>\n",
    "They are also known as dunders. <br>\n",
    "So far, the only one we have encountered is **\\_\\_init\\_\\_**, but there are several others. <br>\n",
    "They are used to create functionality that can't be represented as a normal method. \n",
    "\n",
    "Let's recall the Class Animal and the Subclass Dog that we created last week:"
   ]
  },
  {
   "cell_type": "code",
   "execution_count": 15,
   "metadata": {},
   "outputs": [
    {
     "name": "stdout",
     "output_type": "stream",
     "text": [
      "brown\n"
     ]
    }
   ],
   "source": [
    "class Animal: \n",
    "    def __init__(self, name, color, legs):\n",
    "        self.name = name\n",
    "        self.color = color\n",
    "        self.legs = legs\n",
    "\n",
    "class Dog(Animal):\n",
    "    def bark(self):\n",
    "        print(\"Woof!\")\n",
    "        \n",
    "fido = Dog(\"Fido\", \"brown\", 4)\n",
    "print(fido.color)"
   ]
  },
  {
   "cell_type": "markdown",
   "metadata": {},
   "source": [
    "What happens when we `print(fido)`?"
   ]
  },
  {
   "cell_type": "code",
   "execution_count": 17,
   "metadata": {},
   "outputs": [
    {
     "name": "stdout",
     "output_type": "stream",
     "text": [
      "<__main__.Dog object at 0x10cd8a410>\n"
     ]
    }
   ],
   "source": [
    "print(fido)"
   ]
  },
  {
   "cell_type": "markdown",
   "metadata": {},
   "source": [
    "Wouldn't it be nice to be able to call a function that prints details about our Dog/Animal Class instead of the object and its address in memory?\n",
    "\n",
    "This is where two text based **Magic methods** can help:\n",
    "\n",
    "First let's look at **\\_\\_str\\_\\_**:"
   ]
  },
  {
   "cell_type": "code",
   "execution_count": 38,
   "metadata": {},
   "outputs": [
    {
     "name": "stdout",
     "output_type": "stream",
     "text": [
      "My pet Fido is brown and is 4 years old.\n"
     ]
    }
   ],
   "source": [
    "class Animal: \n",
    "    def __init__(self, name, color, age):\n",
    "        self.name = name\n",
    "        self.color = color\n",
    "        self.age = age\n",
    "        \n",
    "    def __str__(self):\n",
    "        return \"My pet {} is {} and is {} years old.\".format(self.name, self.color, self.age)\n",
    "\n",
    "        \n",
    "class Dog(Animal):\n",
    "    def bark(self):\n",
    "        print(\"Woof!\")\n",
    "        \n",
    "fido = Dog(\"Fido\", \"brown\", 4)\n",
    "print(fido)"
   ]
  },
  {
   "cell_type": "markdown",
   "metadata": {},
   "source": [
    "Now take a look at **\\_\\_repr\\_\\_** which acts just like **\\_\\_str\\_\\_** though is often used for debugging software:"
   ]
  },
  {
   "cell_type": "code",
   "execution_count": 68,
   "metadata": {},
   "outputs": [
    {
     "name": "stdout",
     "output_type": "stream",
     "text": [
      "brown\n"
     ]
    }
   ],
   "source": [
    "class Animal: \n",
    "    def __init__(self, name, color, age):\n",
    "        self.name = name\n",
    "        self.color = color\n",
    "        self.age = age\n",
    "        \n",
    "    def __repr__(self):\n",
    "        return \"My pet {} is {} and is {} years old.\".format(self.name, self.color, self.age)\n",
    "\n",
    "    def __str__(self):\n",
    "        return 'I love my {} year old {}!'.format(self.age, self.name)\n",
    "\n",
    "        \n",
    "class Dog(Animal):\n",
    "    def bark(self):\n",
    "        print(\"Woof!\")\n",
    "        \n",
    "fido = Dog(\"Fido\", \"brown\", 4)\n",
    "print(fido.color)"
   ]
  },
  {
   "cell_type": "markdown",
   "metadata": {},
   "source": [
    "When using these two string-based magic methods, the print function will call the \\_\\_str\\_\\_ method, instead of the \\_\\_repr\\_\\_ method, unless \\_\\_repr\\_\\_ is the only string magic method in the Class."
   ]
  },
  {
   "cell_type": "code",
   "execution_count": 69,
   "metadata": {},
   "outputs": [
    {
     "name": "stdout",
     "output_type": "stream",
     "text": [
      "I love my 4 year old Fido!\n"
     ]
    }
   ],
   "source": [
    "print(fido)"
   ]
  },
  {
   "cell_type": "code",
   "execution_count": 70,
   "metadata": {},
   "outputs": [
    {
     "data": {
      "text/plain": [
       "'My pet Fido is brown and is 4 years old.'"
      ]
     },
     "execution_count": 70,
     "metadata": {},
     "output_type": "execute_result"
    }
   ],
   "source": [
    "repr(fido)"
   ]
  },
  {
   "cell_type": "markdown",
   "metadata": {},
   "source": [
    "One common use of them is operator overloading. <br>\n",
    "This means defining operators for custom classes that allow operators such as + and * to be used on them.<br>\n",
    "An example magic method is **\\_\\_add\\_\\_** for +.\n",
    "\n",
    "We could add to Fido's age by explicitly calling and adding to the attribute:"
   ]
  },
  {
   "cell_type": "code",
   "execution_count": 71,
   "metadata": {},
   "outputs": [],
   "source": [
    "fido.age += 1"
   ]
  },
  {
   "cell_type": "code",
   "execution_count": 72,
   "metadata": {},
   "outputs": [
    {
     "name": "stdout",
     "output_type": "stream",
     "text": [
      "I love my 5 year old Fido!\n"
     ]
    }
   ],
   "source": [
    "print(fido)"
   ]
  },
  {
   "cell_type": "code",
   "execution_count": 73,
   "metadata": {},
   "outputs": [
    {
     "ename": "TypeError",
     "evalue": "unsupported operand type(s) for +: 'Dog' and 'int'",
     "output_type": "error",
     "traceback": [
      "\u001b[0;31m---------------------------------------------------------------------------\u001b[0m",
      "\u001b[0;31mTypeError\u001b[0m                                 Traceback (most recent call last)",
      "\u001b[0;32m<ipython-input-73-4e4e9352d6d2>\u001b[0m in \u001b[0;36m<module>\u001b[0;34m\u001b[0m\n\u001b[0;32m----> 1\u001b[0;31m \u001b[0mfido\u001b[0m \u001b[0;34m+\u001b[0m \u001b[0;36m1\u001b[0m\u001b[0;34m\u001b[0m\u001b[0;34m\u001b[0m\u001b[0m\n\u001b[0m",
      "\u001b[0;31mTypeError\u001b[0m: unsupported operand type(s) for +: 'Dog' and 'int'"
     ]
    }
   ],
   "source": [
    "fido + 1"
   ]
  },
  {
   "cell_type": "code",
   "execution_count": 74,
   "metadata": {},
   "outputs": [
    {
     "name": "stdout",
     "output_type": "stream",
     "text": [
      "brown\n"
     ]
    }
   ],
   "source": [
    "class Animal: \n",
    "    def __init__(self, name, color, age):\n",
    "        self.name = name\n",
    "        self.color = color\n",
    "        self.age = age\n",
    "        \n",
    "    def __repr__(self):\n",
    "        return \"My pet {} is {} and is {} years old.\".format(self.name, self.color, self.age)\n",
    "\n",
    "    def __str__(self):\n",
    "        return 'I love my {} year old {}!'.format(self.age, self.name)\n",
    "    \n",
    "    def __add__(self, other):\n",
    "        self.age += other\n",
    "        return self.age\n",
    "\n",
    "        \n",
    "class Dog(Animal):\n",
    "    def bark(self):\n",
    "        print(\"Woof!\")\n",
    "        \n",
    "fido = Dog(\"Fido\", \"brown\", 4)\n",
    "print(fido.color)"
   ]
  },
  {
   "cell_type": "code",
   "execution_count": 75,
   "metadata": {},
   "outputs": [
    {
     "data": {
      "text/plain": [
       "5"
      ]
     },
     "execution_count": 75,
     "metadata": {},
     "output_type": "execute_result"
    }
   ],
   "source": [
    "fido + 1"
   ]
  },
  {
   "cell_type": "code",
   "execution_count": 76,
   "metadata": {},
   "outputs": [
    {
     "name": "stdout",
     "output_type": "stream",
     "text": [
      "I love my 5 year old Fido!\n"
     ]
    }
   ],
   "source": [
    "print(fido)"
   ]
  },
  {
   "cell_type": "markdown",
   "metadata": {},
   "source": [
    "The **\\_\\_add\\_\\_** method allows for the definition of a custom behavior for the + operator in our class. \n",
    "As you can see, it adds the corresponding attributes of the objects and returns a new object, containing the result.\n",
    "Once it's defined, we can add two objects of the class together.\n"
   ]
  },
  {
   "cell_type": "code",
   "execution_count": 83,
   "metadata": {},
   "outputs": [
    {
     "name": "stdout",
     "output_type": "stream",
     "text": [
      "x = 8\n",
      "y = 16\n",
      "z = 17\n"
     ]
    }
   ],
   "source": [
    "class Vector3D:\n",
    "    def __init__(self, x, y, z):\n",
    "        self.x = x\n",
    "        self.y = y\n",
    "        self.z = z\n",
    "        \n",
    "    def __str__(self):\n",
    "        return \"x = {}\\ny = {}\\nz = {}\".format(self.x , self.y , self.z)\n",
    "        \n",
    "    def __add__(self, other):\n",
    "        return Vector3D(self.x + other.x, self.y + other.y, self.z + other.z)\n",
    "\n",
    "first = Vector3D(5, 7, 12)\n",
    "second = Vector3D(3, 9, 5)\n",
    "result = first + second\n",
    "\n",
    "print(result)\n"
   ]
  },
  {
   "cell_type": "markdown",
   "metadata": {},
   "source": [
    "#### More magic methods for common operators:\n",
    "\n",
    "**\\_\\_sub\\_\\_** for \\-<br>\n",
    "**\\_\\_mul\\_\\_** for \\*<br>\n",
    "**\\_\\_truediv\\_\\_** for /<br>\n",
    "**\\_\\_floordiv\\_\\_** for //<br>\n",
    "**\\_\\_mod\\_\\_** for %<br>\n",
    "**\\_\\_pow\\_\\_** for \\*\\*<br>\n",
    "**\\_\\_and\\_\\_** for &<br>\n",
    "**\\_\\_xor\\_\\_** for ^<br>\n",
    "**\\_\\_or\\_\\_** for |<br>\n",
    "\n",
    "The expression x - y is translated into **x.\\_\\_sub\\_\\_(y)**. \n",
    "\n",
    "\n",
    "#### Python also provides magic methods for comparisons.<br>\n",
    "**\\_\\_lt\\_\\_** for <<br>\n",
    "**\\_\\_le\\_\\_** for <=<br>\n",
    "**\\_\\_eq\\_\\_** for ==<br>\n",
    "**\\_\\_ne\\_\\_** for !=<br>\n",
    "**\\_\\_gt\\_\\_** for ><br>\n",
    "**\\_\\_ge\\_\\_** for >=<br>\n",
    "\n",
    "#### There are several magic methods for making classes act like containers.<br>\n",
    "**\\_\\_len\\_\\_** for len()<br>\n",
    "**\\_\\_getitem\\_\\_** for indexing<br>\n",
    "**\\_\\_setitem\\_\\_** for assigning to indexed values<br>\n",
    "**\\_\\_delitem\\_\\_** for deleting indexed values<br>\n",
    "**\\_\\_iter\\_\\_** for iteration over objects (e.g., in for loops)<br>\n",
    "**\\_\\_contains\\_\\_** for in<br>\n",
    "\n",
    "\n",
    "Here is a funny example, the VagueList:\n",
    "\n"
   ]
  },
  {
   "cell_type": "code",
   "execution_count": 86,
   "metadata": {},
   "outputs": [
    {
     "name": "stdout",
     "output_type": "stream",
     "text": [
      "1\n",
      "9\n",
      "C\n",
      "C\n"
     ]
    }
   ],
   "source": [
    "import random\n",
    "\n",
    "class VagueList:\n",
    "    def __init__(self, cont):\n",
    "        self.cont = cont\n",
    "\n",
    "    def __getitem__(self, index):\n",
    "        return self.cont[index + random.randint(-1, 1)]\n",
    "\n",
    "    def __len__(self):\n",
    "        return random.randint(0, len(self.cont)*2)\n",
    "\n",
    "vague_list = VagueList([\"A\", \"B\", \"C\", \"D\", \"E\"])\n",
    "\n",
    "print(len(vague_list))\n",
    "print(len(vague_list))\n",
    "print(vague_list[2])\n",
    "print(vague_list[2])\n"
   ]
  },
  {
   "cell_type": "markdown",
   "metadata": {},
   "source": [
    "There are many other magic methods that we won't cover here, such as **\\_\\_call\\_\\_** for calling objects as functions, and **\\_\\_int\\_\\_**, **\\_\\_str\\_\\_**, and the like, for converting objects to built-in types. <br>"
   ]
  },
  {
   "cell_type": "code",
   "execution_count": null,
   "metadata": {},
   "outputs": [],
   "source": []
  }
 ],
 "metadata": {
  "kernelspec": {
   "display_name": "Python 3",
   "language": "python",
   "name": "python3"
  },
  "language_info": {
   "codemirror_mode": {
    "name": "ipython",
    "version": 3
   },
   "file_extension": ".py",
   "mimetype": "text/x-python",
   "name": "python",
   "nbconvert_exporter": "python",
   "pygments_lexer": "ipython3",
   "version": "3.7.5"
  }
 },
 "nbformat": 4,
 "nbformat_minor": 2
}
