{
 "cells": [
  {
   "cell_type": "markdown",
   "metadata": {},
   "source": [
    "# Let's Get All The Data Ready\n",
    "\n",
    "As you see, many data science projects require a lot of data management an organization. This lesson will be focussed on the final data preparation.  Next week we finally plot our Choropleth map."
   ]
  },
  {
   "cell_type": "code",
   "execution_count": 6,
   "metadata": {},
   "outputs": [],
   "source": [
    "import pandas as pd\n",
    "import geopandas as gpd"
   ]
  },
  {
   "cell_type": "markdown",
   "metadata": {},
   "source": [
    "### Setting our variables:\n",
    "\n",
    "    Student ZIP Code (including the unique set of these ZIP codes)\n",
    "    The School Address and coordinates\n"
   ]
  },
  {
   "cell_type": "code",
   "execution_count": 7,
   "metadata": {},
   "outputs": [],
   "source": [
    "zip_codes = [90036 , 90036 , 90272 , 90056 , 90039 , 90255 , 90255 , 90016 , 90036 , 90028 , 90028 , \n",
    "             90005 , 90044 , 90018 , 90025 , 90047 , 90029 , 90043 , 90043 , 90043 , 90034 , 90034 , \n",
    "             90047 , 90018 , 90035 , 90036 , 90016 , 90020 , 90069 , 90006 , 90036 , 90044 , 90006 , \n",
    "             90019 , 90019 , 90036 , 90012 , 90012 , 90018 , 90272 , 90011 , 90068 , 90036 , 90046 , \n",
    "             90001 , 90008 , 90008 , 90004 , 90036 , 90036 , 90019 , 90068 , 90045 , 90255 , 90045 , \n",
    "             90043 , 90011 , 90035 , 90035 , 90008 , 90043 , 90059 , 90036 , 90026 , 90039 , 90004 , \n",
    "             90230 , 90036 , 90303 , 90034 , 90035 , 90006 , 90041 , 90047 , 90019 , 90018 , 90019 , \n",
    "             90016 , 90004 , 90004 , 90016 , 90230 , 90016 , 90019 , 90006 , 90005 , 90019 , 90018 , \n",
    "             90056 , 90037 , 90018 , 90045 , 90222 , 90061 , 90061 , 90018 , 90019 , 90014 , 90007 , \n",
    "             90016 , 90037 , 90005 , 90272 , 90272 , 90056 , 90019 , 90066 , 90037 , 90037 , 90037 , \n",
    "             90019 , 90007 , 90036 , 90019 , 90305 , 90062 , 90062 , 90068 , 90006 , 90018 , 90230 , \n",
    "             90020 , 90004 , 90019 , 90035 , 90028 , 90016 , 90020 , 90034 , 90038 , 90016 , 90036 , \n",
    "             90025 , 90035 , 90035 , 90026 , 90056 , 90019 , 90016 , 90024 , 90007 , 90019 , 90029 , \n",
    "             90048 , 90008 , 90019 , 90019 , 90045 , 90019 , 90011 , 90019 , 90019 , 90043 , 90043 , \n",
    "             90043 , 90230 , 90034 , 90016 , 90047 , 90016 , 90043 , 90020 , 90020 , 90003 , 90293 , \n",
    "             90046 , 90034 , 90015 , 90019 , 90006 , 90036 , 90016 , 90036 , 90047 , 90047 , 90043 , \n",
    "             90065 , 90047 , 90064 , 90018 , 90018 , 90019 , 90018 , 90063 , 90019 , 90026 , 90019 , \n",
    "             90019 , 90019 , 90004 , 90019 , 90056 , 90018 , 90057 , 90008 , 90008 , 90036 , 90038 , \n",
    "             90024 , 90004 , 90026 , 90004 , 90036 , 90008 , 90016 , 90034 , 90038 , 90019 , 90019 , \n",
    "             90019 , 90094 , 90069 , 90016 , 90005 , 90046 , 90043 , 90025 , 90033 , 90033 , 90043 , \n",
    "             90272 , 90027 , 90020 , 90305 , 90048 , 90033 , 90064 , 90049 , 90004 , 90011 , 90020 , \n",
    "             90046 , 90066 , 90066 , 90066 , 90045 , 90045 , 90048 , 90049 , 90008 , 90034 , 90035 , \n",
    "             90303 , 90303 , 90042 , 90043 , 90043 , 90019 , 90272 , 90036 , 90016 , 90019 , 90019 , \n",
    "             90019 , 90036 , 90019 , 90037 , 90048 , 90019 , 90019 , 90024 , 90025 , 90036 , 90045 , \n",
    "             90043 , 90043 , 90016 , 90018 , 90019 , 90043 , 90035 , 90019 , 90301 , 90035 , 90019 , \n",
    "             90039 , 90019 , 90272 , 90047 , 90057 , 90019 , 90004 , 90037 , 90037 , 90027 , 90004 , \n",
    "             90042 , 90042 , 90045 , 90006 , 90043 , 90020 , 90057 , 90008 , 90045 , 90046 , 90002 , \n",
    "             90012 , 90012 , 90003 , 90003 , 90029 , 90005 , 90012 , 90019 , 90047 , 90302 , 90302 , \n",
    "             90020 , 90019 , 90019 , 90019 , 90018 , 90232 , 90230 , 90230 , 90230 , 90019 , 90016 , \n",
    "             90048 , 90008 , 90016 , 90019 , 90016 , 90019 , 90019 , 90048 , 90036 , 90048 , 90018 , \n",
    "             90028 , 90016 , 90019 , 90019 , 90004 , 90007 , 90045 , 90069 , 90019 , 90047 , 90232 , \n",
    "             90036 , 90019 , 90019 , 90035 , 90036 , 90057 , 90011 , 90044 , 90025 , 90031 , 90032 , \n",
    "             90066 , 90019 , 90001 , 90001 , 90008 , 90057 , 90029 , 90029 , 90045 , 90045 , 90019 , \n",
    "             90065 , 90034 , 90019 , 90037 , 90020 , 90272 , 90036 , 90036 , 90048 , 90048 , 90039 , \n",
    "             90036 , 90046 , 90036 , 90046 , 90094 , 90004 , 90043 , 90016 , 90019 , 90018 , 90004 , \n",
    "             90046 , 90046 , 90036 , 90047 , 90047 , 90034 , 90056 , 90043 , 90036 , 90004 , \n",
    "             90703 , 90019 , 90027 , 90035 , 90046 , 90035 , 90035 , 90035 , 90036 , 90029 , 90247 , \n",
    "             90230 , 90047 , 90045 , 90036 , 90019 , 90004 , 90016 , 90018 , 90272 , 90038 , 90005 , \n",
    "             90027 , 90018 , 90007 , 90255 , 90062 , 90019 , 90019 , 90035 , 90048 , 90305 , 90029 , \n",
    "             90018 , 90037 , 90064 , 90036 , 90008 , 90018 , 90048 , 90047 , 90019 , 90019 , 90045 , \n",
    "             90064 , 90019 , 90019 , 90016 , 90034 , 90020 , 90005 , 90062 , 90062 , 90018]\n",
    "\n",
    "unique_zips = set(zip_codes)\n",
    "\n",
    "GALA_Address = '1067 West Blvd, Los Angeles, CA 90019'\n",
    "\n",
    "gala_lat = 34.05544\n",
    "gala_long = -118.33132"
   ]
  },
  {
   "cell_type": "markdown",
   "metadata": {},
   "source": [
    "### Create a DataFrame and GeoDataFrame\n",
    "\n",
    "The <code>zip_df</code> will contain all the ZIP codes in the United States and the coordinates of the post office the serves the ZIP code.\n",
    "\n",
    "The <code>geo_df</code> holds the shapefiles or geometry of each ZIP code"
   ]
  },
  {
   "cell_type": "code",
   "execution_count": 12,
   "metadata": {},
   "outputs": [
    {
     "data": {
      "text/html": [
       "<div>\n",
       "<style scoped>\n",
       "    .dataframe tbody tr th:only-of-type {\n",
       "        vertical-align: middle;\n",
       "    }\n",
       "\n",
       "    .dataframe tbody tr th {\n",
       "        vertical-align: top;\n",
       "    }\n",
       "\n",
       "    .dataframe thead th {\n",
       "        text-align: right;\n",
       "    }\n",
       "</style>\n",
       "<table border=\"1\" class=\"dataframe\">\n",
       "  <thead>\n",
       "    <tr style=\"text-align: right;\">\n",
       "      <th></th>\n",
       "      <th>AFFGEOID10</th>\n",
       "      <th>GEOID10</th>\n",
       "      <th>ALAND10</th>\n",
       "      <th>AWATER10</th>\n",
       "      <th>geometry</th>\n",
       "    </tr>\n",
       "    <tr>\n",
       "      <th>ZCTA5CE10</th>\n",
       "      <th></th>\n",
       "      <th></th>\n",
       "      <th></th>\n",
       "      <th></th>\n",
       "      <th></th>\n",
       "    </tr>\n",
       "  </thead>\n",
       "  <tbody>\n",
       "    <tr>\n",
       "      <th>35442</th>\n",
       "      <td>8600000US35442</td>\n",
       "      <td>35442</td>\n",
       "      <td>610213891</td>\n",
       "      <td>10838694</td>\n",
       "      <td>(POLYGON ((-88.252618 32.92675, -88.249724 32....</td>\n",
       "    </tr>\n",
       "    <tr>\n",
       "      <th>85365</th>\n",
       "      <td>8600000US85365</td>\n",
       "      <td>85365</td>\n",
       "      <td>3545016067</td>\n",
       "      <td>9766486</td>\n",
       "      <td>(POLYGON ((-114.684663 32.687389, -114.676063 ...</td>\n",
       "    </tr>\n",
       "    <tr>\n",
       "      <th>71973</th>\n",
       "      <td>8600000US71973</td>\n",
       "      <td>71973</td>\n",
       "      <td>204670474</td>\n",
       "      <td>1264709</td>\n",
       "      <td>POLYGON ((-94.46643176650841 34.330735, -94.46...</td>\n",
       "    </tr>\n",
       "    <tr>\n",
       "      <th>95445</th>\n",
       "      <td>8600000US95445</td>\n",
       "      <td>95445</td>\n",
       "      <td>221559097</td>\n",
       "      <td>7363179</td>\n",
       "      <td>POLYGON ((-123.643051 38.851233, -123.641401 3...</td>\n",
       "    </tr>\n",
       "    <tr>\n",
       "      <th>06870</th>\n",
       "      <td>8600000US06870</td>\n",
       "      <td>06870</td>\n",
       "      <td>5945321</td>\n",
       "      <td>3841130</td>\n",
       "      <td>POLYGON ((-73.58765810889219 41.0076522198727,...</td>\n",
       "    </tr>\n",
       "  </tbody>\n",
       "</table>\n",
       "</div>"
      ],
      "text/plain": [
       "               AFFGEOID10 GEOID10     ALAND10  AWATER10  \\\n",
       "ZCTA5CE10                                                 \n",
       "35442      8600000US35442   35442   610213891  10838694   \n",
       "85365      8600000US85365   85365  3545016067   9766486   \n",
       "71973      8600000US71973   71973   204670474   1264709   \n",
       "95445      8600000US95445   95445   221559097   7363179   \n",
       "06870      8600000US06870   06870     5945321   3841130   \n",
       "\n",
       "                                                    geometry  \n",
       "ZCTA5CE10                                                     \n",
       "35442      (POLYGON ((-88.252618 32.92675, -88.249724 32....  \n",
       "85365      (POLYGON ((-114.684663 32.687389, -114.676063 ...  \n",
       "71973      POLYGON ((-94.46643176650841 34.330735, -94.46...  \n",
       "95445      POLYGON ((-123.643051 38.851233, -123.641401 3...  \n",
       "06870      POLYGON ((-73.58765810889219 41.0076522198727,...  "
      ]
     },
     "execution_count": 12,
     "metadata": {},
     "output_type": "execute_result"
    }
   ],
   "source": [
    "zip_df = pd.read_csv(\"free-zipcode-database-Primary.csv\",index_col=0)\n",
    "\n",
    "geo_df = gpd.read_file('data/cb_2017_us_zcta510_500k/cb_2017_us_zcta510_500k.shp') \n",
    "geo_df.set_index(\"ZCTA5CE10\", inplace=True)\n",
    "geo_df.head()"
   ]
  },
  {
   "cell_type": "markdown",
   "metadata": {},
   "source": [
    "## Saving geometry info for the unique ZIP codes\n",
    "\n",
    "### DateFrame & GeoDataFrame Attributes and Methods. \n",
    "\n",
    "When we cover the topic of **Classes**, we will dive deeper into the difference between attributes, and methods.  I think based on the names we can deduce that an attribute is a feature or part of an object, in our case a GeoDataFrame.  While a method, is something that can be done to an object.\n",
    "\n",
    "Take a look at the <code>.index</code> **attribute**.  Notice that an attribute looks like a method without the parentheses at the end. "
   ]
  },
  {
   "cell_type": "code",
   "execution_count": 13,
   "metadata": {},
   "outputs": [
    {
     "data": {
      "text/plain": [
       "Index(['35442', '85365', '71973', '95445', '06870', '19964', '32233', '90401',\n",
       "       '30817', '30458',\n",
       "       ...\n",
       "       '24719', '50163', '05776', '39059', '14592', '50565', '20566', '08562',\n",
       "       '08069', '88349'],\n",
       "      dtype='object', name='ZCTA5CE10', length=33144)"
      ]
     },
     "execution_count": 13,
     "metadata": {},
     "output_type": "execute_result"
    }
   ],
   "source": [
    "geo_df.index"
   ]
  },
  {
   "cell_type": "markdown",
   "metadata": {},
   "source": [
    "### Using the <code>.isin()</code> Method for reducing our list.\n",
    "\n",
    "Comparing the two cells above we see that the index of our GeoDataFrame is the ZCTA5CE10 column. That is good news, since if you recall, those are the ZIP codes in the file. \n",
    "\n",
    "The <code>.isin()</code> Method requires a list of strings as an input, even when looking up one ZIP code:\n"
   ]
  },
  {
   "cell_type": "code",
   "execution_count": 14,
   "metadata": {},
   "outputs": [
    {
     "data": {
      "text/plain": [
       "array([False, False, False, ..., False, False, False], dtype=bool)"
      ]
     },
     "execution_count": 14,
     "metadata": {},
     "output_type": "execute_result"
    }
   ],
   "source": [
    "geo_df.index.isin(['90036'])"
   ]
  },
  {
   "cell_type": "markdown",
   "metadata": {},
   "source": [
    "Notice that the output is an array of Booleans.  To see just the one ZIP code, we need to use the \"is in index\" as a test to return the location. This would be useful to loop through, though thankfully DateFrames & GeoDataFrames can place the test inside a look up, or simply, by wrapping the above code in square brackets:"
   ]
  },
  {
   "cell_type": "code",
   "execution_count": 15,
   "metadata": {},
   "outputs": [
    {
     "data": {
      "text/html": [
       "<div>\n",
       "<style scoped>\n",
       "    .dataframe tbody tr th:only-of-type {\n",
       "        vertical-align: middle;\n",
       "    }\n",
       "\n",
       "    .dataframe tbody tr th {\n",
       "        vertical-align: top;\n",
       "    }\n",
       "\n",
       "    .dataframe thead th {\n",
       "        text-align: right;\n",
       "    }\n",
       "</style>\n",
       "<table border=\"1\" class=\"dataframe\">\n",
       "  <thead>\n",
       "    <tr style=\"text-align: right;\">\n",
       "      <th></th>\n",
       "      <th>AFFGEOID10</th>\n",
       "      <th>GEOID10</th>\n",
       "      <th>ALAND10</th>\n",
       "      <th>AWATER10</th>\n",
       "      <th>geometry</th>\n",
       "    </tr>\n",
       "    <tr>\n",
       "      <th>ZCTA5CE10</th>\n",
       "      <th></th>\n",
       "      <th></th>\n",
       "      <th></th>\n",
       "      <th></th>\n",
       "      <th></th>\n",
       "    </tr>\n",
       "  </thead>\n",
       "  <tbody>\n",
       "    <tr>\n",
       "      <th>90036</th>\n",
       "      <td>8600000US90036</td>\n",
       "      <td>90036</td>\n",
       "      <td>6398098</td>\n",
       "      <td>3300</td>\n",
       "      <td>POLYGON ((-118.361375 34.062967, -118.361452 3...</td>\n",
       "    </tr>\n",
       "  </tbody>\n",
       "</table>\n",
       "</div>"
      ],
      "text/plain": [
       "               AFFGEOID10 GEOID10  ALAND10  AWATER10  \\\n",
       "ZCTA5CE10                                              \n",
       "90036      8600000US90036   90036  6398098      3300   \n",
       "\n",
       "                                                    geometry  \n",
       "ZCTA5CE10                                                     \n",
       "90036      POLYGON ((-118.361375 34.062967, -118.361452 3...  "
      ]
     },
     "execution_count": 15,
     "metadata": {},
     "output_type": "execute_result"
    }
   ],
   "source": [
    "geo_df[geo_df.index.isin(['90036'])]"
   ]
  },
  {
   "cell_type": "markdown",
   "metadata": {},
   "source": [
    "### Creating a GeoDataFrame for our unique ZIP Codes\n",
    "\n",
    "I am hoping you caught the fact that I said the <code>.isin()</code> method requires a *list* of *strings*. Right now our unique ZIP Codes are a *set* of *ints*.  So let's convert them with the <code>map</code> function:\n",
    "\n",
    "Python map() function is used to apply a function to all the elements of specified iterable(list, set, etc...) and return a map object.  This map object needs to then be converted to the final object type.  In our case a list, so we will wrap the map function to a list.  The other nice feature of the map function, is the ability to assign a data type to the values to be stored.  In our case we want strings:"
   ]
  },
  {
   "cell_type": "code",
   "execution_count": 16,
   "metadata": {},
   "outputs": [
    {
     "name": "stdout",
     "output_type": "stream",
     "text": [
      "['90247', '90255', '90001', '90002', '90003', '90004', '90005', '90006', '90007', '90008', '90011', '90012', '90014', '90015', '90272', '90016', '90018', '90019', '90020', '90024', '90025', '90026', '90027', '90028', '90029', '90031', '90032', '90033', '90034', '90035', '90036', '90037', '90038', '90039', '90293', '90041', '90042', '90043', '90044', '90045', '90046', '90047', '90303', '90305', '90048', '90049', '90301', '90302', '90056', '90057', '90059', '90061', '90062', '90063', '90064', '90065', '90066', '90703', '90068', '90069', '90222', '90094', '90230', '90232']\n"
     ]
    }
   ],
   "source": [
    "unique_zips_list = list(map(str, unique_zips))\n",
    "\n",
    "print(unique_zips_list)"
   ]
  },
  {
   "cell_type": "code",
   "execution_count": 17,
   "metadata": {},
   "outputs": [
    {
     "data": {
      "text/html": [
       "<div>\n",
       "<style scoped>\n",
       "    .dataframe tbody tr th:only-of-type {\n",
       "        vertical-align: middle;\n",
       "    }\n",
       "\n",
       "    .dataframe tbody tr th {\n",
       "        vertical-align: top;\n",
       "    }\n",
       "\n",
       "    .dataframe thead th {\n",
       "        text-align: right;\n",
       "    }\n",
       "</style>\n",
       "<table border=\"1\" class=\"dataframe\">\n",
       "  <thead>\n",
       "    <tr style=\"text-align: right;\">\n",
       "      <th></th>\n",
       "      <th>AFFGEOID10</th>\n",
       "      <th>GEOID10</th>\n",
       "      <th>ALAND10</th>\n",
       "      <th>AWATER10</th>\n",
       "      <th>geometry</th>\n",
       "    </tr>\n",
       "    <tr>\n",
       "      <th>ZCTA5CE10</th>\n",
       "      <th></th>\n",
       "      <th></th>\n",
       "      <th></th>\n",
       "      <th></th>\n",
       "      <th></th>\n",
       "    </tr>\n",
       "  </thead>\n",
       "  <tbody>\n",
       "    <tr>\n",
       "      <th>90008</th>\n",
       "      <td>8600000US90008</td>\n",
       "      <td>90008</td>\n",
       "      <td>9513272</td>\n",
       "      <td>68544</td>\n",
       "      <td>POLYGON ((-118.374079 34.014851, -118.372627 3...</td>\n",
       "    </tr>\n",
       "    <tr>\n",
       "      <th>90014</th>\n",
       "      <td>8600000US90014</td>\n",
       "      <td>90014</td>\n",
       "      <td>733437</td>\n",
       "      <td>0</td>\n",
       "      <td>POLYGON ((-118.257926 34.045849, -118.253932 3...</td>\n",
       "    </tr>\n",
       "    <tr>\n",
       "      <th>90094</th>\n",
       "      <td>8600000US90094</td>\n",
       "      <td>90094</td>\n",
       "      <td>1579922</td>\n",
       "      <td>0</td>\n",
       "      <td>POLYGON ((-118.428085 33.976749, -118.42691 33...</td>\n",
       "    </tr>\n",
       "    <tr>\n",
       "      <th>90001</th>\n",
       "      <td>8600000US90001</td>\n",
       "      <td>90001</td>\n",
       "      <td>9071080</td>\n",
       "      <td>0</td>\n",
       "      <td>POLYGON ((-118.265185 33.989227, -118.256436 3...</td>\n",
       "    </tr>\n",
       "    <tr>\n",
       "      <th>90006</th>\n",
       "      <td>8600000US90006</td>\n",
       "      <td>90006</td>\n",
       "      <td>4972252</td>\n",
       "      <td>0</td>\n",
       "      <td>POLYGON ((-118.309033 34.047192, -118.309041 3...</td>\n",
       "    </tr>\n",
       "  </tbody>\n",
       "</table>\n",
       "</div>"
      ],
      "text/plain": [
       "               AFFGEOID10 GEOID10  ALAND10  AWATER10  \\\n",
       "ZCTA5CE10                                              \n",
       "90008      8600000US90008   90008  9513272     68544   \n",
       "90014      8600000US90014   90014   733437         0   \n",
       "90094      8600000US90094   90094  1579922         0   \n",
       "90001      8600000US90001   90001  9071080         0   \n",
       "90006      8600000US90006   90006  4972252         0   \n",
       "\n",
       "                                                    geometry  \n",
       "ZCTA5CE10                                                     \n",
       "90008      POLYGON ((-118.374079 34.014851, -118.372627 3...  \n",
       "90014      POLYGON ((-118.257926 34.045849, -118.253932 3...  \n",
       "90094      POLYGON ((-118.428085 33.976749, -118.42691 33...  \n",
       "90001      POLYGON ((-118.265185 33.989227, -118.256436 3...  \n",
       "90006      POLYGON ((-118.309033 34.047192, -118.309041 3...  "
      ]
     },
     "execution_count": 17,
     "metadata": {},
     "output_type": "execute_result"
    }
   ],
   "source": [
    "la_geo_df = geo_df[geo_df.index.isin(unique_zips_list)]\n",
    "\n",
    "la_geo_df.head()"
   ]
  },
  {
   "cell_type": "markdown",
   "metadata": {},
   "source": [
    "# Introducing the Pickle Files\n",
    "\n",
    "Pickle files, are used for serializing and de-serializing a Python object structure. Meaning any object in python can be pickled so that it can be saved on disk. Pickle “serialises” the object first before writing it to file. Pickling is a way to convert a python object (list, dictionary, DataFrame, etc.) into a character stream. The idea is that this character stream contains all the information necessary to reconstruct the object in another python script, or import the data.  \n",
    "\n",
    "Unlike other formats, pickle files are not human readable and do not have built in security, so are quite small and fast. A JSON file is better, if you need more security or what human readable data. In our case, we just want away to store a smaller set of data to use for future versions of these lessons without, have to rerun all the code on this page. \n"
   ]
  },
  {
   "cell_type": "code",
   "execution_count": 18,
   "metadata": {},
   "outputs": [],
   "source": [
    "la_geo_df.to_pickle(\"./data/la_geo_df.pkl\")"
   ]
  },
  {
   "cell_type": "markdown",
   "metadata": {},
   "source": [
    "### Reading the Pickle back in"
   ]
  },
  {
   "cell_type": "code",
   "execution_count": 19,
   "metadata": {},
   "outputs": [
    {
     "data": {
      "text/html": [
       "<div>\n",
       "<style scoped>\n",
       "    .dataframe tbody tr th:only-of-type {\n",
       "        vertical-align: middle;\n",
       "    }\n",
       "\n",
       "    .dataframe tbody tr th {\n",
       "        vertical-align: top;\n",
       "    }\n",
       "\n",
       "    .dataframe thead th {\n",
       "        text-align: right;\n",
       "    }\n",
       "</style>\n",
       "<table border=\"1\" class=\"dataframe\">\n",
       "  <thead>\n",
       "    <tr style=\"text-align: right;\">\n",
       "      <th></th>\n",
       "      <th>AFFGEOID10</th>\n",
       "      <th>GEOID10</th>\n",
       "      <th>ALAND10</th>\n",
       "      <th>AWATER10</th>\n",
       "      <th>geometry</th>\n",
       "    </tr>\n",
       "    <tr>\n",
       "      <th>ZCTA5CE10</th>\n",
       "      <th></th>\n",
       "      <th></th>\n",
       "      <th></th>\n",
       "      <th></th>\n",
       "      <th></th>\n",
       "    </tr>\n",
       "  </thead>\n",
       "  <tbody>\n",
       "    <tr>\n",
       "      <th>90008</th>\n",
       "      <td>8600000US90008</td>\n",
       "      <td>90008</td>\n",
       "      <td>9513272</td>\n",
       "      <td>68544</td>\n",
       "      <td>POLYGON ((-118.374079 34.014851, -118.372627 3...</td>\n",
       "    </tr>\n",
       "    <tr>\n",
       "      <th>90014</th>\n",
       "      <td>8600000US90014</td>\n",
       "      <td>90014</td>\n",
       "      <td>733437</td>\n",
       "      <td>0</td>\n",
       "      <td>POLYGON ((-118.257926 34.045849, -118.253932 3...</td>\n",
       "    </tr>\n",
       "    <tr>\n",
       "      <th>90094</th>\n",
       "      <td>8600000US90094</td>\n",
       "      <td>90094</td>\n",
       "      <td>1579922</td>\n",
       "      <td>0</td>\n",
       "      <td>POLYGON ((-118.428085 33.976749, -118.42691 33...</td>\n",
       "    </tr>\n",
       "    <tr>\n",
       "      <th>90001</th>\n",
       "      <td>8600000US90001</td>\n",
       "      <td>90001</td>\n",
       "      <td>9071080</td>\n",
       "      <td>0</td>\n",
       "      <td>POLYGON ((-118.265185 33.989227, -118.256436 3...</td>\n",
       "    </tr>\n",
       "    <tr>\n",
       "      <th>90006</th>\n",
       "      <td>8600000US90006</td>\n",
       "      <td>90006</td>\n",
       "      <td>4972252</td>\n",
       "      <td>0</td>\n",
       "      <td>POLYGON ((-118.309033 34.047192, -118.309041 3...</td>\n",
       "    </tr>\n",
       "  </tbody>\n",
       "</table>\n",
       "</div>"
      ],
      "text/plain": [
       "               AFFGEOID10 GEOID10  ALAND10  AWATER10  \\\n",
       "ZCTA5CE10                                              \n",
       "90008      8600000US90008   90008  9513272     68544   \n",
       "90014      8600000US90014   90014   733437         0   \n",
       "90094      8600000US90094   90094  1579922         0   \n",
       "90001      8600000US90001   90001  9071080         0   \n",
       "90006      8600000US90006   90006  4972252         0   \n",
       "\n",
       "                                                    geometry  \n",
       "ZCTA5CE10                                                     \n",
       "90008      POLYGON ((-118.374079 34.014851, -118.372627 3...  \n",
       "90014      POLYGON ((-118.257926 34.045849, -118.253932 3...  \n",
       "90094      POLYGON ((-118.428085 33.976749, -118.42691 33...  \n",
       "90001      POLYGON ((-118.265185 33.989227, -118.256436 3...  \n",
       "90006      POLYGON ((-118.309033 34.047192, -118.309041 3...  "
      ]
     },
     "execution_count": 19,
     "metadata": {},
     "output_type": "execute_result"
    }
   ],
   "source": [
    "la_geo_df = pd.read_pickle(\"./data/la_geo_df.pkl\")\n",
    "la_geo_df.head()"
   ]
  },
  {
   "cell_type": "markdown",
   "metadata": {},
   "source": [
    "# Expanding Our Counting Loop\n",
    "\n",
    "When we plotted the ZIP codes on our v1 map, we used a loop to create a dictionary which contained the ZIP Code as the key, and a list which contained the number of students per ZIP code, Latitude & Longitude, as the values.  We can now add the geometry in the same loop:"
   ]
  },
  {
   "cell_type": "code",
   "execution_count": 20,
   "metadata": {},
   "outputs": [],
   "source": [
    "zip_count = {}\n",
    "\n",
    "for zip_code in unique_zips:\n",
    "    lat = zip_df.loc[zip_code]['Lat']\n",
    "    long = zip_df.loc[zip_code]['Long']\n",
    "    geometry = la_geo_df.loc[str(zip_code)]['geometry']\n",
    "    zip_count[str(zip_code)] = [zip_codes.count(zip_code), lat, long, geometry]\n",
    "    "
   ]
  },
  {
   "cell_type": "markdown",
   "metadata": {},
   "source": [
    "# Our Final DataFrame\n",
    "\n",
    "Geometry objects tend to work better in DataFrames, and are a more \"Standard\" data science tool for dealing with data.  One way we could address this, is have our loop make the DataFrame, though it quite common to do looping to first create a dictionary, then convert the dictionary into a DataFrame. To do so,  use the <code>pandas.DataFrame.from_dict()</code> method.  And to tidy things up, add column names by passing a list of names into the <code>.columns</code> attribute. \n",
    "\n",
    "Notice no parentheses?\n"
   ]
  },
  {
   "cell_type": "code",
   "execution_count": 21,
   "metadata": {},
   "outputs": [
    {
     "data": {
      "text/html": [
       "<div>\n",
       "<style scoped>\n",
       "    .dataframe tbody tr th:only-of-type {\n",
       "        vertical-align: middle;\n",
       "    }\n",
       "\n",
       "    .dataframe tbody tr th {\n",
       "        vertical-align: top;\n",
       "    }\n",
       "\n",
       "    .dataframe thead th {\n",
       "        text-align: right;\n",
       "    }\n",
       "</style>\n",
       "<table border=\"1\" class=\"dataframe\">\n",
       "  <thead>\n",
       "    <tr style=\"text-align: right;\">\n",
       "      <th></th>\n",
       "      <th>Number of Students</th>\n",
       "      <th>Latitude</th>\n",
       "      <th>Longitude</th>\n",
       "      <th>geometry</th>\n",
       "    </tr>\n",
       "  </thead>\n",
       "  <tbody>\n",
       "    <tr>\n",
       "      <th>90247</th>\n",
       "      <td>1</td>\n",
       "      <td>33.89</td>\n",
       "      <td>-118.29</td>\n",
       "      <td>POLYGON ((-118.313476 33.887061, -118.30914 33...</td>\n",
       "    </tr>\n",
       "    <tr>\n",
       "      <th>90255</th>\n",
       "      <td>4</td>\n",
       "      <td>33.97</td>\n",
       "      <td>-118.21</td>\n",
       "      <td>POLYGON ((-118.237907 33.98933299999999, -118....</td>\n",
       "    </tr>\n",
       "    <tr>\n",
       "      <th>90001</th>\n",
       "      <td>3</td>\n",
       "      <td>33.97</td>\n",
       "      <td>-118.24</td>\n",
       "      <td>POLYGON ((-118.265185 33.989227, -118.256436 3...</td>\n",
       "    </tr>\n",
       "    <tr>\n",
       "      <th>90002</th>\n",
       "      <td>1</td>\n",
       "      <td>33.94</td>\n",
       "      <td>-118.24</td>\n",
       "      <td>POLYGON ((-118.265118 33.96013, -118.258575 33...</td>\n",
       "    </tr>\n",
       "    <tr>\n",
       "      <th>90003</th>\n",
       "      <td>3</td>\n",
       "      <td>33.96</td>\n",
       "      <td>-118.27</td>\n",
       "      <td>POLYGON ((-118.283204 33.989139, -118.28039 33...</td>\n",
       "    </tr>\n",
       "  </tbody>\n",
       "</table>\n",
       "</div>"
      ],
      "text/plain": [
       "       Number of Students  Latitude  Longitude  \\\n",
       "90247                   1     33.89    -118.29   \n",
       "90255                   4     33.97    -118.21   \n",
       "90001                   3     33.97    -118.24   \n",
       "90002                   1     33.94    -118.24   \n",
       "90003                   3     33.96    -118.27   \n",
       "\n",
       "                                                geometry  \n",
       "90247  POLYGON ((-118.313476 33.887061, -118.30914 33...  \n",
       "90255  POLYGON ((-118.237907 33.98933299999999, -118....  \n",
       "90001  POLYGON ((-118.265185 33.989227, -118.256436 3...  \n",
       "90002  POLYGON ((-118.265118 33.96013, -118.258575 33...  \n",
       "90003  POLYGON ((-118.283204 33.989139, -118.28039 33...  "
      ]
     },
     "execution_count": 21,
     "metadata": {},
     "output_type": "execute_result"
    }
   ],
   "source": [
    "gala_zip_df = pd.DataFrame.from_dict(zip_count, orient='index')\n",
    "gala_zip_df.columns = ['Number of Students', 'Latitude', 'Longitude','geometry']\n",
    "gala_zip_df.head()"
   ]
  },
  {
   "cell_type": "markdown",
   "metadata": {},
   "source": [
    "# Saving Our Pickle\n",
    "\n",
    "The only file we will need moving forward is our pickled data:"
   ]
  },
  {
   "cell_type": "code",
   "execution_count": 22,
   "metadata": {},
   "outputs": [],
   "source": [
    "gala_zip_df.to_pickle(\"./data/gala_zip_df.pkl\")"
   ]
  }
 ],
 "metadata": {
  "kernelspec": {
   "display_name": "Python 3",
   "language": "python",
   "name": "python3"
  },
  "language_info": {
   "codemirror_mode": {
    "name": "ipython",
    "version": 3
   },
   "file_extension": ".py",
   "mimetype": "text/x-python",
   "name": "python",
   "nbconvert_exporter": "python",
   "pygments_lexer": "ipython3",
   "version": "3.6.4"
  }
 },
 "nbformat": 4,
 "nbformat_minor": 2
}
