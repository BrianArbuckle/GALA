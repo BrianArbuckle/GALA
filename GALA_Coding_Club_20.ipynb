{
 "cells": [
  {
   "cell_type": "markdown",
   "metadata": {},
   "source": [
    "# More Function Challenges\n",
    "\n",
    "Write two functions.\n",
    "\n",
    "1. Celsius °C to Fahrenheit °F converter:\n",
    "    ### $\\frac{9}{5}$ $\\times$\t$c$ $+$ $32$<br>\n",
    "2. Find the area of a circle with the radius:\n",
    "    ### $a = \\pi \\times r^2$<br>\n",
    "    \n",
    "The two functions are started below, as well as several test lists. "
   ]
  },
  {
   "cell_type": "code",
   "execution_count": 20,
   "metadata": {},
   "outputs": [],
   "source": [
    "def c_to_f(c):\n",
    "    pass"
   ]
  },
  {
   "cell_type": "code",
   "execution_count": 21,
   "metadata": {},
   "outputs": [],
   "source": [
    "import math\n",
    "\n",
    "def area_circle(r):\n",
    "    pass"
   ]
  },
  {
   "cell_type": "code",
   "execution_count": 25,
   "metadata": {},
   "outputs": [],
   "source": [
    "c_temps = [12,0,24,34,32,12,22,25,18,30,12,23,26,19,-2,20.5,16.7,7,12,17]\n",
    "radii = [67, 59, 72, 47, 61, 93, 11, 84, 86, 65, 70, 50, 50, 75, 58, 11, \n",
    "         100, 19, 20, 60, 25, 66, 16, 83, 48, 48, 95, 63, 32, 53, 45, 3, \n",
    "         36, 49, 52, 62, 67, 40, 89, 9, 51, 72, 81, 40, 80, 96, 17, 36, \n",
    "         99, 5, 99, 21, 62, 79, 39, 74, 54, 65, 3, 76, 1, 58, 73, 81, 60, \n",
    "         95, 30, 74, 90, 65, 27, 15, 34, 49, 61, 68, 9, 70, 33, 52, 15, \n",
    "         84, 92, 75, 67, 46, 43, 34, 85, 85, 45, 57, 10, 58, 15, 5, 45, \n",
    "         17, 54, 100]"
   ]
  },
  {
   "cell_type": "markdown",
   "metadata": {},
   "source": [
    "Loop through the lists to create a new list - the first one is provided:"
   ]
  },
  {
   "cell_type": "code",
   "execution_count": 26,
   "metadata": {},
   "outputs": [],
   "source": [
    "f_temps = []\n",
    "\n",
    "for c in c_temps:\n",
    "    f = c_to_f(c)\n",
    "    f_temps.append(f)"
   ]
  },
  {
   "cell_type": "code",
   "execution_count": null,
   "metadata": {},
   "outputs": [],
   "source": []
  },
  {
   "cell_type": "code",
   "execution_count": null,
   "metadata": {},
   "outputs": [],
   "source": []
  },
  {
   "cell_type": "code",
   "execution_count": null,
   "metadata": {},
   "outputs": [],
   "source": []
  }
 ],
 "metadata": {
  "kernelspec": {
   "display_name": "Python 3",
   "language": "python",
   "name": "python3"
  },
  "language_info": {
   "codemirror_mode": {
    "name": "ipython",
    "version": 3
   },
   "file_extension": ".py",
   "mimetype": "text/x-python",
   "name": "python",
   "nbconvert_exporter": "python",
   "pygments_lexer": "ipython3",
   "version": "3.7.3"
  }
 },
 "nbformat": 4,
 "nbformat_minor": 2
}
