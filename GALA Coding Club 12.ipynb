{
 "cells": [
  {
   "cell_type": "markdown",
   "metadata": {},
   "source": [
    "# Review:\n",
    "\n",
    "## Data Structures\n",
    "\n",
    "Let’s review *all* the built in python **data structures** that we have learned - and yes, you now know them all! Way to go!!  \n",
    "\n",
    "Data structures store a collection of data and they are iterable, meaning you can loop through each element. The types of data structures provide programers with a variety of options when dealing with a collection of data. \n",
    "\n",
    "## Lists\n",
    "\n",
    "A ***List*** is a collection of items in a specific order that is mutable, or changeable.  Square brackets `[ ]` indicate a list, and empty brackets can define an empty list. `my_list = []`\n",
    "\n",
    "\n",
    "## Tuples.\n",
    "\n",
    "A ***Tuple*** is a collection of items in a specific order that is immutable, or unchangeable.  Parentheses `( )` usually indicate a Tuple, and empty parentheses can define an empty tuple. `my_tuple = ()`\n",
    "\n",
    "## Sets\n",
    "\n",
    "A ***Set*** is a collection of items that is unordered, mutable, or changeable but has no duplicates, another way to think of them is as a mathematical notion of a set.  Sets are created with the `set()` function applied to a list. Creating a set requires both the square brackets `[ ]` or a list inside parentheses `( )`.  `my_set = set([1,2,3,4,5,6])` or `my_set = set(my_list)`\n",
    "\n",
    "## Dictionaries\n",
    "\n",
    "A ***Dictionary*** is a group of items; each item consists of a *key* and a *value*. Braces `{ }` indicate a dictionary, and empty braces can define and empty dictionary. `my_dictionary = {}`\n",
    "\n",
    "----\n",
    "\n",
    "# Other Data Structures (they are not built in and need to be imported)\n",
    "\n",
    "## Pandas\n",
    "\n",
    "We have used pandas, though I have only touched on them as they are quite complicated, yet unavoidable for the data required for our project.    We will not go that deep into Pandas, as we could spend a full semester going through just some of the details.  A general note about Pandas data structures, which are called DataFrames, they are tabular, or they are tables. These tables can import many data structures including, but in no way limited to, SQL DataBases, JSON Files, CSV, Excel, HDF5, SAS, Pickle, Stata, Google Big Query, etc…\n",
    "\n",
    "You can also convert lists, tuples, sets, and dictionaries to data frames.  I have created the table below to show you the various properties of all the data structures we have talked about:"
   ]
  },
  {
   "cell_type": "code",
   "execution_count": 61,
   "metadata": {},
   "outputs": [
    {
     "data": {
      "text/html": [
       "<div>\n",
       "<style scoped>\n",
       "    .dataframe tbody tr th:only-of-type {\n",
       "        vertical-align: middle;\n",
       "    }\n",
       "\n",
       "    .dataframe tbody tr th {\n",
       "        vertical-align: top;\n",
       "    }\n",
       "\n",
       "    .dataframe thead th {\n",
       "        text-align: right;\n",
       "    }\n",
       "</style>\n",
       "<table border=\"1\" class=\"dataframe\">\n",
       "  <thead>\n",
       "    <tr style=\"text-align: right;\">\n",
       "      <th></th>\n",
       "      <th>Mutability</th>\n",
       "      <th>ordered</th>\n",
       "      <th>duplicates</th>\n",
       "      <th>defined with</th>\n",
       "    </tr>\n",
       "    <tr>\n",
       "      <th>Data Structure</th>\n",
       "      <th></th>\n",
       "      <th></th>\n",
       "      <th></th>\n",
       "      <th></th>\n",
       "    </tr>\n",
       "  </thead>\n",
       "  <tbody>\n",
       "    <tr>\n",
       "      <th>Lists</th>\n",
       "      <td>mutable</td>\n",
       "      <td>ordered</td>\n",
       "      <td>duplicates</td>\n",
       "      <td>[ ]</td>\n",
       "    </tr>\n",
       "    <tr>\n",
       "      <th>Tuples</th>\n",
       "      <td>immutable</td>\n",
       "      <td>ordered</td>\n",
       "      <td>duplicates</td>\n",
       "      <td>( )</td>\n",
       "    </tr>\n",
       "    <tr>\n",
       "      <th>Sets</th>\n",
       "      <td>mutable</td>\n",
       "      <td>unordered</td>\n",
       "      <td>no duplicates</td>\n",
       "      <td>set(list) or set([ ])</td>\n",
       "    </tr>\n",
       "    <tr>\n",
       "      <th>Dictionaries</th>\n",
       "      <td>mutable</td>\n",
       "      <td>unordered-ish</td>\n",
       "      <td>duplicates</td>\n",
       "      <td>{ }</td>\n",
       "    </tr>\n",
       "    <tr>\n",
       "      <th>Pandas</th>\n",
       "      <td>mutable</td>\n",
       "      <td>ordered</td>\n",
       "      <td>duplicates</td>\n",
       "      <td>pandas package</td>\n",
       "    </tr>\n",
       "  </tbody>\n",
       "</table>\n",
       "</div>"
      ],
      "text/plain": [
       "               Mutability        ordered     duplicates           defined with\n",
       "Data Structure                                                                \n",
       "Lists             mutable        ordered     duplicates                    [ ]\n",
       "Tuples          immutable        ordered     duplicates                    ( )\n",
       "Sets              mutable      unordered  no duplicates  set(list) or set([ ])\n",
       "Dictionaries      mutable  unordered-ish     duplicates                    { }\n",
       "Pandas            mutable        ordered     duplicates         pandas package"
      ]
     },
     "execution_count": 61,
     "metadata": {},
     "output_type": "execute_result"
    }
   ],
   "source": [
    "import pandas as pd\n",
    "\n",
    "my_pandas = {'Data Structure' : ['Lists', 'Tuples', 'Sets', 'Dictionaries', 'Pandas'], \n",
    "             'Mutability' : ['mutable', 'immutable', 'mutable', 'mutable', 'mutable'],\n",
    "             'ordered' : ['ordered', 'ordered', 'unordered', 'unordered-ish', 'ordered'],\n",
    "             'duplicates' : ['duplicates', 'duplicates', 'no duplicates', 'duplicates', 'duplicates'],\n",
    "             'defined with' : ['[ ]','( )','set(list) or set([ ])','{ }','pandas package']}\n",
    "\n",
    "my_pandas_df = pd.DataFrame.from_dict(my_pandas,).set_index(keys = 'Data Structure')\n",
    "my_pandas_df"
   ]
  },
  {
   "cell_type": "markdown",
   "metadata": {},
   "source": [
    "## Adding Shapes to a Map\n",
    "\n",
    "Last week we used a list of tuples to draw a line on our map: "
   ]
  },
  {
   "cell_type": "code",
   "execution_count": 55,
   "metadata": {},
   "outputs": [
    {
     "data": {
      "text/html": [
       "<div style=\"width:100%;\"><div style=\"position:relative;width:100%;height:0;padding-bottom:60%;\"><iframe src=\"data:text/html;charset=utf-8;base64,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\" style=\"position:absolute;width:100%;height:100%;left:0;top:0;border:none !important;\" allowfullscreen webkitallowfullscreen mozallowfullscreen></iframe></div></div>"
      ],
      "text/plain": [
       "<folium.folium.Map at 0x115a8f3c8>"
      ]
     },
     "execution_count": 55,
     "metadata": {},
     "output_type": "execute_result"
    }
   ],
   "source": [
    "import folium\n",
    "from folium import plugins\n",
    "\n",
    "GALA_Address = '1067 West Blvd, Los Angeles, CA 90019'\n",
    "gala_lat = 34.05544\n",
    "gala_long = -118.33132\n",
    "\n",
    "gala_map = folium.Map(location=[gala_lat, gala_long],\n",
    "                        zoom_start=14,\n",
    "                        tiles=\"CartoDB positron\")\n",
    "\n",
    "folium.Marker(location=[gala_lat, gala_long],\n",
    "             icon=folium.Icon(color='black',icon='graduation-cap', prefix='fa'\n",
    "                             ), popup = GALA_Address).add_to(gala_map)\n",
    "\n",
    "line = [(34.0677263, -118.35418),\n",
    "         (34.0677263, -118.34418) ,\n",
    "         (34.06242,-118.34418),\n",
    "         (34.07242,-118.34418), \n",
    "         (gala_lat, gala_long),\n",
    "        (34.0677263, -118.35418)]\n",
    "\n",
    "folium.PolyLine(line, color=\"purple\", weight=2.5, opacity=1).add_to(gala_map)\n",
    "\n",
    "gala_map"
   ]
  },
  {
   "cell_type": "markdown",
   "metadata": {},
   "source": [
    "# Let's Add a Zip Code Boundary "
   ]
  },
  {
   "cell_type": "code",
   "execution_count": 39,
   "metadata": {},
   "outputs": [],
   "source": [
    "my_zip_90036 = [(-118.361375, 34.062967), (-118.361452, 34.080191), \n",
    "                (-118.361417, 34.083811), (-118.347435, 34.083505), \n",
    "                (-118.346216, 34.081852), (-118.345149, 34.083455), \n",
    "                (-118.34405, 34.083431), (-118.338583, 34.083457), \n",
    "                (-118.338496, 34.080292), (-118.337995, 34.08029399999999), \n",
    "                (-118.337734, 34.068981), (-118.337348, 34.068911), \n",
    "                (-118.337763, 34.066905), (-118.337149, 34.064928), \n",
    "                (-118.338469, 34.064925), (-118.338464, 34.062115), \n",
    "                (-118.336545, 34.062077), (-118.337054, 34.060564), \n",
    "                (-118.337616, 34.060423), (-118.338167, 34.058981), \n",
    "                (-118.339393, 34.057063), (-118.353539, 34.057385), \n",
    "                (-118.354642, 34.054199), (-118.355409, 34.054467), \n",
    "                (-118.354739, 34.05741), (-118.359856, 34.057519), \n",
    "                (-118.360966, 34.056668), (-118.363818, 34.058183), \n",
    "                (-118.361375, 34.062967)]"
   ]
  },
  {
   "cell_type": "markdown",
   "metadata": {},
   "source": [
    "# Huston, we have a problem!\n",
    "\n",
    "Can anyone see the problem?\n",
    "\n",
    "### Thankfully Data Structures are iterable including tuples inside lists - or lists of tuples:\n",
    "\n",
    "for example, let's print each tuple by looping through the list:"
   ]
  },
  {
   "cell_type": "code",
   "execution_count": 56,
   "metadata": {},
   "outputs": [
    {
     "name": "stdout",
     "output_type": "stream",
     "text": [
      "(-118.361375, 34.062967)\n",
      "(-118.361452, 34.080191)\n",
      "(-118.361417, 34.083811)\n",
      "(-118.347435, 34.083505)\n",
      "(-118.346216, 34.081852)\n",
      "(-118.345149, 34.083455)\n",
      "(-118.34405, 34.083431)\n",
      "(-118.338583, 34.083457)\n",
      "(-118.338496, 34.080292)\n",
      "(-118.337995, 34.08029399999999)\n",
      "(-118.337734, 34.068981)\n",
      "(-118.337348, 34.068911)\n",
      "(-118.337763, 34.066905)\n",
      "(-118.337149, 34.064928)\n",
      "(-118.338469, 34.064925)\n",
      "(-118.338464, 34.062115)\n",
      "(-118.336545, 34.062077)\n",
      "(-118.337054, 34.060564)\n",
      "(-118.337616, 34.060423)\n",
      "(-118.338167, 34.058981)\n",
      "(-118.339393, 34.057063)\n",
      "(-118.353539, 34.057385)\n",
      "(-118.354642, 34.054199)\n",
      "(-118.355409, 34.054467)\n",
      "(-118.354739, 34.05741)\n",
      "(-118.359856, 34.057519)\n",
      "(-118.360966, 34.056668)\n",
      "(-118.363818, 34.058183)\n",
      "(-118.361375, 34.062967)\n"
     ]
    }
   ],
   "source": [
    "for cord in my_zip_90036:\n",
    "    print(cord)"
   ]
  },
  {
   "cell_type": "markdown",
   "metadata": {},
   "source": [
    "## `sorted()` function to the rescue:"
   ]
  },
  {
   "cell_type": "code",
   "execution_count": 57,
   "metadata": {},
   "outputs": [
    {
     "data": {
      "text/plain": [
       "[[-118.361375, 34.062967],\n",
       " [-118.361452, 34.080191],\n",
       " [-118.361417, 34.083811],\n",
       " [-118.347435, 34.083505],\n",
       " [-118.346216, 34.081852],\n",
       " [-118.345149, 34.083455],\n",
       " [-118.34405, 34.083431],\n",
       " [-118.338583, 34.083457],\n",
       " [-118.338496, 34.080292],\n",
       " [-118.337995, 34.08029399999999],\n",
       " [-118.337734, 34.068981],\n",
       " [-118.337348, 34.068911],\n",
       " [-118.337763, 34.066905],\n",
       " [-118.337149, 34.064928],\n",
       " [-118.338469, 34.064925],\n",
       " [-118.338464, 34.062115],\n",
       " [-118.336545, 34.062077],\n",
       " [-118.337054, 34.060564],\n",
       " [-118.337616, 34.060423],\n",
       " [-118.338167, 34.058981],\n",
       " [-118.339393, 34.057063],\n",
       " [-118.353539, 34.057385],\n",
       " [-118.354642, 34.054199],\n",
       " [-118.355409, 34.054467],\n",
       " [-118.354739, 34.05741],\n",
       " [-118.359856, 34.057519],\n",
       " [-118.360966, 34.056668],\n",
       " [-118.363818, 34.058183],\n",
       " [-118.361375, 34.062967]]"
      ]
     },
     "execution_count": 57,
     "metadata": {},
     "output_type": "execute_result"
    }
   ],
   "source": [
    "my_sorted_90036 = []\n",
    "\n",
    "for cord in my_zip_90036:\n",
    "    my_sorted_90036.append(sorted(cord))\n",
    "    \n",
    "my_sorted_90036"
   ]
  },
  {
   "cell_type": "markdown",
   "metadata": {},
   "source": [
    "# Wait what happend?"
   ]
  },
  {
   "cell_type": "code",
   "execution_count": 59,
   "metadata": {},
   "outputs": [
    {
     "data": {
      "text/plain": [
       "[[34.062967, -118.361375],\n",
       " [34.080191, -118.361452],\n",
       " [34.083811, -118.361417],\n",
       " [34.083505, -118.347435],\n",
       " [34.081852, -118.346216],\n",
       " [34.083455, -118.345149],\n",
       " [34.083431, -118.34405],\n",
       " [34.083457, -118.338583],\n",
       " [34.080292, -118.338496],\n",
       " [34.08029399999999, -118.337995],\n",
       " [34.068981, -118.337734],\n",
       " [34.068911, -118.337348],\n",
       " [34.066905, -118.337763],\n",
       " [34.064928, -118.337149],\n",
       " [34.064925, -118.338469],\n",
       " [34.062115, -118.338464],\n",
       " [34.062077, -118.336545],\n",
       " [34.060564, -118.337054],\n",
       " [34.060423, -118.337616],\n",
       " [34.058981, -118.338167],\n",
       " [34.057063, -118.339393],\n",
       " [34.057385, -118.353539],\n",
       " [34.054199, -118.354642],\n",
       " [34.054467, -118.355409],\n",
       " [34.05741, -118.354739],\n",
       " [34.057519, -118.359856],\n",
       " [34.056668, -118.360966],\n",
       " [34.058183, -118.363818],\n",
       " [34.062967, -118.361375]]"
      ]
     },
     "execution_count": 59,
     "metadata": {},
     "output_type": "execute_result"
    }
   ],
   "source": [
    "my_sorted_90036 = []\n",
    "\n",
    "for cord in my_zip_90036:\n",
    "    my_sorted_90036.append(sorted(cord, reverse=True))\n",
    "\n",
    "my_sorted_90036"
   ]
  },
  {
   "cell_type": "code",
   "execution_count": 60,
   "metadata": {
    "scrolled": false
   },
   "outputs": [
    {
     "data": {
      "text/html": [
       "<div style=\"width:100%;\"><div style=\"position:relative;width:100%;height:0;padding-bottom:60%;\"><iframe src=\"data:text/html;charset=utf-8;base64,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\" style=\"position:absolute;width:100%;height:100%;left:0;top:0;border:none !important;\" allowfullscreen webkitallowfullscreen mozallowfullscreen></iframe></div></div>"
      ],
      "text/plain": [
       "<folium.folium.Map at 0x115a0eb00>"
      ]
     },
     "execution_count": 60,
     "metadata": {},
     "output_type": "execute_result"
    }
   ],
   "source": [
    "gala_map = folium.Map(location=[gala_lat, gala_long],\n",
    "                        zoom_start=14,\n",
    "                        tiles=\"CartoDB positron\")\n",
    "\n",
    "folium.Marker(location=[gala_lat, gala_long],\n",
    "             icon=folium.Icon(color='black',icon='graduation-cap', prefix='fa'\n",
    "                             ), popup = GALA_Address).add_to(gala_map)\n",
    "\n",
    "folium.PolyLine(my_sorted_90036, color=\"purple\", weight=2.5, opacity=1).add_to(gala_map)\n",
    "\n",
    "gala_map"
   ]
  },
  {
   "cell_type": "markdown",
   "metadata": {},
   "source": [
    "# Shape Files `.shp`\n",
    "\n",
    "For almost any boundary or border in the world, there is probably a coordinates file, similar to our list of tuples, in the form of a **shape file**, somewhere on the internet. A common format of these files is the `.shp` file extension.  \n",
    "\n",
    "In the case of the United States, and most western countries, there are usually government web sites, and APIs,  that store and share the precise data.   And often times, as it is in the United States, there are many agencies that both utilize and provide the data to the public.   For zip codes, I have dowloaded first from the United State Census, which keeps and accurate record, via ZCTAs or ZIP Code Tabulation Areas:\n",
    "\n",
    "https://www.census.gov/geo/reference/webatlas/zctas.html\n",
    "\n",
    "However a great repository for data provided by the US government is at DATA.GOV:\n",
    "\n",
    "https://catalog.data.gov/dataset/zip-codes-zipcodes\n",
    "\n",
    "In addition to zip codes, you can get almost all of the US data for coding projects through the site or other government sites that DATA.GOV links too. Pretty Cool!\n",
    "\n",
    "All of the states have their own state data sites and APIs.  BTW, API stands for **Application Programming Interface**, which is a set of clearly defined methods of communication in the form of functions and procedures allowing the communication data of an operating system, application, or other computer service.\n",
    "\n",
    "Or another way to put it, APIs are way for computers to talk to each other without the need for it to be human readable. \n"
   ]
  },
  {
   "cell_type": "code",
   "execution_count": null,
   "metadata": {},
   "outputs": [],
   "source": []
  },
  {
   "cell_type": "code",
   "execution_count": null,
   "metadata": {},
   "outputs": [],
   "source": []
  },
  {
   "cell_type": "code",
   "execution_count": null,
   "metadata": {},
   "outputs": [],
   "source": []
  },
  {
   "cell_type": "code",
   "execution_count": null,
   "metadata": {},
   "outputs": [],
   "source": []
  }
 ],
 "metadata": {
  "kernelspec": {
   "display_name": "Python 3",
   "language": "python",
   "name": "python3"
  },
  "language_info": {
   "codemirror_mode": {
    "name": "ipython",
    "version": 3
   },
   "file_extension": ".py",
   "mimetype": "text/x-python",
   "name": "python",
   "nbconvert_exporter": "python",
   "pygments_lexer": "ipython3",
   "version": "3.6.4"
  }
 },
 "nbformat": 4,
 "nbformat_minor": 2
}
