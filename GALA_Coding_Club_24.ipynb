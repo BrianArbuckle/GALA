{
 "cells": [
  {
   "cell_type": "markdown",
   "metadata": {},
   "source": [
    "# The Pizza Class\n",
    "\n",
    "Let's Review the construction of a class"
   ]
  },
  {
   "cell_type": "code",
   "execution_count": 55,
   "metadata": {},
   "outputs": [],
   "source": [
    "class Pizza:\n",
    "    def __init__(self, size = 'Small', toppings = ['Cheese']):\n",
    "        \"\"\"Topping should be a list.  \n",
    "        And Sizes shoudl be 'small', 'medium' and 'large.'\"\"\"\n",
    "        self.size = size\n",
    "        self.toppings = toppings\n",
    "        "
   ]
  },
  {
   "cell_type": "code",
   "execution_count": 56,
   "metadata": {},
   "outputs": [],
   "source": [
    "#help(Pizza)"
   ]
  },
  {
   "cell_type": "markdown",
   "metadata": {},
   "source": [
    "Making a Pizza"
   ]
  },
  {
   "cell_type": "code",
   "execution_count": 57,
   "metadata": {},
   "outputs": [],
   "source": [
    "my_order = Pizza('Large', ['Cheese', 'Green Peppers', 'Mushrooms'])"
   ]
  },
  {
   "cell_type": "code",
   "execution_count": 58,
   "metadata": {},
   "outputs": [
    {
     "data": {
      "text/plain": [
       "['Cheese', 'Green Peppers', 'Mushrooms']"
      ]
     },
     "execution_count": 58,
     "metadata": {},
     "output_type": "execute_result"
    }
   ],
   "source": [
    "my_order.toppings"
   ]
  },
  {
   "cell_type": "code",
   "execution_count": 59,
   "metadata": {},
   "outputs": [],
   "source": [
    "class Pizza:\n",
    "    def __init__(self, size = 'Small', toppings = ['Cheese']):\n",
    "        self.size = size\n",
    "        self.toppings = toppings\n",
    "\n",
    "    def topping_count(self):\n",
    "        print(len(self.toppings))"
   ]
  },
  {
   "cell_type": "code",
   "execution_count": 60,
   "metadata": {},
   "outputs": [],
   "source": [
    "my_order2 = Pizza('Medium', ['Cheese', 'Pickles', 'Pineapple'])"
   ]
  },
  {
   "cell_type": "code",
   "execution_count": 61,
   "metadata": {},
   "outputs": [
    {
     "data": {
      "text/plain": [
       "<bound method Pizza.topping_count of <__main__.Pizza object at 0x1035b2588>>"
      ]
     },
     "execution_count": 61,
     "metadata": {},
     "output_type": "execute_result"
    }
   ],
   "source": [
    "my_order2.topping_count"
   ]
  },
  {
   "cell_type": "code",
   "execution_count": 85,
   "metadata": {},
   "outputs": [],
   "source": [
    "class Pizza:\n",
    "    def __init__(self, size, toppings):\n",
    "        self.size = size\n",
    "        self.toppings = toppings\n",
    "        self.num_toppings = len(self.toppings)\n",
    " \n",
    "    def topping_cost(self):\n",
    "        if self.size == 'Small':\n",
    "            self.cost = (len(self.toppings) * 1.25) + 5\n",
    "        elif self.size == 'Medium':\n",
    "            self.cost = (len(self.toppings) * 1.25) + 7.5\n",
    "        else:\n",
    "            self.cost = (len(self.toppings) * 1.25) + 10\n",
    "            \n",
    "        self.cost = round(self.cost *1.075, 2)\n",
    "        print(self.cost)\n",
    "        #self.num_toppings = len(self.toppings) * 1.25\n"
   ]
  },
  {
   "cell_type": "code",
   "execution_count": 86,
   "metadata": {},
   "outputs": [],
   "source": [
    "my_order3 = Pizza('Medium', ['Cheese', 'Pickles', 'Pineapple', 'Anchovies'])"
   ]
  },
  {
   "cell_type": "code",
   "execution_count": 87,
   "metadata": {},
   "outputs": [
    {
     "data": {
      "text/plain": [
       "4"
      ]
     },
     "execution_count": 87,
     "metadata": {},
     "output_type": "execute_result"
    }
   ],
   "source": [
    "my_order3.num_toppings"
   ]
  },
  {
   "cell_type": "code",
   "execution_count": 88,
   "metadata": {},
   "outputs": [
    {
     "name": "stdout",
     "output_type": "stream",
     "text": [
      "13.44\n"
     ]
    }
   ],
   "source": [
    "my_order3.topping_cost()"
   ]
  },
  {
   "cell_type": "code",
   "execution_count": 45,
   "metadata": {},
   "outputs": [],
   "source": [
    "my_order4 = Pizza('Large', ['Cheese', 'Pickles', 'Pineapple'])"
   ]
  },
  {
   "cell_type": "code",
   "execution_count": 12,
   "metadata": {},
   "outputs": [],
   "source": [
    "my_order4.cooking = 'under'"
   ]
  },
  {
   "cell_type": "code",
   "execution_count": 13,
   "metadata": {},
   "outputs": [],
   "source": [
    "aud_pizza = ['small']"
   ]
  },
  {
   "cell_type": "code",
   "execution_count": 15,
   "metadata": {},
   "outputs": [],
   "source": [
    "#aud_pizza.toppings"
   ]
  },
  {
   "cell_type": "code",
   "execution_count": null,
   "metadata": {},
   "outputs": [],
   "source": []
  },
  {
   "cell_type": "code",
   "execution_count": null,
   "metadata": {},
   "outputs": [],
   "source": []
  }
 ],
 "metadata": {
  "kernelspec": {
   "display_name": "Python 3",
   "language": "python",
   "name": "python3"
  },
  "language_info": {
   "codemirror_mode": {
    "name": "ipython",
    "version": 3
   },
   "file_extension": ".py",
   "mimetype": "text/x-python",
   "name": "python",
   "nbconvert_exporter": "python",
   "pygments_lexer": "ipython3",
   "version": "3.7.5"
  }
 },
 "nbformat": 4,
 "nbformat_minor": 2
}
