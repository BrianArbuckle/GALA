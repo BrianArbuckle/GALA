{
 "cells": [
  {
   "cell_type": "markdown",
   "metadata": {},
   "source": [
    "# Review\n",
    "\n",
    "Last week we discussed the two **Number**  Data Types:\n",
    ">**Integer** and<br>\n",
    "> **Float**\n",
    "\n",
    "In addition, there is a third Number Data Type which is a **Complex** Number, also known as an *Imaginary* number.  In math, the symbol is the letter `i`, however the `i` is used for something else in most computer programing languages, including python.  So in python, we use `j`.  Here is an example of a complex number:\n",
    "\n",
    "**`47j`**\n",
    "\n",
    "We will not go into it here, as complex numbers are typically used in Quadratic Equations and calculating AC current.  I just want you to know there is a third number type. "
   ]
  },
  {
   "cell_type": "markdown",
   "metadata": {},
   "source": [
    "# Lists\n",
    "\n",
    "Today, we're going to play with **Lists**, a new data type. \n",
    "\n",
    "(Rememeber the other data types?  **Strings** and **Numbers**, of which there are three types: **integers**, **floats**, and **complex**).\n",
    "\n",
    "A LIST is a collection of items in a particular order. You can make a LIST that includes the letters of the alphabet; the digits from 0–9; or the names of all the people in your family. You can put anything you want into a LIST, and the items in your LIST don’t have to be related in any particular way. Because a list usually contains more than one element, it’s a good idea to make the name of your LIST plural, such as letters, digits, or names.\n",
    "\n",
    "In Python, square brackets `[ ]` indicate a list, and individual elements in the list are separated by commas. Here’s a simple example of a list that contains a few brands of bicycles:"
   ]
  },
  {
   "cell_type": "code",
   "execution_count": 153,
   "metadata": {},
   "outputs": [
    {
     "name": "stdout",
     "output_type": "stream",
     "text": [
      "['trek', 'cannondale', 'redline', 'specialized']\n"
     ]
    }
   ],
   "source": [
    "bicycles = ['trek', 'cannondale', 'redline', 'specialized']\n",
    "print(bicycles)"
   ]
  },
  {
   "cell_type": "code",
   "execution_count": 154,
   "metadata": {},
   "outputs": [
    {
     "data": {
      "text/plain": [
       "list"
      ]
     },
     "execution_count": 154,
     "metadata": {},
     "output_type": "execute_result"
    }
   ],
   "source": [
    "type(bicycles)"
   ]
  },
  {
   "cell_type": "markdown",
   "metadata": {},
   "source": [
    "## Accessing Elements in a List\n",
    "\n",
    "LISTS are ordered collections, so you can access any element in a list by telling Python the position, also known as the **index**, of the item desired.  We do this with the location of the item in the list.  Remember, in most computer languages the first position is `0`. To access an element in a LIST, write the name of the LIST followed by the index of the item enclosed in square brackets:"
   ]
  },
  {
   "cell_type": "code",
   "execution_count": 155,
   "metadata": {},
   "outputs": [
    {
     "name": "stdout",
     "output_type": "stream",
     "text": [
      "trek\n"
     ]
    }
   ],
   "source": [
    "print(bicycles[0])"
   ]
  },
  {
   "cell_type": "markdown",
   "metadata": {},
   "source": [
    "You can also use the methods we use on elements in the list, and since `cannondale` is a string data type, we can use a string method such as `.title()` as follows (notice the `1` in `[]` to select the second item:"
   ]
  },
  {
   "cell_type": "code",
   "execution_count": 156,
   "metadata": {},
   "outputs": [
    {
     "name": "stdout",
     "output_type": "stream",
     "text": [
      "Cannondale\n"
     ]
    }
   ],
   "source": [
    "print(bicycles[1].title())"
   ]
  },
  {
   "cell_type": "markdown",
   "metadata": {},
   "source": [
    "## As mentioned before the Index Positions Start at 0, Not 1\n",
    "\n",
    "Edit the code below to select the 4th bicycle in `bicycles`:"
   ]
  },
  {
   "cell_type": "code",
   "execution_count": 157,
   "metadata": {},
   "outputs": [
    {
     "ename": "IndexError",
     "evalue": "list index out of range",
     "output_type": "error",
     "traceback": [
      "\u001b[0;31m---------------------------------------------------------------------------\u001b[0m",
      "\u001b[0;31mIndexError\u001b[0m                                Traceback (most recent call last)",
      "\u001b[0;32m<ipython-input-157-a45db050e200>\u001b[0m in \u001b[0;36m<module>\u001b[0;34m()\u001b[0m\n\u001b[0;32m----> 1\u001b[0;31m \u001b[0mprint\u001b[0m\u001b[0;34m(\u001b[0m\u001b[0mbicycles\u001b[0m\u001b[0;34m[\u001b[0m\u001b[0;36m4\u001b[0m\u001b[0;34m]\u001b[0m\u001b[0;34m.\u001b[0m\u001b[0mtitle\u001b[0m\u001b[0;34m(\u001b[0m\u001b[0;34m)\u001b[0m\u001b[0;34m)\u001b[0m\u001b[0;34m\u001b[0m\u001b[0m\n\u001b[0m",
      "\u001b[0;31mIndexError\u001b[0m: list index out of range"
     ]
    }
   ],
   "source": [
    "print(bicycles[4].title())"
   ]
  },
  {
   "cell_type": "markdown",
   "metadata": {},
   "source": [
    "## What if you have a huge list such as the following names that start with the letter 'A':"
   ]
  },
  {
   "cell_type": "code",
   "execution_count": 158,
   "metadata": {},
   "outputs": [],
   "source": [
    "a_names = ['Aaren' , 'Aarika' , 'Abagael' , 'Abagail' , 'Abbe' , 'Abbey' , 'Abbi' , 'Abbie' , \n",
    "'Abby' , 'Abbye' , 'Abigael' , 'Abigail' , 'Abigale' , 'Abra' , 'Ada' , 'Adah' , \n",
    "'Adaline' , 'Adan' , 'Adara' , 'Adda' , 'Addi' , 'Addia' , 'Addie' , 'Addy' , 'Adel' , \n",
    "'Adela' , 'Adelaida' , 'Adelaide' , 'Adele' , 'Adelheid' , 'Adelice' , 'Adelina' , \n",
    "'Adelind' , 'Adeline' , 'Adella' , 'Adelle' , 'Adena' , 'Adey' , 'Adi' , 'Adiana' , \n",
    "'Adina' , 'Adora' , 'Adore' , 'Adoree' , 'Adorne' , 'Adrea' , 'Adria' , 'Adriaens' , \n",
    "'Adrian' , 'Adriana' , 'Adriane' , 'Adrianna' , 'Adrianne' , 'Adriena' , 'Adrienne' , \n",
    "'Aeriel' , 'Aeriela' , 'Aeriell' , 'Afton' , 'Ag' , 'Agace' , 'Agata' , 'Agatha' , \n",
    "'Agathe' , 'Aggi' , 'Aggie' , 'Aggy' , 'Agna' , 'Agnella' , 'Agnes' , 'Agnese' , \n",
    "'Agnesse' , 'Agneta' , 'Agnola' , 'Agretha' , 'Aida' , 'Aidan' , 'Aigneis' , 'Aila' , \n",
    "'Aile' , 'Ailee' , 'Aileen' , 'Ailene' , 'Ailey' , 'Aili' , 'Ailina' , 'Ailis' , \n",
    "'Ailsun' , 'Ailyn' , 'Aime' , 'Aimee' , 'Aimil' , 'Aindrea' , 'Ainslee' , 'Ainsley' , \n",
    "'Ainslie' , 'Ajay' , 'Alaine' , 'Alameda' , 'Alana' , 'Alanah' , 'Alane' , 'Alanna' , \n",
    "'Alayne' , 'Alberta' , 'Albertina' , 'Albertine' , 'Albina' , 'Alecia' , 'Aleda' , \n",
    "'Aleece' , 'Aleen' , 'Alejandra' , 'Alejandrina' , 'Alena' , 'Alene' , 'Alessandra' , \n",
    "'Aleta' , 'Alethea' , 'Alex' , 'Alexa' , 'Alexandra' , 'Alexandrina' , 'Alexi' , \n",
    "'Alexia' , 'Alexina' , 'Alexine' , 'Alexis' , 'Alfi' , 'Alfie' , 'Alfreda' , 'Alfy' , \n",
    "'Ali' , 'Alia' , 'Alica' , 'Alice' , 'Alicea' , 'Alicia' , 'Alida' , 'Alidia' , 'Alie' , \n",
    "'Alika' , 'Alikee' , 'Alina' , 'Aline' , 'Alis' , 'Alisa' , 'Alisha' , 'Alison' , \n",
    "'Alissa' , 'Alisun' , 'Alix' , 'Aliza' , 'Alla' , 'Alleen' , 'Allegra' , 'Allene' , \n",
    "'Alli' , 'Allianora' , 'Allie' , 'Allina' , 'Allis' , 'Allison' , 'Allissa' , 'Allix' , \n",
    "'Allsun' , 'Allx' , 'Ally' , 'Allyce' , 'Allyn' , 'Allys' , 'Allyson' , 'Alma' , \n",
    "'Almeda' , 'Almeria' , 'Almeta' , 'Almira' , 'Almire' , 'Aloise' , 'Aloisia' , 'Aloysia' , \n",
    "'Alta' , 'Althea' , 'Alvera' , 'Alverta' , 'Alvina' , 'Alvinia' , 'Alvira' , 'Alyce' , \n",
    "'Alyda' , 'Alys' , 'Alysa' , 'Alyse' , 'Alysia' , 'Alyson' , 'Alyss' , 'Alyssa' , \n",
    "'Amabel' , 'Amabelle' , 'Amalea' , 'Amalee' , 'Amaleta' , 'Amalia' , 'Amalie' , \n",
    "'Amalita' , 'Amalle' , 'Amanda' , 'Amandi' , 'Amandie' , 'Amandy' , 'Amara' , 'Amargo' , \n",
    "'Amata' , 'Amber' , 'Amberly' , 'Ambur' , 'Ame' , 'Amelia' , 'Amelie' , 'Amelina' , \n",
    "'Ameline' , 'Amelita' , 'Ami' , 'Amie' , 'Amii' , 'Amil' , 'Amitie' , 'Amity' , \n",
    "'Ammamaria' , 'Amy' , 'Amye' , 'Ana' , 'Anabal' , 'Anabel' , 'Anabella' , 'Anabelle' , \n",
    "'Analiese' , 'Analise' , 'Anallese' , 'Anallise' , 'Anastasia' , 'Anastasie' , \n",
    "'Anastassia' , 'Anatola' , 'Andee' , 'Andeee' , 'Anderea' , 'Andi' , 'Andie' , 'Andra' , \n",
    "'Andrea' , 'Andreana' , 'Andree' , 'Andrei' , 'Andria' , 'Andriana' , 'Andriette' , \n",
    "'Andromache' , 'Andy' , 'Anestassia' , 'Anet' , 'Anett' , 'Anetta' , 'Anette' , 'Ange' , \n",
    "'Angel' , 'Angela' , 'Angele' , 'Angelia' , 'Angelica' , 'Angelika' , 'Angelina' , \n",
    "'Angeline' , 'Angelique' , 'Angelita' , 'Angelle' , 'Angie' , 'Angil' , 'Angy' , 'Ania' , \n",
    "'Anica' , 'Anissa' , 'Anita' , 'Anitra' , 'Anjanette' , 'Anjela' , 'Ann' , 'Ann-Marie' , \n",
    "'Anna' , 'Anna-Diana' , 'Anna-Diane' , 'Anna-Maria' , 'Annabal' , 'Annabel' , 'Annabela' , \n",
    "'Annabell' , 'Annabella' , 'Annabelle' , 'Annadiana' , 'Annadiane' , 'Annalee' , \n",
    "'Annaliese' , 'Annalise' , 'Annamaria' , 'Annamarie' , 'Anne' , 'Anne-Corinne' , \n",
    "'Anne-Marie' , 'Annecorinne' , 'Anneliese' , 'Annelise' , 'Annemarie' , 'Annetta' , \n",
    "'Annette' , 'Anni' , 'Annice' , 'Annie' , 'Annis' , 'Annissa' , 'Annmaria' , 'Annmarie' , \n",
    "'Annnora' , 'Annora' , 'Anny' , 'Anselma' , 'Ansley' , 'Anstice' , 'Anthe' , 'Anthea' , \n",
    "'Anthia' , 'Anthiathia' , 'Antoinette' , 'Antonella' , 'Antonetta' , 'Antonia' , \n",
    "'Antonie' , 'Antonietta' , 'Antonina' , 'Anya' , 'Appolonia' , 'April' , 'Aprilette' , \n",
    "'Ara' , 'Arabel' , 'Arabela' , 'Arabele' , 'Arabella' , 'Arabelle' , 'Arda' , 'Ardath' , \n",
    "'Ardeen' , 'Ardelia' , 'Ardelis' , 'Ardella' , 'Ardelle' , 'Arden' , 'Ardene' , 'Ardenia' , \n",
    "'Ardine' , 'Ardis' , 'Ardisj' , 'Ardith' , 'Ardra' , 'Ardyce' , 'Ardys' , 'Ardyth' , \n",
    "'Aretha' , 'Ariadne' , 'Ariana' , 'Aridatha' , 'Ariel' , 'Ariela' , 'Ariella' , \n",
    "'Arielle' , 'Arlana' , 'Arlee' , 'Arleen' , 'Arlen' , 'Arlena' , 'Arlene' , 'Arleta' , \n",
    "'Arlette' , 'Arleyne' , 'Arlie' , 'Arliene' , 'Arlina' , 'Arlinda' , 'Arline' , 'Arluene' , \n",
    "'Arly' , 'Arlyn' , 'Arlyne' , 'Aryn' , 'Ashely' , 'Ashia' , 'Ashien' , 'Ashil' , 'Ashla' , \n",
    "'Ashlan' , 'Ashlee' , 'Ashleigh' , 'Ashlen' , 'Ashley' , 'Ashli' , 'Ashlie' , 'Ashly' , \n",
    "'Asia' , 'Astra' , 'Astrid' , 'Astrix' , 'Atalanta' , 'Athena' , 'Athene' , 'Atlanta' , \n",
    "'Atlante' , 'Auberta' , 'Aubine' , 'Aubree' , 'Aubrette' , 'Aubrey' , 'Aubrie' , 'Aubry' , \n",
    "'Audi' , 'Audie' , 'Audra' , 'Audre' , 'Audrey' , 'Audrie' , 'Audry' , 'Audrye' , 'Audy' , \n",
    "'Augusta' , 'Auguste' , 'Augustina' , 'Augustine' , 'Aundrea' , 'Aura' , 'Aurea' , \n",
    "'Aurel' , 'Aurelea' , 'Aurelia' , 'Aurelie' , 'Auria' , 'Aurie' , 'Aurilia' , 'Aurlie' , \n",
    "'Auroora' , 'Aurora' , 'Aurore' , 'Austin' , 'Austina' , 'Austine' , 'Ava' , 'Aveline' , \n",
    "'Averil' , 'Averyl' , 'Avie' , 'Avis' , 'Aviva' , 'Avivah' , 'Avril' , 'Avrit' , 'Ayn']"
   ]
  },
  {
   "cell_type": "markdown",
   "metadata": {},
   "source": [
    "How would you get the last position in the list?  One way would be to count all the names, thankfully you can do that with the length or **`len()`** function, which will count the number of names in the list:"
   ]
  },
  {
   "cell_type": "code",
   "execution_count": 159,
   "metadata": {},
   "outputs": [
    {
     "data": {
      "text/plain": [
       "463"
      ]
     },
     "execution_count": 159,
     "metadata": {},
     "output_type": "execute_result"
    }
   ],
   "source": [
    "len(a_names)"
   ]
  },
  {
   "cell_type": "markdown",
   "metadata": {},
   "source": [
    "Knowing that there 463 names we could do the following, notice how I am using 462, as the index starts with 0:"
   ]
  },
  {
   "cell_type": "code",
   "execution_count": 160,
   "metadata": {},
   "outputs": [
    {
     "name": "stdout",
     "output_type": "stream",
     "text": [
      "Ayn\n"
     ]
    }
   ],
   "source": [
    "print(a_names[462])"
   ]
  },
  {
   "cell_type": "markdown",
   "metadata": {},
   "source": [
    "As you can imagine, there is a more efficient way to get the last item in a list: \n",
    "    \n",
    "Python has a special syntax for accessing the last element in a list. By asking for the item at index -1, Python always returns the last item in the list. This syntax is quite useful, because you’ll often want to access the last items in a list without knowing exactly how long the list is. This convention extends to other negative index values as well. The index -2 returns the second item from the end of the list, the index -3 returns the third item from the end, and so forth. Notice how it starts with -1 not -0."
   ]
  },
  {
   "cell_type": "code",
   "execution_count": 162,
   "metadata": {},
   "outputs": [
    {
     "name": "stdout",
     "output_type": "stream",
     "text": [
      "Aaren\n"
     ]
    }
   ],
   "source": [
    "print(a_names[-463])"
   ]
  },
  {
   "cell_type": "markdown",
   "metadata": {},
   "source": [
    "### Using Individual Values from a List\n",
    "\n",
    "You can use individual values from a list just as you would any other variable. For example, you can use concatenation to create a message based on a value from a list."
   ]
  },
  {
   "cell_type": "code",
   "execution_count": 163,
   "metadata": {},
   "outputs": [
    {
     "name": "stdout",
     "output_type": "stream",
     "text": [
      "My friend Adella is Adella\n"
     ]
    }
   ],
   "source": [
    "message = \"My friend \" + a_names[34] + \" is \" + a_names[34]\n",
    "print(message)"
   ]
  },
  {
   "cell_type": "markdown",
   "metadata": {},
   "source": [
    "Let's go back to our bicycles list.  First, run the cell below to see if it is still loaded into memory:"
   ]
  },
  {
   "cell_type": "code",
   "execution_count": 164,
   "metadata": {},
   "outputs": [
    {
     "name": "stdout",
     "output_type": "stream",
     "text": [
      "['trek', 'cannondale', 'redline', 'specialized']\n"
     ]
    }
   ],
   "source": [
    "print(bicycles)"
   ]
  },
  {
   "cell_type": "markdown",
   "metadata": {},
   "source": [
    "## Adding to a list\n",
    "\n",
    "Let's say you wanted to add to the list, to do so we use the **`.append()`** method like so (notice how schwinn is added to the end of the list):"
   ]
  },
  {
   "cell_type": "code",
   "execution_count": 165,
   "metadata": {},
   "outputs": [
    {
     "name": "stdout",
     "output_type": "stream",
     "text": [
      "schwinn\n",
      "['trek', 'cannondale', 'redline', 'specialized', 'schwinn']\n"
     ]
    }
   ],
   "source": [
    "# This line is incase you want to rest bicycles to it's original state. \n",
    "#bicycles = ['trek', 'cannondale', 'redline', 'specialized']\n",
    "\n",
    "bicycles.append('schwinn') \n",
    "print(bicycles[-1])\n",
    "print(bicycles)"
   ]
  },
  {
   "cell_type": "markdown",
   "metadata": {},
   "source": [
    "### Using Append to create a list:"
   ]
  },
  {
   "cell_type": "code",
   "execution_count": 166,
   "metadata": {},
   "outputs": [
    {
     "name": "stdout",
     "output_type": "stream",
     "text": [
      "['taylor swift', 'demi lavato', 'alicia keys', 'ariana grande']\n"
     ]
    }
   ],
   "source": [
    "singers = []\n",
    "singers.append('taylor swift') \n",
    "singers.append('demi lavato') \n",
    "singers.append('alicia keys') \n",
    "singers.append('ariana grande') \n",
    "print(singers)"
   ]
  },
  {
   "cell_type": "markdown",
   "metadata": {},
   "source": [
    "We can use string, with spaces, as a single element in a list.  What if we counted, would there be 8 names or 4?  Let's try the `len()` function and see:"
   ]
  },
  {
   "cell_type": "code",
   "execution_count": 167,
   "metadata": {},
   "outputs": [
    {
     "data": {
      "text/plain": [
       "4"
      ]
     },
     "execution_count": 167,
     "metadata": {},
     "output_type": "execute_result"
    }
   ],
   "source": [
    "len(singers)"
   ]
  },
  {
   "cell_type": "markdown",
   "metadata": {},
   "source": [
    "Now we can use string methods on string elements inside the string:"
   ]
  },
  {
   "cell_type": "code",
   "execution_count": 168,
   "metadata": {},
   "outputs": [
    {
     "data": {
      "text/plain": [
       "'Demi Lavato'"
      ]
     },
     "execution_count": 168,
     "metadata": {},
     "output_type": "execute_result"
    }
   ],
   "source": [
    "singers[1].title()"
   ]
  },
  {
   "cell_type": "markdown",
   "metadata": {},
   "source": [
    "See anything wrong **Demi *Lavato*** superfans? \n",
    "\n",
    "### Replacing an item in a list is like asigning a variable:"
   ]
  },
  {
   "cell_type": "code",
   "execution_count": 169,
   "metadata": {},
   "outputs": [
    {
     "name": "stdout",
     "output_type": "stream",
     "text": [
      "Demi Lovato\n"
     ]
    }
   ],
   "source": [
    "singers[1] = 'demi lovato'\n",
    "print(singers[1].title())"
   ]
  },
  {
   "cell_type": "markdown",
   "metadata": {},
   "source": [
    "### Inserting Elements into a List\n",
    "You can add a new element at any position in your list by using the **`insert()`** method. You do this by specifying the index of the new element and the value of the new item.  Unlike the text manipulation methods (.title(), .upper(), etc..) the `insert()` method requires **arguments** to be passed through the method in the parenthesies:  The first argument is the possition and the second is what you want placed.  Let's add Selena Gomez infront of Alicia Keys.  Since Alicia Keys is in the third possiton or the `2` index we would do the following:"
   ]
  },
  {
   "cell_type": "code",
   "execution_count": 170,
   "metadata": {},
   "outputs": [
    {
     "name": "stdout",
     "output_type": "stream",
     "text": [
      "['taylor swift', 'demi lovato', 'selena gomez', 'alicia keys', 'ariana grande']\n"
     ]
    }
   ],
   "source": [
    "singers.insert(2, 'selena gomez')\n",
    "print(singers)"
   ]
  },
  {
   "cell_type": "markdown",
   "metadata": {},
   "source": [
    "### Deleting Elements from a List\n",
    "\n",
    "How about removing and item from a list?  Here we will use the **delete `del`** function.  Have you noticed that we have been using both methods and functions?  Let's remove Taylor Swift:"
   ]
  },
  {
   "cell_type": "code",
   "execution_count": 171,
   "metadata": {},
   "outputs": [
    {
     "name": "stdout",
     "output_type": "stream",
     "text": [
      "['demi lovato', 'selena gomez', 'alicia keys', 'ariana grande']\n"
     ]
    }
   ],
   "source": [
    "del singers[0] \n",
    "print(singers)"
   ]
  },
  {
   "cell_type": "markdown",
   "metadata": {},
   "source": [
    "### Removing an Item Using the `pop()` Method\n",
    "\n",
    "Sometimes you’ll want to use the value of an item after you remove it from a list. For example, you might want to remove a user from a list of active members and then add that user to a list of inactive members.  \n",
    "\n",
    "The **`pop()`** method removes the last item in a list, but it lets you work with that item after removing it. The term pop comes from thinking of a list as a stack of items and popping one item off the top of the stack. In this analogy, the top of a stack corresponds to the end of a list.\n",
    "\n",
    "First let's create a new list using a range of names from the `a_names` list.  To select a **range**, instead of a single item from a list, you pass two numbers seperated by a colon `:`.   In this case we are goign to creat a new list called `users`:"
   ]
  },
  {
   "cell_type": "code",
   "execution_count": 172,
   "metadata": {},
   "outputs": [
    {
     "name": "stdout",
     "output_type": "stream",
     "text": [
      "['Aaren', 'Aarika', 'Abagael', 'Abagail', 'Abbe', 'Abbey', 'Abbi', 'Abbie', 'Abby', 'Abbye', 'Abigael']\n"
     ]
    }
   ],
   "source": [
    "users = a_names[0:11]\n",
    "print(users)"
   ]
  },
  {
   "cell_type": "markdown",
   "metadata": {},
   "source": [
    "Now we will `pop()` Abigael, the last person in the list, into the new list `inactive_users`.  Notice that we are creating a new list, `inactive_users`,  while editing the original list `users`:"
   ]
  },
  {
   "cell_type": "code",
   "execution_count": 173,
   "metadata": {},
   "outputs": [
    {
     "name": "stdout",
     "output_type": "stream",
     "text": [
      "['Aaren', 'Aarika', 'Abagael', 'Abagail', 'Abbe', 'Abbey', 'Abbi', 'Abbie', 'Abby', 'Abbye']\n"
     ]
    }
   ],
   "source": [
    "inactive_users = users.pop()\n",
    "print(users)"
   ]
  },
  {
   "cell_type": "code",
   "execution_count": 174,
   "metadata": {},
   "outputs": [
    {
     "name": "stdout",
     "output_type": "stream",
     "text": [
      "Abigael\n"
     ]
    }
   ],
   "source": [
    "print(inactive_users)"
   ]
  },
  {
   "cell_type": "markdown",
   "metadata": {},
   "source": [
    "### Popping Items from any Position in a List\n",
    "\n",
    "We can also pop items from any possition in a list:"
   ]
  },
  {
   "cell_type": "code",
   "execution_count": 175,
   "metadata": {},
   "outputs": [
    {
     "name": "stdout",
     "output_type": "stream",
     "text": [
      "['Aaren', 'Aarika', 'Abagael', 'Abagail', 'Abbe', 'Abbey', 'Abbie', 'Abby', 'Abbye']\n"
     ]
    }
   ],
   "source": [
    "inactive_users = users.pop(6)\n",
    "print(users)"
   ]
  },
  {
   "cell_type": "code",
   "execution_count": 176,
   "metadata": {},
   "outputs": [
    {
     "name": "stdout",
     "output_type": "stream",
     "text": [
      "Abbi\n"
     ]
    }
   ],
   "source": [
    "print(inactive_users)"
   ]
  },
  {
   "cell_type": "markdown",
   "metadata": {},
   "source": [
    "### Notice anything?  \n",
    "\n",
    "Abbi replaced Abagail!  That is becasue is we look at the type of variable `inactive_users` is we will see it is a string, not a list:"
   ]
  },
  {
   "cell_type": "code",
   "execution_count": 177,
   "metadata": {},
   "outputs": [
    {
     "data": {
      "text/plain": [
       "str"
      ]
     },
     "execution_count": 177,
     "metadata": {},
     "output_type": "execute_result"
    }
   ],
   "source": [
    "type(inactive_users)"
   ]
  },
  {
   "cell_type": "markdown",
   "metadata": {},
   "source": [
    "### Let's fix that!"
   ]
  },
  {
   "cell_type": "code",
   "execution_count": 178,
   "metadata": {},
   "outputs": [
    {
     "name": "stdout",
     "output_type": "stream",
     "text": [
      "['Aaren', 'Aarika', 'Abagael', 'Abagail', 'Abbe', 'Abbey', 'Abbi', 'Abbie', 'Abby', 'Abbye']\n"
     ]
    }
   ],
   "source": [
    "users = a_names[0:11]\n",
    "inactive_users = []\n",
    "inactive_users.append(users.pop())\n",
    "print(users)"
   ]
  },
  {
   "cell_type": "code",
   "execution_count": 179,
   "metadata": {},
   "outputs": [
    {
     "name": "stdout",
     "output_type": "stream",
     "text": [
      "['Abigael']\n"
     ]
    }
   ],
   "source": [
    "print(inactive_users)\n"
   ]
  },
  {
   "cell_type": "code",
   "execution_count": 180,
   "metadata": {},
   "outputs": [],
   "source": [
    "inactive_users.append(users.pop(6))"
   ]
  },
  {
   "cell_type": "code",
   "execution_count": 181,
   "metadata": {},
   "outputs": [
    {
     "name": "stdout",
     "output_type": "stream",
     "text": [
      "['Abigael', 'Abbi']\n"
     ]
    }
   ],
   "source": [
    "print(inactive_users)\n"
   ]
  },
  {
   "cell_type": "code",
   "execution_count": 182,
   "metadata": {},
   "outputs": [
    {
     "data": {
      "text/plain": [
       "list"
      ]
     },
     "execution_count": 182,
     "metadata": {},
     "output_type": "execute_result"
    }
   ],
   "source": [
    "type(inactive_users)"
   ]
  },
  {
   "cell_type": "markdown",
   "metadata": {},
   "source": [
    "### Removing an Item by Value\n",
    "Sometimes you won’t know the position of the value you want to remove from a list. If you only know the value of the item you want to remove, you can use the **`remove()`** method.  Let's remove *Aarika* from the `users` list."
   ]
  },
  {
   "cell_type": "code",
   "execution_count": null,
   "metadata": {},
   "outputs": [],
   "source": [
    "users.remove('Aarika') \n",
    "print(users)"
   ]
  },
  {
   "cell_type": "markdown",
   "metadata": {},
   "source": [
    "## Organizing a List\n",
    "\n",
    "Often, your lists will be created in an unpredictable order, because you can’t always control the order in which your users provide their data. Although this is unavoidable in most circumstances, you’ll frequently want to present your information in a particular order. Sometimes you’ll want to preserve the original order of your list, and other times you’ll want to change the original order. Python provides a number of different ways to organize your lists, depending on the situation.\n",
    "\n",
    "### Sorting a List Permanently with the `sort()` Method\n",
    "\n",
    "The **`sort()`** method changes the order of the list permanently. The cars are now in alphabetical order, and we can never revert to the original order:"
   ]
  },
  {
   "cell_type": "code",
   "execution_count": null,
   "metadata": {},
   "outputs": [],
   "source": [
    "cars = ['bmw', 'audi', 'toyota', 'subaru'] \n",
    "cars.sort()\n",
    "print(cars)"
   ]
  },
  {
   "cell_type": "markdown",
   "metadata": {},
   "source": [
    "You can also sort this list in reverse alphabetical order by passing the argument `reverse=True` to the `sort()` method."
   ]
  },
  {
   "cell_type": "code",
   "execution_count": null,
   "metadata": {},
   "outputs": [],
   "source": [
    "cars.sort(reverse=True)\n",
    "print(cars)"
   ]
  },
  {
   "cell_type": "markdown",
   "metadata": {},
   "source": [
    "### Sorting a List Temporarily with the `sorted()` Function\n",
    "\n",
    "Since `sorted()` is a function, instead of a method, it work a little differntly:"
   ]
  },
  {
   "cell_type": "code",
   "execution_count": null,
   "metadata": {},
   "outputs": [],
   "source": [
    "cars = ['bmw', 'audi', 'toyota', 'subaru']\n",
    "print(sorted(cars))"
   ]
  },
  {
   "cell_type": "markdown",
   "metadata": {},
   "source": [
    "Things don't always work this well but the sorted funtion also has the `reverse=True` argument:'"
   ]
  },
  {
   "cell_type": "code",
   "execution_count": null,
   "metadata": {},
   "outputs": [],
   "source": [
    "cars = ['bmw', 'audi', 'toyota', 'subaru']\n",
    "print(sorted(cars,reverse=True))"
   ]
  },
  {
   "cell_type": "markdown",
   "metadata": {},
   "source": [
    "### Reverse Order *method* with `reverse()`\n",
    "\n",
    "To reverse the original order of a list, you can use the `reverse()` method.\n",
    "If we originally stored the list of cars in chronological order according to when we owned them, we could easily rearrange the list into reverse chronological order:"
   ]
  },
  {
   "cell_type": "code",
   "execution_count": null,
   "metadata": {},
   "outputs": [],
   "source": [
    "cars = ['bmw', 'audi', 'toyota', 'subaru']\n",
    "cars.reverse()\n",
    "print(cars)"
   ]
  },
  {
   "cell_type": "markdown",
   "metadata": {},
   "source": [
    "Notice that reverse() doesn’t sort backward alphabetically; it simply reverses the order of the list:"
   ]
  }
 ],
 "metadata": {
  "kernelspec": {
   "display_name": "Python 3",
   "language": "python",
   "name": "python3"
  },
  "language_info": {
   "codemirror_mode": {
    "name": "ipython",
    "version": 3
   },
   "file_extension": ".py",
   "mimetype": "text/x-python",
   "name": "python",
   "nbconvert_exporter": "python",
   "pygments_lexer": "ipython3",
   "version": "3.6.4"
  }
 },
 "nbformat": 4,
 "nbformat_minor": 2
}
