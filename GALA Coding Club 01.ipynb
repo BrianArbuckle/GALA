{
 "cells": [
  {
   "cell_type": "markdown",
   "metadata": {},
   "source": [
    "In a Jupyter Notebook, in order to run the cell below, first, click on the cell. Then on you keyboard, hold the `shift` key while pressing the `return` key, and **Voilà!**"
   ]
  },
  {
   "cell_type": "code",
   "execution_count": 1,
   "metadata": {},
   "outputs": [
    {
     "name": "stdout",
     "output_type": "stream",
     "text": [
      "Hello GALA Coding Club!\n"
     ]
    }
   ],
   "source": [
    "message = \"Hello GALA Coding Club!\"\n",
    "print(message)"
   ]
  },
  {
   "cell_type": "markdown",
   "metadata": {},
   "source": [
    "## What really happens when you run the cell above?\n",
    "\n",
    "> First, you are assigning a value to the variable `message`<br>\n",
    "> In the second line, you are telling python to \"print\" or show the contents of the **variable**  `message`<br>\n",
    "\n",
    "## How about the cell below?"
   ]
  },
  {
   "cell_type": "code",
   "execution_count": 2,
   "metadata": {},
   "outputs": [
    {
     "data": {
      "text/plain": [
       "'Hello GALA Coding Club!'"
      ]
     },
     "execution_count": 2,
     "metadata": {},
     "output_type": "execute_result"
    }
   ],
   "source": [
    "message"
   ]
  },
  {
   "cell_type": "markdown",
   "metadata": {},
   "source": [
    "## Does it look the same?\n",
    "\n",
    "> Almost. However, instead of only showing the contents of the variable `message`, it is also telling you what kind of data the message is by displaying the single quote - *we will go into this more later.*<br>\n",
    "\n",
    "### Back to Variables for now.  \n",
    "\n",
    "> We assigned the text: `Hello GALA Coding Club!` to the `message` variable.  You can change the value of a variable in your program at any time, and Python will always keep track of its current value.  For example, if we do the following:"
   ]
  },
  {
   "cell_type": "code",
   "execution_count": 3,
   "metadata": {},
   "outputs": [
    {
     "name": "stdout",
     "output_type": "stream",
     "text": [
      "Hello Club!\n"
     ]
    }
   ],
   "source": [
    "message = \"Hello Club!\"\n",
    "print(message)"
   ]
  },
  {
   "cell_type": "markdown",
   "metadata": {},
   "source": [
    "### When Naming and Using Variables you need to follow a few rules:\n",
    "\n",
    "> • Variable names can contain only letters, numbers, and underscores. They can start with a letter or an underscore, but not with a number. For instance, you can call a variable message_1 but not 1_message.<br>\n",
    "> • Spaces are not allowed in variable names, but underscores can be used to separate words in variable names. For example, **`greeting_message`** works, but **`greeting message`** will cause errors.<br>\n",
    "> • Avoid using Python keywords and function names as variable names; that is, do not use words that Python has reserved for a particular programmatic purpose, such as the word **`print.`** <br>\n",
    "> • Variable names should be short but descriptive. For example, name is better than n, student_name is better than s_n, and name_length is better than length_of_persons_name.<br>\n",
    "> • Be careful when using the lowercase letter l and the uppercase letter O because they could be confused with the numbers 1 and 0.<br>\n",
    "> `The Python variables you’re using at this point should be lowercase. You won’t get errors if you use uppercase letters, but it’s a good idea to avoid using them for now, you will see why when you learn about \"Classes\"`\n",
    "\n",
    "Give it a try, and create and print a couple variables."
   ]
  },
  {
   "cell_type": "code",
   "execution_count": null,
   "metadata": {},
   "outputs": [],
   "source": []
  },
  {
   "cell_type": "code",
   "execution_count": null,
   "metadata": {},
   "outputs": [],
   "source": []
  },
  {
   "cell_type": "markdown",
   "metadata": {},
   "source": [
    "### Strings\n",
    "\n",
    "So far we have been working with one data type, which is a **`string`**.  Let's dive into string a bit more, before we go into other data types.\n",
    "\n",
    "A string is simply a series of characters. Anything inside quotes is considered a string in Python, and you can use single or double quotes around your strings like this:\n",
    "> `\"This is a string.\"`<br>\n",
    "> `'This is also a string.'`\n",
    "\n",
    "Let's play around with some **methods.** By the way, we will go into more detail explaining the difference between methods and functions. For now, let's see some string methods in action:\n",
    "\n",
    "In this example, the lowercase string \"julie dorris\" is stored in the variable name. The method `title()` appears after the variable in the `print()` statement. **A method is an action that Python can perform on a piece of data.** The dot (.) after name in name.title() tells Python to make the title() method act on the variable name. Every method is followed by a set of parentheses, because methods often need additional information to do their work (remember how the print *function* worked). That information is provided inside the parentheses. The `title()` function doesn’t need any additional information, so its parentheses are empty.\n",
    "`title()` displays each word in titlecase, where each word begins with a capital letter. This is useful because you’ll often want to think of a name as a piece of information. For example, you might want your program to recognize the input values Julie, JULIE, and julie as the same name, and display all of them as Julie."
   ]
  },
  {
   "cell_type": "code",
   "execution_count": 5,
   "metadata": {},
   "outputs": [
    {
     "name": "stdout",
     "output_type": "stream",
     "text": [
      "Julie Dorris\n"
     ]
    }
   ],
   "source": [
    "name = \"julie dorris\"\n",
    "print(name.title())"
   ]
  },
  {
   "cell_type": "markdown",
   "metadata": {},
   "source": [
    "## What  happens when you run the cell above?\n",
    "\n",
    "As you see `title()` capitalized the first letter of each word. Do you think it changed the variable `name`? Let's see:"
   ]
  },
  {
   "cell_type": "code",
   "execution_count": null,
   "metadata": {},
   "outputs": [],
   "source": [
    "print(name)"
   ]
  },
  {
   "cell_type": "markdown",
   "metadata": {},
   "source": [
    "Here is a fun thing about python variables. You can change a variable by reassinging the variable to itself (with or without modifications). For example  (NOTE The New Mothod **`upper()`**):"
   ]
  },
  {
   "cell_type": "code",
   "execution_count": null,
   "metadata": {},
   "outputs": [],
   "source": [
    "name = name.upper()\n",
    "print(name)"
   ]
  },
  {
   "cell_type": "markdown",
   "metadata": {},
   "source": [
    "In addition to `title()` and `upper()` there is one other method that can be perfromed on strings, **`lower()`**"
   ]
  },
  {
   "cell_type": "code",
   "execution_count": null,
   "metadata": {},
   "outputs": [],
   "source": [
    "print(name.lower())"
   ]
  },
  {
   "cell_type": "markdown",
   "metadata": {},
   "source": [
    "## Combining or Concatenating Strings\n",
    "\n",
    "Let's take a look at the cell below:"
   ]
  },
  {
   "cell_type": "code",
   "execution_count": null,
   "metadata": {},
   "outputs": [],
   "source": [
    "first_name = \"jill\"\n",
    "last_name = \"smith\"\n",
    "full_name = first_name + \" \" + last_name\n",
    "\n",
    "print(full_name)\n"
   ]
  },
  {
   "cell_type": "markdown",
   "metadata": {},
   "source": [
    "Python uses the plus symbol `(+)` to combine strings. In this example, we use + to create a full name by combining a first_name, **a space**, and a last_name.\n",
    "\n",
    "This method of combining strings is called ***concatenation***. You can use concatenation to compose complete messages using the information you’ve stored in a variable. Let’s look at an example from the Crash Course Book. "
   ]
  },
  {
   "cell_type": "code",
   "execution_count": null,
   "metadata": {},
   "outputs": [],
   "source": [
    "print(\"Hello, \" + full_name.title() + \"! \\nHow are you?\")"
   ]
  },
  {
   "cell_type": "markdown",
   "metadata": {},
   "source": [
    "Do you see what `\\n` did?  It created a new line.  You can also tab with `\\t`"
   ]
  },
  {
   "cell_type": "code",
   "execution_count": null,
   "metadata": {},
   "outputs": [],
   "source": [
    "print(\"\\tDear \" + first_name.title() + \", \\nYou have been nominated for the Nobel prize in physics!\")"
   ]
  },
  {
   "cell_type": "code",
   "execution_count": null,
   "metadata": {},
   "outputs": [],
   "source": []
  },
  {
   "cell_type": "code",
   "execution_count": null,
   "metadata": {},
   "outputs": [],
   "source": []
  },
  {
   "cell_type": "code",
   "execution_count": null,
   "metadata": {},
   "outputs": [],
   "source": []
  }
 ],
 "metadata": {
  "kernelspec": {
   "display_name": "Python 3",
   "language": "python",
   "name": "python3"
  },
  "language_info": {
   "codemirror_mode": {
    "name": "ipython",
    "version": 3
   },
   "file_extension": ".py",
   "mimetype": "text/x-python",
   "name": "python",
   "nbconvert_exporter": "python",
   "pygments_lexer": "ipython3",
   "version": "3.6.4"
  }
 },
 "nbformat": 4,
 "nbformat_minor": 2
}
