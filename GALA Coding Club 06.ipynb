{
 "cells": [
  {
   "cell_type": "markdown",
   "metadata": {},
   "source": [
    "# Dictionaries\n",
    "\n",
    "Python’s dictionaries allow you to connect pieces of related information.\n",
    "\n",
    "### A Simple Dictionary\n",
    "\n",
    "Consider a game featuring aliens that can have different colors and point values. This simple dictionary stores information about a particular alien:"
   ]
  },
  {
   "cell_type": "code",
   "execution_count": 46,
   "metadata": {},
   "outputs": [
    {
     "name": "stdout",
     "output_type": "stream",
     "text": [
      "green\n",
      "5\n"
     ]
    }
   ],
   "source": [
    "alien_0 = {'color': 'green', 'points': 5}\n",
    "print(alien_0['color'])\n",
    "print(alien_0['points'])"
   ]
  },
  {
   "cell_type": "markdown",
   "metadata": {},
   "source": [
    "The dictionary alien_0 stores the alien’s color and point value. The two print statements access and display that information.\n",
    "\n",
    "### Working with Dictionaries\n",
    "\n",
    "A dictionary in Python is a collection of **key-value pairs**. Each **key** is connected to a **value**, and you can use a key to access the value associated with that key. A key’s value can be a number, a string, a list, or even another dictionary.\n",
    "\n",
    "In fact, you can use any object that you can create in Python as a value in a dictionary.\n",
    "In Python, a dictionary is wrapped in braces, **`{}`**, with a series of key-value pairs inside the braces, as shown in the earlier example:"
   ]
  },
  {
   "cell_type": "code",
   "execution_count": null,
   "metadata": {},
   "outputs": [],
   "source": [
    "alien_0 = {'color': 'green', 'points': 5}"
   ]
  },
  {
   "cell_type": "markdown",
   "metadata": {},
   "source": [
    "A key-value pair is a set of values associated with each other. When you provide a key, Python returns the value associated with that key. Every key is connected to its value by a colon, and individual key-value pairs are sepa- rated by commas. You can store as many key-value pairs as you want in a dictionary.\n",
    "\n",
    "### Accessing Values in a Dictionary\n",
    "\n",
    "We use square brackets **`[]`**, like we did with lists:"
   ]
  },
  {
   "cell_type": "code",
   "execution_count": 47,
   "metadata": {},
   "outputs": [
    {
     "name": "stdout",
     "output_type": "stream",
     "text": [
      "green\n"
     ]
    }
   ],
   "source": [
    "print(alien_0['color'])"
   ]
  },
  {
   "cell_type": "markdown",
   "metadata": {},
   "source": [
    "Now you can access either the color or the point value of alien_0. If a player shoots down this alien, you can look up how many points they should earn using code like this:"
   ]
  },
  {
   "cell_type": "code",
   "execution_count": 48,
   "metadata": {},
   "outputs": [
    {
     "name": "stdout",
     "output_type": "stream",
     "text": [
      "You just earned 5 points!\n"
     ]
    }
   ],
   "source": [
    "new_points = alien_0['points']\n",
    "print(\"You just earned \" + str(new_points) + \" points!\")"
   ]
  },
  {
   "cell_type": "markdown",
   "metadata": {},
   "source": [
    "Once the dictionary has been defined, the code at pulls the value associated with the key `'points'` from the dictionary. This value is then stored in the variable new_points. The next line converts this integer value to a string and prints a statement about how many points the player just earned.\n",
    "\n",
    "If you run this code every time an alien is shot down, the alien’s point value will be retrieved."
   ]
  },
  {
   "cell_type": "markdown",
   "metadata": {},
   "source": [
    "### Adding New Key-Value Pairs\n",
    "\n",
    "Dictionaries are dynamic structures, and you can add new key-value pairs to a dictionary at any time. For example, to add a new key-value pair, you would give the name of the dictionary followed by the new key in square brackets along with the new value.\n",
    "\n",
    "Let’s add two new pieces of information to the alien_0 dictionary: the alien’s x- and y-coordinates, which will help us display the alien in a par- ticular position on the screen. Let’s place the alien on the left edge of the screen, 25 pixels down from the top. Because screen coordinates usually start at the upper-left corner of the screen, we’ll place the alien on the left edge of the screen by setting the x-coordinate to 0 and 25 pixels from the top by setting its y-coordinate to positive 25, as shown here:"
   ]
  },
  {
   "cell_type": "code",
   "execution_count": 49,
   "metadata": {},
   "outputs": [
    {
     "name": "stdout",
     "output_type": "stream",
     "text": [
      "{'color': 'green', 'points': 5, 'x_position': 0, 'y_position': 25}\n"
     ]
    }
   ],
   "source": [
    "alien_0['x_position'] = 0\n",
    "alien_0['y_position'] = 25\n",
    "print(alien_0)"
   ]
  },
  {
   "cell_type": "markdown",
   "metadata": {},
   "source": [
    "The final version of the dictionary contains four key-value pairs. The original two specify color and point value, and two more specify the alien’s position. Notice that the order of the key-value pairs does not match the order in which we added them. Python doesn’t care about the order in which you store each key-value pair; it cares only about the connection between each key and its value.\n",
    "\n",
    "### REMINDER ABOUT LISTS\n",
    "\n",
    "Remember to add to a list we use the append method:\n"
   ]
  },
  {
   "cell_type": "code",
   "execution_count": 58,
   "metadata": {},
   "outputs": [
    {
     "name": "stdout",
     "output_type": "stream",
     "text": [
      "['taylor swift', 'demi lavato', 'alicia keys', 'ariana grande']\n"
     ]
    }
   ],
   "source": [
    "singers = []\n",
    "singers.append('taylor swift') \n",
    "singers.append('demi lavato') \n",
    "singers.append('alicia keys') \n",
    "singers.append('ariana grande') \n",
    "print(singers)"
   ]
  },
  {
   "cell_type": "markdown",
   "metadata": {},
   "source": [
    "### Starting with an Empty Dictionary\n",
    "\n",
    "Like the list above, it’s sometimes convenient, or even necessary, to start with an empty diction- ary and then add each new item to it. To start filling an empty dictionary, define a dictionary with an empty set of braces and then add each key-value pair on its own line. For example, here’s how to build the alien_0 dictionary using this approach:"
   ]
  },
  {
   "cell_type": "code",
   "execution_count": 51,
   "metadata": {},
   "outputs": [
    {
     "name": "stdout",
     "output_type": "stream",
     "text": [
      "{'color': 'green', 'points': 5}\n"
     ]
    }
   ],
   "source": [
    "alien_0 = {}\n",
    "alien_0['color'] = 'green'\n",
    "alien_0['points'] = 5\n",
    "print(alien_0)"
   ]
  },
  {
   "cell_type": "markdown",
   "metadata": {},
   "source": [
    "### Modifying Values in a Dictionary\n",
    "\n",
    "Again somewhat like a list. To modify a value in a dictionary, give the name of the dictionary with the key in square brackets and then the new value you want associated with that key. For example, consider an alien that changes from green to yellow as a game progresses:"
   ]
  },
  {
   "cell_type": "code",
   "execution_count": 52,
   "metadata": {},
   "outputs": [
    {
     "name": "stdout",
     "output_type": "stream",
     "text": [
      "The alien is green.\n",
      "The alien is now yellow.\n"
     ]
    }
   ],
   "source": [
    "alien_0 = {'color': 'green'}\n",
    "print(\"The alien is \" + alien_0['color'] + \".\")\n",
    "alien_0['color'] = 'yellow'\n",
    "print(\"The alien is now \" + alien_0['color'] + \".\")\n"
   ]
  },
  {
   "cell_type": "markdown",
   "metadata": {},
   "source": [
    "### Removing Key-Value Pairs\n",
    "\n",
    "When you no longer need a piece of information that’s stored in a dictioary, you can use the **`del`** statement to completely remove a key-value pair. All `del` needs is the name of the dictionary and the key that you want to remove.\n",
    "\n",
    "For example, let’s remove the key 'points' from the alien_0 dictionary along with its value:"
   ]
  },
  {
   "cell_type": "code",
   "execution_count": 53,
   "metadata": {},
   "outputs": [
    {
     "name": "stdout",
     "output_type": "stream",
     "text": [
      "{'color': 'green', 'points': 5}\n",
      "{'color': 'green'}\n"
     ]
    }
   ],
   "source": [
    "alien_0 = {'color': 'green', 'points': 5}\n",
    "print(alien_0)\n",
    "\n",
    "del alien_0['points'] \n",
    "print(alien_0)"
   ]
  },
  {
   "cell_type": "markdown",
   "metadata": {},
   "source": [
    "### REMINDER ABOUT LISTS\n",
    "\n",
    "Remember to delete from a list we use also us the `del` function, and as you may recall, we select the location with the index location:"
   ]
  },
  {
   "cell_type": "code",
   "execution_count": 56,
   "metadata": {},
   "outputs": [
    {
     "name": "stdout",
     "output_type": "stream",
     "text": [
      "['alicia keys', 'ariana grande']\n"
     ]
    }
   ],
   "source": [
    "del singers[0] \n",
    "print(singers)"
   ]
  },
  {
   "cell_type": "markdown",
   "metadata": {},
   "source": [
    "Unlike dictionaries, Lists require the index location for the `del` funtion, while a list uses the `remove` method to remove and item by value instead of possition."
   ]
  },
  {
   "cell_type": "code",
   "execution_count": 59,
   "metadata": {},
   "outputs": [
    {
     "name": "stdout",
     "output_type": "stream",
     "text": [
      "['taylor swift', 'alicia keys', 'ariana grande']\n"
     ]
    }
   ],
   "source": [
    "singers.remove('demi lavato') \n",
    "print(singers)"
   ]
  },
  {
   "cell_type": "markdown",
   "metadata": {},
   "source": [
    "### A Dictionary of Similar Objects\n",
    "\n",
    "The previous example involved storing different kinds of information about one object, an alien in a game. You can also use a dictionary to store one kind of information about many objects. For example, say you want to poll a number of people and ask them what their favorite programming language is. A dictionary is useful for storing the results of a simple poll, like this:"
   ]
  },
  {
   "cell_type": "code",
   "execution_count": 60,
   "metadata": {},
   "outputs": [],
   "source": [
    "favorite_languages = {'audrey': 'python', \n",
    "                      'leila': 'c', \n",
    "                      'mr. landa': 'java', \n",
    "                      'brian': 'python', \n",
    "                      'stephanie' : 'english'}"
   ]
  },
  {
   "cell_type": "markdown",
   "metadata": {},
   "source": [
    "As you can see, we’ve broken a larger dictionary into several lines. Each key is the name of a person who responded to the poll, and each value is their language choice. When you know you’ll need more than one line to define a dictionary, press ENTER after the opening brace. Then indent the next line one level (four spaces), and write the first key-value pair, followed by a comma. From this point forward when you press ENTER, your text editor should automatically indent all subsequent key-value pairs to match the first key-value pair.\n",
    "Once you’ve finished defining the dictionary, add a closing brace on a new line after the last key-value pair and indent it one level so it aligns with the keys in the dictionary. It’s good practice to include a comma after the last key-value pair as well, so you’re ready to add a new key-value pair on the next line."
   ]
  },
  {
   "cell_type": "code",
   "execution_count": 61,
   "metadata": {},
   "outputs": [
    {
     "name": "stdout",
     "output_type": "stream",
     "text": [
      "Brian's favorite language is Python.\n"
     ]
    }
   ],
   "source": [
    "print(\"Brian's favorite language is \" + favorite_languages['brian'].title() + \".\")"
   ]
  },
  {
   "cell_type": "markdown",
   "metadata": {},
   "source": [
    "### Looping Through All the Keys in a Dictionary"
   ]
  },
  {
   "cell_type": "code",
   "execution_count": 62,
   "metadata": {},
   "outputs": [
    {
     "name": "stdout",
     "output_type": "stream",
     "text": [
      "Audrey\n",
      "Leila\n",
      "Mr. Landa\n",
      "Brian\n",
      "Stephanie\n"
     ]
    }
   ],
   "source": [
    "for name in favorite_languages.keys(): \n",
    "    print(name.title())"
   ]
  },
  {
   "cell_type": "markdown",
   "metadata": {},
   "source": [
    "Looping through the keys is actually the default behavior when looping through a dictionary, so this code would have exactly the same output if you wrote . . .\n",
    "\n",
    "   `for name in favorite_languages:`\n",
    "\n",
    "rather than . . .\n",
    "\n",
    "`for name in favorite_languages.keys():`\n",
    "\n",
    "\n",
    "You can choose to use the keys() method explicitly if it makes your code easier to read, or you can omit it if you wish.\n",
    "You can access the value associated with any key you care about inside the loop by using the current key. Let’s print a message to a couple of friends about the languages they chose. We’ll loop through the names in the diction- ary as we did previously, but when the name matches one of our friends, we’ll display a message about their favorite language:"
   ]
  },
  {
   "cell_type": "code",
   "execution_count": 63,
   "metadata": {},
   "outputs": [
    {
     "name": "stdout",
     "output_type": "stream",
     "text": [
      "Audrey\n",
      " Hi Audrey, I see your favorite language is Python!\n",
      "Leila\n",
      "Mr. Landa\n",
      "Brian\n",
      "Stephanie\n",
      " Hi Stephanie, I see your favorite language is English!\n"
     ]
    }
   ],
   "source": [
    "friends = ['audrey', 'stephanie']\n",
    "for name in favorite_languages.keys():\n",
    "    print(name.title())\n",
    "    if name in friends:\n",
    "        print(\" Hi \" + name.title() + \", I see your favorite language is \" + favorite_languages[name].title() + \"!\")"
   ]
  },
  {
   "cell_type": "markdown",
   "metadata": {},
   "source": [
    "### Looping Through a Dictionary’s Keys in Order\n",
    "\n",
    "A dictionary always maintains a clear connection between each key and its associated value, but you never get the items from a dictionary in any predictable order. That’s not a problem, because you’ll usually just want to obtain the correct value associated with each key.\n",
    "One way to return items in a certain order is to sort the keys as they’re returned in the for loop. You can use the `sorted()` function to get a copy of the keys in order:"
   ]
  },
  {
   "cell_type": "code",
   "execution_count": 64,
   "metadata": {},
   "outputs": [
    {
     "name": "stdout",
     "output_type": "stream",
     "text": [
      "Audrey, thank you for taking the poll.\n",
      "Brian, thank you for taking the poll.\n",
      "Leila, thank you for taking the poll.\n",
      "Mr. Landa, thank you for taking the poll.\n",
      "Stephanie, thank you for taking the poll.\n"
     ]
    }
   ],
   "source": [
    "for name in sorted(favorite_languages.keys()):\n",
    "    print(name.title() + \", thank you for taking the poll.\")"
   ]
  },
  {
   "cell_type": "markdown",
   "metadata": {},
   "source": [
    "### Looping Through All Values in a Dictionary\n",
    "\n",
    "If you are primarily interested in the values that a dictionary contains, you can use the `values()` method to return a list of values without any keys. For example, say we simply want a list of all languages chosen in our programming language poll without the name of the person who chose each language:"
   ]
  },
  {
   "cell_type": "code",
   "execution_count": 65,
   "metadata": {},
   "outputs": [
    {
     "name": "stdout",
     "output_type": "stream",
     "text": [
      "The following languages have been mentioned:\n",
      "Python\n",
      "C\n",
      "Java\n",
      "Python\n",
      "English\n"
     ]
    }
   ],
   "source": [
    "print(\"The following languages have been mentioned:\")\n",
    "for language in favorite_languages.values():\n",
    "    print(language.title())"
   ]
  },
  {
   "cell_type": "markdown",
   "metadata": {},
   "source": [
    "## SET - a  footnote for now\n",
    "\n",
    "This approach pulls all the values from the dictionary without checking for repeats. That might work fine with a small number of values, but in a poll with a large number of respondents, this would result in a very repetitive list. To see each language chosen without repetition, we can use a set.\n",
    "A set is similar to a list except that each item in the set must be unique:"
   ]
  },
  {
   "cell_type": "code",
   "execution_count": 66,
   "metadata": {},
   "outputs": [
    {
     "name": "stdout",
     "output_type": "stream",
     "text": [
      "The following languages have been mentioned:\n",
      "Java\n",
      "Python\n",
      "C\n",
      "English\n"
     ]
    }
   ],
   "source": [
    "print(\"The following languages have been mentioned:\")\n",
    "for language in set(favorite_languages.values()):\n",
    "    print(language.title())"
   ]
  },
  {
   "cell_type": "code",
   "execution_count": 74,
   "metadata": {},
   "outputs": [],
   "source": [
    "newset = {'brian','brian','brisn', 'brian', 'bryan'}\n"
   ]
  },
  {
   "cell_type": "code",
   "execution_count": 75,
   "metadata": {},
   "outputs": [
    {
     "data": {
      "text/plain": [
       "{'brian', 'brisn', 'bryan'}"
      ]
     },
     "execution_count": 75,
     "metadata": {},
     "output_type": "execute_result"
    }
   ],
   "source": [
    "newset\n"
   ]
  },
  {
   "cell_type": "code",
   "execution_count": null,
   "metadata": {},
   "outputs": [],
   "source": []
  }
 ],
 "metadata": {
  "kernelspec": {
   "display_name": "Python 3",
   "language": "python",
   "name": "python3"
  },
  "language_info": {
   "codemirror_mode": {
    "name": "ipython",
    "version": 3
   },
   "file_extension": ".py",
   "mimetype": "text/x-python",
   "name": "python",
   "nbconvert_exporter": "python",
   "pygments_lexer": "ipython3",
   "version": "3.6.4"
  }
 },
 "nbformat": 4,
 "nbformat_minor": 2
}
