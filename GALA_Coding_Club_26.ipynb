{
 "cells": [
  {
   "cell_type": "markdown",
   "metadata": {},
   "source": [
    "# *So* Random\n",
    "\n",
    "In thinking about what our charecter, or Mort, the talking door handle from the book \"Crown of Midnight,\" might say at any given time, I am sure it would not be the same response to the same input.  Imagine our character losing hit points when being struck. It could say \"Ouch\" every single time, or we could create a list of reactions that we randomly pick. \n",
    "\n",
    "Python comes equipped with the random module, which gives us a wide variety of functions for generating random numbers and choices from lists and other iterables (sets, dictionaries, tuples, etc...).  Let's explore.\n",
    "\n",
    "First, you must import the module:"
   ]
  },
  {
   "cell_type": "code",
   "execution_count": 1,
   "metadata": {},
   "outputs": [],
   "source": [
    "import random"
   ]
  },
  {
   "cell_type": "markdown",
   "metadata": {},
   "source": [
    "Second, print the directory of the random module and see what methods are available using the directory function."
   ]
  },
  {
   "cell_type": "code",
   "execution_count": 2,
   "metadata": {},
   "outputs": [
    {
     "data": {
      "text/plain": [
       "['BPF',\n",
       " 'LOG4',\n",
       " 'NV_MAGICCONST',\n",
       " 'RECIP_BPF',\n",
       " 'Random',\n",
       " 'SG_MAGICCONST',\n",
       " 'SystemRandom',\n",
       " 'TWOPI',\n",
       " '_BuiltinMethodType',\n",
       " '_MethodType',\n",
       " '_Sequence',\n",
       " '_Set',\n",
       " '__all__',\n",
       " '__builtins__',\n",
       " '__cached__',\n",
       " '__doc__',\n",
       " '__file__',\n",
       " '__loader__',\n",
       " '__name__',\n",
       " '__package__',\n",
       " '__spec__',\n",
       " '_acos',\n",
       " '_bisect',\n",
       " '_ceil',\n",
       " '_cos',\n",
       " '_e',\n",
       " '_exp',\n",
       " '_inst',\n",
       " '_itertools',\n",
       " '_log',\n",
       " '_os',\n",
       " '_pi',\n",
       " '_random',\n",
       " '_sha512',\n",
       " '_sin',\n",
       " '_sqrt',\n",
       " '_test',\n",
       " '_test_generator',\n",
       " '_urandom',\n",
       " '_warn',\n",
       " 'betavariate',\n",
       " 'choice',\n",
       " 'choices',\n",
       " 'expovariate',\n",
       " 'gammavariate',\n",
       " 'gauss',\n",
       " 'getrandbits',\n",
       " 'getstate',\n",
       " 'lognormvariate',\n",
       " 'normalvariate',\n",
       " 'paretovariate',\n",
       " 'randint',\n",
       " 'random',\n",
       " 'randrange',\n",
       " 'sample',\n",
       " 'seed',\n",
       " 'setstate',\n",
       " 'shuffle',\n",
       " 'triangular',\n",
       " 'uniform',\n",
       " 'vonmisesvariate',\n",
       " 'weibullvariate']"
      ]
     },
     "execution_count": 2,
     "metadata": {},
     "output_type": "execute_result"
    }
   ],
   "source": [
    "dir(random)"
   ]
  },
  {
   "cell_type": "markdown",
   "metadata": {},
   "source": [
    "Take notice of the last grouping of words in the directory output.  Those are functions/methods of the random module, above are the random methods. Let's see what the random function does."
   ]
  },
  {
   "cell_type": "code",
   "execution_count": 11,
   "metadata": {},
   "outputs": [
    {
     "name": "stdout",
     "output_type": "stream",
     "text": [
      "Help on built-in function random:\n",
      "\n",
      "random(...) method of random.Random instance\n",
      "    random() -> x in the interval [0, 1).\n",
      "\n"
     ]
    }
   ],
   "source": [
    "help(random.random)"
   ]
  },
  {
   "cell_type": "markdown",
   "metadata": {},
   "source": [
    "This function returns a random number in the interval 0 to 1 the square bracket means it can return 0 while the open parenthesis means it will never return 1.  You will see this noation when learning set theory in math. Let's let's display ten random numbers from the interval 0 to 1 "
   ]
  },
  {
   "cell_type": "code",
   "execution_count": 16,
   "metadata": {},
   "outputs": [
    {
     "name": "stdout",
     "output_type": "stream",
     "text": [
      "0.4403302712873537\n",
      "0.6054010527372804\n",
      "0.5590107077504449\n",
      "0.22247431302170428\n",
      "0.860523820881058\n",
      "0.5424759909591753\n",
      "0.6668933743679449\n",
      "0.7745145859427716\n",
      "0.35817162143086045\n",
      "0.7847487974036923\n"
     ]
    }
   ],
   "source": [
    "for i in range(10):\n",
    "    print(random.random())"
   ]
  },
  {
   "cell_type": "markdown",
   "metadata": {},
   "source": [
    "So what if we wanted numbers larger than 0 to 1?  With the same function, we could create a new function that increases the range, say from 3 to 7, or [3, 7]."
   ]
  },
  {
   "cell_type": "code",
   "execution_count": 19,
   "metadata": {},
   "outputs": [],
   "source": [
    "def random_3_to_7():\n",
    "    return random.random() * 4 + 3"
   ]
  },
  {
   "cell_type": "code",
   "execution_count": 21,
   "metadata": {},
   "outputs": [
    {
     "name": "stdout",
     "output_type": "stream",
     "text": [
      "4.579553985431812\n",
      "3.1111787063657936\n",
      "6.915883775028213\n",
      "5.318162137685787\n",
      "5.1267709879987216\n",
      "6.60241263465804\n",
      "3.487709635861984\n",
      "3.9010489968145143\n",
      "4.614823460874266\n",
      "5.277857354832867\n"
     ]
    }
   ],
   "source": [
    "for i in range(10):\n",
    "    print(random_3_to_7())"
   ]
  },
  {
   "cell_type": "markdown",
   "metadata": {},
   "source": [
    "Another useful random number generator is the random integer or randint. "
   ]
  },
  {
   "cell_type": "code",
   "execution_count": 25,
   "metadata": {},
   "outputs": [
    {
     "name": "stdout",
     "output_type": "stream",
     "text": [
      "Help on method randint in module random:\n",
      "\n",
      "randint(a, b) method of random.Random instance\n",
      "    Return random integer in range [a, b], including both end points.\n",
      "\n"
     ]
    }
   ],
   "source": [
    "help(random.randint)"
   ]
  },
  {
   "cell_type": "code",
   "execution_count": 28,
   "metadata": {},
   "outputs": [
    {
     "name": "stdout",
     "output_type": "stream",
     "text": [
      "51\n",
      "51\n",
      "16\n",
      "25\n",
      "4\n",
      "36\n",
      "7\n",
      "14\n",
      "57\n",
      "8\n"
     ]
    }
   ],
   "source": [
    "for i in range(10):\n",
    "    print(random.randint(1,100))"
   ]
  },
  {
   "cell_type": "markdown",
   "metadata": {},
   "source": [
    "### Yikes! So many Choice and Choices\n",
    "\n",
    "Let's look at the choice function:"
   ]
  },
  {
   "cell_type": "code",
   "execution_count": 30,
   "metadata": {},
   "outputs": [
    {
     "name": "stdout",
     "output_type": "stream",
     "text": [
      "Help on method choice in module random:\n",
      "\n",
      "choice(seq) method of random.Random instance\n",
      "    Choose a random element from a non-empty sequence.\n",
      "\n"
     ]
    }
   ],
   "source": [
    "help(random.choice)"
   ]
  },
  {
   "cell_type": "code",
   "execution_count": 33,
   "metadata": {},
   "outputs": [],
   "source": [
    "interjections = ['Ouch', 'Ow', 'Wow', 'Kapow', 'Help', 'Gee', \n",
    "                 'Duh', 'Dang', 'Cool', 'Bravo', 'Bingo', \n",
    "                 'Brilliant', 'Excellent', 'Fabulous', 'Fantastic',\n",
    "                 'Yikes']\n",
    "\n",
    "punctuation = ['!','!!!', '.', ',', '...', '?', '', '?!?']"
   ]
  },
  {
   "cell_type": "code",
   "execution_count": 34,
   "metadata": {},
   "outputs": [
    {
     "data": {
      "text/plain": [
       "'Fantastic!'"
      ]
     },
     "execution_count": 34,
     "metadata": {},
     "output_type": "execute_result"
    }
   ],
   "source": [
    "random.choice(interjections) + random.choice(punctuation)"
   ]
  },
  {
   "cell_type": "code",
   "execution_count": 35,
   "metadata": {},
   "outputs": [
    {
     "name": "stdout",
     "output_type": "stream",
     "text": [
      "Kapow...\n",
      "Cool?\n",
      "Bravo\n",
      "Ouch?\n",
      "Ouch!!!\n",
      "Bingo...\n",
      "Ouch,\n",
      "Brilliant?!?\n",
      "Bravo!!!\n",
      "Fantastic...\n"
     ]
    }
   ],
   "source": [
    "for i in range(10):\n",
    "    print(random.choice(interjections) + random.choice(punctuation))"
   ]
  },
  {
   "cell_type": "markdown",
   "metadata": {},
   "source": [
    "### The big sister of choice is choices:"
   ]
  },
  {
   "cell_type": "code",
   "execution_count": 36,
   "metadata": {},
   "outputs": [
    {
     "name": "stdout",
     "output_type": "stream",
     "text": [
      "Help on method choices in module random:\n",
      "\n",
      "choices(population, weights=None, *, cum_weights=None, k=1) method of random.Random instance\n",
      "    Return a k sized list of population elements chosen with replacement.\n",
      "    \n",
      "    If the relative weights or cumulative weights are not specified,\n",
      "    the selections are made with equal probability.\n",
      "\n"
     ]
    }
   ],
   "source": [
    "help(random.choices)"
   ]
  },
  {
   "cell_type": "code",
   "execution_count": 48,
   "metadata": {},
   "outputs": [],
   "source": [
    "hit_interjections = ['Ouch', 'No', 'Yikes', 'Bad Word', 'Really Bad Word', 'Really Really Bad Word']\n",
    "w = [50,30,20,3,2,1]"
   ]
  },
  {
   "cell_type": "code",
   "execution_count": 58,
   "metadata": {},
   "outputs": [
    {
     "name": "stdout",
     "output_type": "stream",
     "text": [
      "['No']\n",
      "['No']\n",
      "['Yikes']\n",
      "['No']\n",
      "['Really Really Bad Word']\n",
      "['No']\n",
      "['Ouch']\n",
      "['Ouch']\n",
      "['Yikes']\n",
      "['Ouch']\n"
     ]
    }
   ],
   "source": [
    "for i in range(10):\n",
    "    print(random.choices(hit_interjections, weights=w))"
   ]
  },
  {
   "cell_type": "markdown",
   "metadata": {},
   "source": [
    "## Investigate adding some randomness to our character class.\n",
    "\n",
    "We'll tackle this next week."
   ]
  },
  {
   "cell_type": "code",
   "execution_count": 97,
   "metadata": {},
   "outputs": [
    {
     "name": "stdout",
     "output_type": "stream",
     "text": [
      "Merida, you have only 9 hit points left!\n",
      "Mulan the Great!, you have only 5 hit points left!\n",
      "Merida, you have 11 hit points now!\n",
      "Mulan the Great!, you have 7 hit points now!\n"
     ]
    }
   ],
   "source": [
    "class Character:\n",
    "    def __init__(self, name = '', owner = '', hp = 10, level = 1, lives = 3):\n",
    "        \"\"\"If not specified, the name and owner fields default to a blank value.\n",
    "        hp stand for hit points.'\"\"\"\n",
    "        self.name = name\n",
    "        self.owner = owner\n",
    "        self.hp = hp\n",
    "        self.level = level\n",
    "        self.lives = lives\n",
    "        \n",
    "    def hit(self, change = 1):\n",
    "        \"\"\"Lowers the character's hitpoints by the change value.  The default value is 1.\"\"\"\n",
    "        self.hp += -change\n",
    "        if self.hp <= 0:\n",
    "            print('You are dead! Ok ' + self.owner + ' you need to practice more')\n",
    "            self.lives -= 1\n",
    "        print(self.name + \", you have only \" + str(self.hp) + \" hit points left!\")\n",
    "        \n",
    "    def potion(self, change = 2):\n",
    "        self.hp += change\n",
    "        print(self.name + \", you have \" + str(self.hp) + \" hit points now!\")\n",
    "        \n",
    "\n",
    "Merida = Character(name = \"Merida\", owner = 'Audrey')\n",
    "Mulan = Character(name = 'Mulan', owner = 'Brian')\n",
    "\n",
    "Mulan.name\n",
    "\n",
    "Merida.hit()\n",
    "\n",
    "Mulan.hit(5)\n",
    "\n",
    "Merida.potion()\n",
    "Mulan.potion()"
   ]
  },
  {
   "cell_type": "markdown",
   "metadata": {},
   "source": [
    "A concept:"
   ]
  },
  {
   "cell_type": "code",
   "execution_count": 59,
   "metadata": {},
   "outputs": [],
   "source": [
    "greetings = ['Hi!', 'Hello!', 'Hey!', \"How's it going?\"]"
   ]
  },
  {
   "cell_type": "code",
   "execution_count": null,
   "metadata": {},
   "outputs": [],
   "source": []
  }
 ],
 "metadata": {
  "kernelspec": {
   "display_name": "Python 3",
   "language": "python",
   "name": "python3"
  },
  "language_info": {
   "codemirror_mode": {
    "name": "ipython",
    "version": 3
   },
   "file_extension": ".py",
   "mimetype": "text/x-python",
   "name": "python",
   "nbconvert_exporter": "python",
   "pygments_lexer": "ipython3",
   "version": "3.7.5"
  }
 },
 "nbformat": 4,
 "nbformat_minor": 2
}
