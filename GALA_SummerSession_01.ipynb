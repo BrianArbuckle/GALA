{
 "cells": [
  {
   "cell_type": "markdown",
   "metadata": {},
   "source": [
    "## Functional Programming  & Project Euler\n",
    "\n",
    "Create The Following Function:\n",
    "\n",
    "**If we list all the natural numbers (integers) below 10 that are multiples of 3 or 5, we get 3, 5, 6 and 9. The sum of these multiples is 23.**\n",
    "\n",
    "**In the pace below, find the sum of all the multiples of 3 or 5 below 1000**\n",
    "\n",
    "Hint, start small with a number you can calculate in your head."
   ]
  },
  {
   "cell_type": "code",
   "execution_count": null,
   "metadata": {},
   "outputs": [],
   "source": []
  },
  {
   "cell_type": "markdown",
   "metadata": {},
   "source": [
    "This is **Functional programming**. Functional programming is a style of programming that (as the name suggests) is based around functions. <br>\n",
    "A key part of functional programming is higher-order functions. We have seen this idea briefly in the previous lesson on functions as objects. Higher-order functions take other functions as arguments, or return them as results.<br>\n",
    "Example:"
   ]
  },
  {
   "cell_type": "code",
   "execution_count": 1,
   "metadata": {},
   "outputs": [
    {
     "name": "stdout",
     "output_type": "stream",
     "text": [
      "20\n"
     ]
    }
   ],
   "source": [
    "def apply_twice(func, arg):\n",
    "    return func(func(arg))\n",
    "\n",
    "def add_five(x):\n",
    "    return x + 5\n",
    "\n",
    "print(apply_twice(add_five, 10))"
   ]
  },
  {
   "cell_type": "markdown",
   "metadata": {},
   "source": [
    "### Pure Functions\n",
    "\n",
    "Functional programming seeks to use **pure functions**. Pure functions have no side effects, and return a value that depends ***only*** on their arguments.<br>\n",
    "This is how functions in math work: for example, The cos(x) will, for the same value of x, always return the same result.\n",
    "Below are examples of pure and impure functions.<br>\n",
    "#### Pure function:\n"
   ]
  },
  {
   "cell_type": "code",
   "execution_count": 4,
   "metadata": {},
   "outputs": [],
   "source": [
    "def pure_function(x, y):\n",
    "    temp = x + 2*y\n",
    "    return temp / (2*x + y)"
   ]
  },
  {
   "cell_type": "markdown",
   "metadata": {},
   "source": [
    "#### Impure function:\n"
   ]
  },
  {
   "cell_type": "code",
   "execution_count": 5,
   "metadata": {},
   "outputs": [],
   "source": [
    "some_list = []\n",
    "\n",
    "def impure(arg):\n",
    "    some_list.append(arg)\n"
   ]
  },
  {
   "cell_type": "code",
   "execution_count": 6,
   "metadata": {},
   "outputs": [],
   "source": [
    "# Is this a pure function?\n",
    "def func(x):\n",
    "    y = x**2\n",
    "    z = x + y\n",
    "    return z\n"
   ]
  },
  {
   "cell_type": "markdown",
   "metadata": {},
   "source": [
    "**Using pure functions has both advantages and disadvantages.** \n",
    "\n",
    "#### Advantages\n",
    "Pure functions are:\n",
    "- easier to reason about and test.\n",
    "- more efficient. Once the function has been evaluated for an input, the result can be stored and referred to the next time the function of that input is needed, reducing the number of times the function is called. This is called **memoization**.\n",
    "- easier to run in parallel.\n",
    "\n",
    "\n",
    "#### Disadvantages\n",
    "- The main disadvantage of using only pure functions is that they majorly complicate the otherwise simple task of I/O, since this appears to inherently require side effects. \n",
    "- They are not as easy to write\n",
    "- They can also be more difficult to write in some situations.\n"
   ]
  },
  {
   "cell_type": "markdown",
   "metadata": {},
   "source": [
    "## List Comprehensions - a deeper dive\n",
    "\n",
    "We intitially touched on **List Comprehensions** when we first talked about <code>lists</code>.\n",
    "\n",
    "**List comprehensions** are a useful way of quickly creating lists whose contents obey a simple rule.\n",
    "For example, we can do the following:"
   ]
  },
  {
   "cell_type": "code",
   "execution_count": 2,
   "metadata": {},
   "outputs": [
    {
     "name": "stdout",
     "output_type": "stream",
     "text": [
      "[0, 1, 8, 27, 64]\n"
     ]
    }
   ],
   "source": [
    "cubes = [i**3 for i in range(5)]\n",
    "\n",
    "print(cubes)"
   ]
  },
  {
   "cell_type": "markdown",
   "metadata": {},
   "source": [
    "A list comprehension can also contain an if statement to enforce a condition on values in the list.<br>\n",
    "Example:"
   ]
  },
  {
   "cell_type": "code",
   "execution_count": 11,
   "metadata": {},
   "outputs": [
    {
     "data": {
      "text/plain": [
       "[0, 4, 16, 36, 64]"
      ]
     },
     "execution_count": 11,
     "metadata": {},
     "output_type": "execute_result"
    }
   ],
   "source": [
    "evens=[i**2 for i in range(10) if i**2 % 2 == 0]\n",
    "evens"
   ]
  },
  {
   "cell_type": "markdown",
   "metadata": {},
   "source": [
    "Create a list of multiples of 3 from 0 to 20."
   ]
  },
  {
   "cell_type": "code",
   "execution_count": 12,
   "metadata": {},
   "outputs": [
    {
     "data": {
      "text/plain": [
       "[0, 3, 6, 9, 12, 15, 18]"
      ]
     },
     "execution_count": 12,
     "metadata": {},
     "output_type": "execute_result"
    }
   ],
   "source": [
    "a = [i for i in range(20) if i% 3 ==0]\n",
    "a"
   ]
  },
  {
   "cell_type": "code",
   "execution_count": null,
   "metadata": {},
   "outputs": [],
   "source": [
    "b = [x*10 for x in range(5, 9)]\n",
    "b"
   ]
  },
  {
   "cell_type": "markdown",
   "metadata": {},
   "source": [
    "Trying to create a list in a very extensive range will result in a **MemoryError**.\n",
    "This code shows an example where the list comprehension runs out of memory.\n",
    "\n",
    "<code>even = [2*i for i in range(10**100)]</code>\n",
    "\n",
    "This issue is solved by **generators**, which are covered in the future.  \n",
    "\n",
    "#### Pseudo-Code\n",
    "\n",
    "Let's take a moment to talk about Pseudo Code:\n",
    "\n",
    "Pseudo-Code (sometimes you see it as one word *pseudocode*) is an informal high-level description of the operating principle of a computer program or other algorithm.\n",
    "\n",
    "It uses the structural conventions of a normal programming language, but is intended for human reading rather than machine reading. Pseudocode typically omits details that are essential for machine understanding of the algorithm, such as variable declarations, system-specific code and some subroutines.  This helps understand how a process works. Here is the Pseudo-Code for List Comprehensions:\n",
    "\n",
    "`[ some_function(x) or value(x) for x in raw_data optional(if x meets these requirements) ]`\n",
    "\n",
    "\n",
    "For now, lets rewrite the function for the Project Euler problem 1 useing **List Comprehensions**:"
   ]
  },
  {
   "cell_type": "code",
   "execution_count": null,
   "metadata": {},
   "outputs": [],
   "source": []
  },
  {
   "cell_type": "markdown",
   "metadata": {},
   "source": [
    "# Project Euler 2\n",
    "\n",
    "Each new term in the Fibonacci sequence is generated by adding the previous two terms. By starting with 1 and 2, the first 10 terms will be:\n",
    "\n",
    "1, 2, 3, 5, 8, 13, 21, 34, 55, 89, ...\n",
    "\n",
    "**By considering the terms in the Fibonacci sequence whose values do not exceed four million, find the sum of the even-valued terms.**"
   ]
  },
  {
   "cell_type": "code",
   "execution_count": null,
   "metadata": {},
   "outputs": [],
   "source": []
  },
  {
   "cell_type": "code",
   "execution_count": null,
   "metadata": {},
   "outputs": [],
   "source": []
  },
  {
   "cell_type": "markdown",
   "metadata": {},
   "source": [
    "### Lambdas or Lambda Expression\n",
    "\n",
    "Creating a function normally (using def) assigns it to a variable automatically. \n",
    "This is different from the creation of other objects - such as strings and integers - which can be created on the fly, without assigning them to a variable. .<br>\n",
    "The same is possible with functions, provided that they are created using lambda syntax. Functions created this way are known as **anonymous**.<br> ***Note: Lambda Expression & Anonymous Functions are the same and can be used interchangeably***<br> \n",
    "This approach is most commonly used when passing a simple function as an argument to another function. The syntax is shown in the next example and consists of the lambda keyword followed by a list of arguments, a colon, and the expression to evaluate and return.\n"
   ]
  },
  {
   "cell_type": "code",
   "execution_count": 1,
   "metadata": {},
   "outputs": [
    {
     "data": {
      "text/plain": [
       "50"
      ]
     },
     "execution_count": 1,
     "metadata": {},
     "output_type": "execute_result"
    }
   ],
   "source": [
    "def my_func(f, arg):\n",
    "      return f(arg)\n",
    "\n",
    "my_func(lambda x: 2*x*x, 5)\n"
   ]
  },
  {
   "cell_type": "markdown",
   "metadata": {},
   "source": [
    "Lambda functions aren't as powerful as named functions. <br>\n",
    "They can only do things that require a single expression - usually equivalent to a single line of code.<br>\n",
    "Example:\n"
   ]
  },
  {
   "cell_type": "code",
   "execution_count": 1,
   "metadata": {},
   "outputs": [
    {
     "name": "stdout",
     "output_type": "stream",
     "text": [
      "40\n",
      "0\n"
     ]
    }
   ],
   "source": [
    "#named function\n",
    "def polynomial(x):\n",
    "    return x**2 + 5*x + 4\n",
    "print(polynomial(-4))\n",
    "\n",
    "#lambda\n",
    "print((lambda x: x**2 + 5*x + 4) (-4))"
   ]
  },
  {
   "cell_type": "markdown",
   "metadata": {},
   "source": [
    "Lambda functions can be assigned to variables, and used like normal functions.<br>\n",
    "Example:\n"
   ]
  },
  {
   "cell_type": "code",
   "execution_count": 3,
   "metadata": {},
   "outputs": [
    {
     "name": "stdout",
     "output_type": "stream",
     "text": [
      "14\n"
     ]
    }
   ],
   "source": [
    "double = lambda x: x * 2\n",
    "print(double(7))"
   ]
  },
  {
   "cell_type": "code",
   "execution_count": 4,
   "metadata": {},
   "outputs": [
    {
     "name": "stdout",
     "output_type": "stream",
     "text": [
      "13\n"
     ]
    }
   ],
   "source": [
    "#What is the result of this code?\n",
    "triple = lambda x: x * 3\n",
    "add = lambda x, y: x + y\n",
    "print(add(triple(3), 4))"
   ]
  },
  {
   "cell_type": "markdown",
   "metadata": {},
   "source": [
    "#### Socratica - Lambda Expressions & Anonymous Functions || Python Tutorial || Learn Python Programming\n",
    "\n",
    "https://youtu.be/25ovCm9jKfA\n",
    "\n",
    "This is a great video explaining Lambdas in more detail."
   ]
  },
  {
   "cell_type": "markdown",
   "metadata": {},
   "source": [
    "First, type the keyword lambda followed by the input and a colon. The energy the output of the function.  In the example below the output it<code> 3*x + 1</code>."
   ]
  },
  {
   "cell_type": "code",
   "execution_count": 6,
   "metadata": {},
   "outputs": [
    {
     "data": {
      "text/plain": [
       "25"
      ]
     },
     "execution_count": 6,
     "metadata": {},
     "output_type": "execute_result"
    }
   ],
   "source": [
    "(lambda x: 3*x + 1)(8)"
   ]
  },
  {
   "cell_type": "markdown",
   "metadata": {},
   "source": [
    "### <code>map</code> & <code>filter</code> functions\n",
    "\n",
    "#### map\n",
    "\n",
    "The built-in functions <code>**map**</code> and <code>filter</code> are very useful higher-order functions that operate on lists (or similar objects called **iterables**). <br>\n",
    "The function <code>**map**</code> takes a function and an iterable as arguments, and returns a new iterable with the function applied to each argument. <br>\n",
    "Example:\n"
   ]
  },
  {
   "cell_type": "code",
   "execution_count": 7,
   "metadata": {},
   "outputs": [
    {
     "name": "stdout",
     "output_type": "stream",
     "text": [
      "[16, 27, 38, 49, 60]\n"
     ]
    }
   ],
   "source": [
    "def add_five(x):\n",
    "    return x + 5\n",
    "\n",
    "nums = [11, 22, 33, 44, 55]\n",
    "result = list(map(add_five, nums))\n",
    "print(result)\n"
   ]
  },
  {
   "cell_type": "markdown",
   "metadata": {},
   "source": [
    "We could have achieved the same result more easily by using lambda syntax."
   ]
  },
  {
   "cell_type": "code",
   "execution_count": 8,
   "metadata": {},
   "outputs": [
    {
     "name": "stdout",
     "output_type": "stream",
     "text": [
      "[16, 27, 38, 49, 60]\n"
     ]
    }
   ],
   "source": [
    "nums = [11, 22, 33, 44, 55]\n",
    "\n",
    "result = list(map(lambda x: x+5, nums))\n",
    "print(result)\n"
   ]
  },
  {
   "cell_type": "markdown",
   "metadata": {},
   "source": [
    "***Note:*** *To convert the result into a* ***list***, *we used list explicitly.*\n"
   ]
  },
  {
   "cell_type": "markdown",
   "metadata": {},
   "source": [
    "#### <code>filter</code>\n",
    "\n",
    "The function <code>**filter**</code> filters an iterable by removing items that don't match a **predicate** (a function that returns a Boolean). <br>\n",
    "Example:\n"
   ]
  },
  {
   "cell_type": "code",
   "execution_count": 10,
   "metadata": {},
   "outputs": [
    {
     "name": "stdout",
     "output_type": "stream",
     "text": [
      "[22, 44]\n"
     ]
    }
   ],
   "source": [
    "nums = [11, 22, 33, 44, 55]\n",
    "res = list(filter(lambda x: x%2==0, nums))\n",
    "print(res)"
   ]
  },
  {
   "cell_type": "markdown",
   "metadata": {},
   "source": [
    "### Generators\n",
    "\n",
    "<code>**Generators**</code> are a type of **iterable**, like lists or tuples.<br> \n",
    "Unlike lists, they don't allow indexing with arbitrary indices, but they can still be iterated through with for loops. <br>\n",
    "They can be created using functions and the <code>**yield**</code> statement.<br>\n",
    "\n",
    "The <code>**yield**</code> statement is used to define a <code>**generator**</code>, replacing the <code>**return**</code> of a function to provide a result to its caller without destroying local variables.\n",
    "Example:\n"
   ]
  },
  {
   "cell_type": "code",
   "execution_count": 12,
   "metadata": {},
   "outputs": [
    {
     "name": "stdout",
     "output_type": "stream",
     "text": [
      "5\n",
      "4\n",
      "3\n",
      "2\n",
      "1\n"
     ]
    }
   ],
   "source": [
    "def countdown():\n",
    "    i=5\n",
    "    while i > 0:\n",
    "        yield i\n",
    "        i -= 1\n",
    "    \n",
    "for i in countdown():\n",
    "    print(i)"
   ]
  },
  {
   "cell_type": "markdown",
   "metadata": {},
   "source": [
    "Due to the fact that they yield one item at a time, <code>**generators**</code> don't have the memory restrictions of lists. <br>\n",
    "In fact, they can be infinite!\n"
   ]
  },
  {
   "cell_type": "code",
   "execution_count": 13,
   "metadata": {},
   "outputs": [],
   "source": [
    "def infinite_sevens():\n",
    "    while True:\n",
    "        yield 7\n",
    "        \n",
    "#for i in infinite_sevens():\n",
    "#      print(i)"
   ]
  },
  {
   "cell_type": "markdown",
   "metadata": {},
   "source": [
    "Finite generators can be converted into lists by passing them as arguments to the **list** function.\n"
   ]
  },
  {
   "cell_type": "code",
   "execution_count": 14,
   "metadata": {},
   "outputs": [
    {
     "name": "stdout",
     "output_type": "stream",
     "text": [
      "[0, 2, 4, 6, 8, 10]\n"
     ]
    }
   ],
   "source": [
    "def numbers(x):\n",
    "    for i in range(x):\n",
    "        if i % 2 == 0:\n",
    "            yield i\n",
    "\n",
    "print(list(numbers(11)))"
   ]
  },
  {
   "cell_type": "markdown",
   "metadata": {},
   "source": [
    "Using <code>**generators**</code> results in improved performance, which is the result of the lazy (on demand) generation of values, which translates to lower memory usage. Furthermore, we do not need to wait until all the elements have been generated before we start to use them.\n"
   ]
  },
  {
   "cell_type": "code",
   "execution_count": 15,
   "metadata": {},
   "outputs": [
    {
     "name": "stdout",
     "output_type": "stream",
     "text": [
      "['s', 'sp', 'spa', 'spam']\n"
     ]
    }
   ],
   "source": [
    "#What is the result of this code?\n",
    "def make_word():\n",
    "    word = \"\"\n",
    "    for ch in \"spam\":\n",
    "        word +=ch\n",
    "        yield word\n",
    "\n",
    "print(list(make_word()))\n"
   ]
  },
  {
   "cell_type": "markdown",
   "metadata": {},
   "source": [
    "### Decorators\n",
    "\n",
    "<code>**Decorators**</code> provide a way to modify functions using other functions. <br>\n",
    "This is ideal when you need to extend the functionality of functions that you don't want to modify.<br>\n",
    "Example:\n"
   ]
  },
  {
   "cell_type": "code",
   "execution_count": 3,
   "metadata": {},
   "outputs": [
    {
     "name": "stdout",
     "output_type": "stream",
     "text": [
      "============\n",
      "Hello world!\n",
      "============\n"
     ]
    }
   ],
   "source": [
    "def decor(func):\n",
    "    def wrap():\n",
    "        print(\"============\")\n",
    "        func()\n",
    "        print(\"============\")\n",
    "    return wrap\n",
    "\n",
    "def print_text():\n",
    "    print(\"Hello world!\")\n",
    "\n",
    "decorated = decor(print_text)\n",
    "decorated()"
   ]
  },
  {
   "cell_type": "markdown",
   "metadata": {},
   "source": [
    "We defined a function named <cdoe>decor</code> that has a single parameter <code>func</code>. Inside <code>decor</code>, we defined a nested function named <code>wrap</code>. The <code>wrap</code> function will print a string, then call <code>func()</code>, and print another string. The <code>decor</code> function returns the wrap function as its result.<br>\n",
    "We could say that the variable decorated is a ***decorated*** version of print_text - it's print_text plus something.<br> \n",
    "In fact, if we wrote a useful decorator we might want to replace print_text with the decorated version altogether so we always got our \"plus something\" version of print_text. \n",
    "This is done by re-assigning the variable that contains our function:\n"
   ]
  },
  {
   "cell_type": "code",
   "execution_count": 4,
   "metadata": {},
   "outputs": [
    {
     "name": "stdout",
     "output_type": "stream",
     "text": [
      "============\n",
      "Hello world!\n",
      "============\n"
     ]
    }
   ],
   "source": [
    "print_text = decor(print_text)\n",
    "print_text()\n"
   ]
  },
  {
   "cell_type": "markdown",
   "metadata": {},
   "source": [
    "In our previous example, we decorated our function by replacing the variable containing the function with a wrapped version.\n",
    "```\n",
    "def print_text():\n",
    "    print(\"Hello world!\")\n",
    "\n",
    "print_text = decor(print_text)\n",
    "```\n",
    "\n",
    "This pattern can be used at any time, to wrap any function. <br>\n",
    "Python provides support to wrap a function in a decorator by pre-pending the function definition with a decorator name and the @ symbol. <br>\n",
    "If we are defining a function we can \"decorate\" it with the @ symbol like:"
   ]
  },
  {
   "cell_type": "code",
   "execution_count": 10,
   "metadata": {},
   "outputs": [
    {
     "name": "stdout",
     "output_type": "stream",
     "text": [
      "============\n",
      "Hello world!\n",
      "============\n"
     ]
    }
   ],
   "source": [
    "@decor\n",
    "def print_text():\n",
    "    print(\"Hello world!\")\n",
    "\n",
    "print_text()"
   ]
  },
  {
   "cell_type": "markdown",
   "metadata": {},
   "source": [
    "This will have the same result as the above code.\n",
    "\n",
    "A single function can have multiple decorators."
   ]
  }
 ],
 "metadata": {
  "kernelspec": {
   "display_name": "Python 3",
   "language": "python",
   "name": "python3"
  },
  "language_info": {
   "codemirror_mode": {
    "name": "ipython",
    "version": 3
   },
   "file_extension": ".py",
   "mimetype": "text/x-python",
   "name": "python",
   "nbconvert_exporter": "python",
   "pygments_lexer": "ipython3",
   "version": "3.7.3"
  }
 },
 "nbformat": 4,
 "nbformat_minor": 2
}
