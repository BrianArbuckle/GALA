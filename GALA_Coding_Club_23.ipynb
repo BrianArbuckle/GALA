{
 "cells": [
  {
   "cell_type": "markdown",
   "metadata": {},
   "source": [
    "# ROT13\n",
    "\n",
    "ROT13 (\"rotate by 13 places\", sometimes hyphenated ROT-13) is a simple letter substitution cipher that replaces a letter with the 13th letter after it, in the alphabet. ROT13 is a special case of the Caesar cipher which was developed in ancient Rome.\n",
    "\n",
    "\n",
    "\n",
    "### First in Linux Shell / Unix with Unix Translate - `tr`"
   ]
  },
  {
   "cell_type": "code",
   "execution_count": null,
   "metadata": {},
   "outputs": [],
   "source": [
    "!tr 'A-Za-z' 'N-ZA-Mn-za-m' <<< \"Jrypbzr gb pbqvat pyho!\""
   ]
  },
  {
   "cell_type": "markdown",
   "metadata": {},
   "source": [
    "### Python's version of translate is part of the `string` module \n",
    "\n",
    "Does not seem to work with the range of strings, maybe it need regex"
   ]
  },
  {
   "cell_type": "code",
   "execution_count": null,
   "metadata": {},
   "outputs": [],
   "source": [
    "my_string = \"Jr pna uvqr zrffntrf va gur tneoyrq grkg - cerggl pbby, evtug?\"\n",
    "\n",
    "my_string.translate(str.maketrans('ABCDEFGHIJKLMNOPQRSTUVWXYZabcdefghijklmnopqrstuvwxyz', \n",
    "                                      'NOPQRSTUVWXYZABCDEFGHIJKLMnopqrstuvwxyzabcdefghijklm')) # => \"def\"\n"
   ]
  },
  {
   "cell_type": "markdown",
   "metadata": {},
   "source": [
    "### My original, verbose version"
   ]
  },
  {
   "cell_type": "code",
   "execution_count": null,
   "metadata": {},
   "outputs": [],
   "source": [
    "def rot13(x):\n",
    "    input_letters = 'ABCDEFGHIJKLMNOPQRSTUVWXYZabcdefghijklmnopqrstuvwxyz'\n",
    "    output_letters = 'NOPQRSTUVWXYZABCDEFGHIJKLMnopqrstuvwxyzabcdefghijklm'\n",
    "    rot13_dict = dict(zip(list(input_letters), list(output_letters)))\n",
    "    converted = []\n",
    "    \n",
    "    for i in x:\n",
    "        if i.isalpha() == True:\n",
    "            converted.append(rot13_dict[i])\n",
    "        else:\n",
    "            converted.append(i)\n",
    "    return ''.join(map(str, converted))\n",
    "    "
   ]
  },
  {
   "cell_type": "code",
   "execution_count": null,
   "metadata": {},
   "outputs": [],
   "source": [
    "rot13('Gbb Znal FRPERGF')"
   ]
  },
  {
   "cell_type": "markdown",
   "metadata": {},
   "source": [
    "# Breaking down the code:\n",
    "\n",
    "# `list()`\n",
    "\n",
    "First, we convert our two strings to a list:<br>\n",
    "Notice we follow an order of operations, but instead of nesting, we will create new variables to see how this function works."
   ]
  },
  {
   "cell_type": "code",
   "execution_count": null,
   "metadata": {},
   "outputs": [],
   "source": [
    "input_letters = 'ABCDEFGHIJKLMNOPQRSTUVWXYZabcdefghijklmnopqrstuvwxyz'\n",
    "output_letters = 'NOPQRSTUVWXYZABCDEFGHIJKLMnopqrstuvwxyzabcdefghijklm'\n",
    "\n",
    "input_list =  list(input_letters)\n",
    "output_list =  list(output_letters)\n",
    "\n",
    "input_list[:5]"
   ]
  },
  {
   "cell_type": "markdown",
   "metadata": {},
   "source": [
    "# `zip()`\n",
    "\n",
    "Second, we zip them together into a zip object. \n",
    "\n",
    "The purpose of zip() is to map the similar index of multiple containers so that they can be used just using as single entity."
   ]
  },
  {
   "cell_type": "code",
   "execution_count": null,
   "metadata": {},
   "outputs": [],
   "source": [
    "rot13_zip = zip(input_list, output_list)"
   ]
  },
  {
   "cell_type": "markdown",
   "metadata": {},
   "source": [
    "# `dict()`\n",
    "\n",
    "Third, Zip needs to be converted to a dictionary with the `dict()` function."
   ]
  },
  {
   "cell_type": "code",
   "execution_count": null,
   "metadata": {},
   "outputs": [],
   "source": [
    "rot13_dict = dict(rot13_zip)"
   ]
  },
  {
   "cell_type": "markdown",
   "metadata": {},
   "source": [
    "We can inspect the output and to see our cipher."
   ]
  },
  {
   "cell_type": "code",
   "execution_count": null,
   "metadata": {},
   "outputs": [],
   "source": [
    "rot13_dict"
   ]
  },
  {
   "cell_type": "markdown",
   "metadata": {},
   "source": [
    "### In our function the list() to zip() to dict() can be done in one line:"
   ]
  },
  {
   "cell_type": "code",
   "execution_count": null,
   "metadata": {},
   "outputs": [],
   "source": [
    "rot13_dict = dict(zip(list(input_letters), list(output_letters)))"
   ]
  },
  {
   "cell_type": "markdown",
   "metadata": {},
   "source": [
    "# Unicode \n",
    "\n",
    "Unicode is a computing industry standard for the consistent encoding, representation, and handling of text expressed in most of the world's writing systems.  In python we have two functions that can allow us to play with these codes:\n",
    "\n",
    "# `ord()` & `chr()`\n",
    "\n",
    "`ord()` converts a ***single*** character to its Unicode integer vale.\n",
    "\n",
    "Let's say, for example, that I wanted to convert the letter **A** to its Unicode value:"
   ]
  },
  {
   "cell_type": "code",
   "execution_count": null,
   "metadata": {},
   "outputs": [],
   "source": [
    "ord('A')"
   ]
  },
  {
   "cell_type": "markdown",
   "metadata": {},
   "source": [
    "`chr()` converts a Unicode integer into the ***single*** character it represents."
   ]
  },
  {
   "cell_type": "code",
   "execution_count": null,
   "metadata": {},
   "outputs": [],
   "source": [
    "chr(65)"
   ]
  },
  {
   "cell_type": "markdown",
   "metadata": {},
   "source": [
    "### The fun thing is with a little math, we can create crazy ciphers:"
   ]
  },
  {
   "cell_type": "code",
   "execution_count": null,
   "metadata": {},
   "outputs": [],
   "source": [
    "def emoji_encode(s):\n",
    "    temp_list = []\n",
    "    for ch in list(s):\n",
    "        temp_list.append(chr(ord(ch) + 128467))\n",
    "    return ''.join(temp_list)\n",
    "    \n",
    "def emoji_decode(s):\n",
    "    temp_list = []\n",
    "    for ch in list(s):\n",
    "        temp_list.append(chr(ord(ch) - 128467))\n",
    "    return ''.join(temp_list)"
   ]
  },
  {
   "cell_type": "code",
   "execution_count": null,
   "metadata": {},
   "outputs": [],
   "source": [
    "emoji_encode('The is my story')"
   ]
  },
  {
   "cell_type": "code",
   "execution_count": null,
   "metadata": {},
   "outputs": [],
   "source": [
    "emoji_decode('😧😻😸🗳😼🙆🗳🙀🙌🗳🙆🙇🙂🙅🙌')"
   ]
  },
  {
   "cell_type": "markdown",
   "metadata": {},
   "source": [
    "### Or hide a message in another language's character set like Chinese:\n",
    "\n",
    "'你好，世界'"
   ]
  },
  {
   "cell_type": "code",
   "execution_count": null,
   "metadata": {},
   "outputs": [],
   "source": [
    "def chinese_cipher(s, e_or_d):\n",
    "    temp_list = []\n",
    "    for ch in list(s):\n",
    "        if e_or_d.lower()[:1] == 'e':\n",
    "            temp_list.append(chr(ord(ch) + 20320))\n",
    "        else:\n",
    "            temp_list.append(chr(ord(ch) - 20320))\n",
    "    return ''.join(temp_list)"
   ]
  },
  {
   "cell_type": "code",
   "execution_count": null,
   "metadata": {},
   "outputs": [],
   "source": [
    "chinese_cipher(\"This is my top-secret message. Don't tell anyone.\", 'e')"
   ]
  },
  {
   "cell_type": "code",
   "execution_count": null,
   "metadata": {},
   "outputs": [],
   "source": [
    "chinese_cipher('侴俈俉俓侀俉俓侀俍俙侀俔俏俐侍俓俅促俒俅俔侀俍俅俓俓俁俇俅侎侀侤俏俎侇俔侀俔俅俌俌侀俁俎俙俏俎俅侎', 'd')"
   ]
  },
  {
   "cell_type": "code",
   "execution_count": null,
   "metadata": {},
   "outputs": [],
   "source": []
  }
 ],
 "metadata": {
  "kernelspec": {
   "display_name": "Python 3",
   "language": "python",
   "name": "python3"
  },
  "language_info": {
   "codemirror_mode": {
    "name": "ipython",
    "version": 3
   },
   "file_extension": ".py",
   "mimetype": "text/x-python",
   "name": "python",
   "nbconvert_exporter": "python",
   "pygments_lexer": "ipython3",
   "version": "3.7.3"
  }
 },
 "nbformat": 4,
 "nbformat_minor": 2
}
