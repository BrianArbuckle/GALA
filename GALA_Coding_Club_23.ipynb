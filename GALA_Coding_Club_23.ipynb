{
 "cells": [
  {
   "cell_type": "markdown",
   "metadata": {},
   "source": [
    "# ROT13\n",
    "\n",
    "ROT13 (\"rotate by 13 places\", sometimes hyphenated ROT-13) is a simple letter substitution cipher that replaces a letter with the 13th letter after it, in the alphabet. ROT13 is a special case of the Caesar cipher which was developed in ancient Rome.\n",
    "\n",
    "\n",
    "\n",
    "### First in Linux Shell / Unix with Unix Translate - `tr`"
   ]
  },
  {
   "cell_type": "code",
   "execution_count": 1,
   "metadata": {},
   "outputs": [
    {
     "name": "stdout",
     "output_type": "stream",
     "text": [
      "Welcome to coding club!\n"
     ]
    }
   ],
   "source": [
    "!tr 'A-Za-z' 'N-ZA-Mn-za-m' <<< \"Jrypbzr gb pbqvat pyho!\""
   ]
  },
  {
   "cell_type": "markdown",
   "metadata": {},
   "source": [
    "### Python's version of translate is part of the `string` module \n",
    "\n",
    "Does not seem to work with the range of strings, maybe it need regex"
   ]
  },
  {
   "cell_type": "code",
   "execution_count": 2,
   "metadata": {},
   "outputs": [
    {
     "data": {
      "text/plain": [
       "'We can hide messages in the garbled text - pretty cool, right?'"
      ]
     },
     "execution_count": 2,
     "metadata": {},
     "output_type": "execute_result"
    }
   ],
   "source": [
    "my_string = \"Jr pna uvqr zrffntrf va gur tneoyrq grkg - cerggl pbby, evtug?\"\n",
    "\n",
    "my_string.translate(str.maketrans('ABCDEFGHIJKLMNOPQRSTUVWXYZabcdefghijklmnopqrstuvwxyz', \n",
    "                                      'NOPQRSTUVWXYZABCDEFGHIJKLMnopqrstuvwxyzabcdefghijklm')) # => \"def\"\n"
   ]
  },
  {
   "cell_type": "markdown",
   "metadata": {},
   "source": [
    "### My original, verbose version"
   ]
  },
  {
   "cell_type": "code",
   "execution_count": 24,
   "metadata": {},
   "outputs": [],
   "source": [
    "def rot13(x):\n",
    "    input_letters = 'ABCDEFGHIJKLMNOPQRSTUVWXYZabcdefghijklmnopqrstuvwxyz'\n",
    "    output_letters = 'NOPQRSTUVWXYZABCDEFGHIJKLMnopqrstuvwxyzabcdefghijklm'\n",
    "    rot13_dict = dict(zip(list(input_letters), list(output_letters)))\n",
    "    converted = []\n",
    "    \n",
    "    for i in x:\n",
    "        if i.isalpha() == True:\n",
    "            converted.append(rot13_dict[i])\n",
    "        else:\n",
    "            converted.append(i)\n",
    "    return ''.join(map(str, converted))\n",
    "    "
   ]
  },
  {
   "cell_type": "code",
   "execution_count": 25,
   "metadata": {},
   "outputs": [
    {
     "data": {
      "text/plain": [
       "'Too Many SECRETS'"
      ]
     },
     "execution_count": 25,
     "metadata": {},
     "output_type": "execute_result"
    }
   ],
   "source": [
    "rot13('Gbb Znal FRPERGF')"
   ]
  },
  {
   "cell_type": "markdown",
   "metadata": {},
   "source": [
    "# Breaking down the code:\n",
    "\n",
    "# `list()`\n",
    "\n",
    "First, we convert our two strings to a list:<br>\n",
    "Notice we follow an order of operations, but instead of nesting, we will create new variables to see how this function works."
   ]
  },
  {
   "cell_type": "code",
   "execution_count": 29,
   "metadata": {},
   "outputs": [
    {
     "data": {
      "text/plain": [
       "['A', 'B', 'C', 'D', 'E', 'F', 'G', 'H', 'I', 'J', 'K', 'L', 'M']"
      ]
     },
     "execution_count": 29,
     "metadata": {},
     "output_type": "execute_result"
    }
   ],
   "source": [
    "input_letters = 'ABCDEFGHIJKLMNOPQRSTUVWXYZabcdefghijklmnopqrstuvwxyz'\n",
    "output_letters = 'NOPQRSTUVWXYZABCDEFGHIJKLMnopqrstuvwxyzabcdefghijklm'\n",
    "\n",
    "input_list =  list(input_letters)\n",
    "output_list =  list(output_letters)\n",
    "\n",
    "output_list[13:26]"
   ]
  },
  {
   "cell_type": "markdown",
   "metadata": {},
   "source": [
    "# `zip()`\n",
    "\n",
    "Second, we zip them together into a zip object. \n",
    "\n",
    "The purpose of zip() is to map the similar index of multiple containers so that they can be used just using as single entity."
   ]
  },
  {
   "cell_type": "code",
   "execution_count": 30,
   "metadata": {},
   "outputs": [],
   "source": [
    "rot13_zip = zip(input_list, output_list)"
   ]
  },
  {
   "cell_type": "code",
   "execution_count": 34,
   "metadata": {},
   "outputs": [
    {
     "data": {
      "text/plain": [
       "<zip at 0x108918fc8>"
      ]
     },
     "execution_count": 34,
     "metadata": {},
     "output_type": "execute_result"
    }
   ],
   "source": [
    "rot13_zip"
   ]
  },
  {
   "cell_type": "markdown",
   "metadata": {},
   "source": [
    "# `dict()`\n",
    "\n",
    "Third, Zip needs to be converted to a dictionary with the `dict()` function."
   ]
  },
  {
   "cell_type": "code",
   "execution_count": 35,
   "metadata": {},
   "outputs": [],
   "source": [
    "rot13_dict = dict(rot13_zip)"
   ]
  },
  {
   "cell_type": "markdown",
   "metadata": {},
   "source": [
    "We can inspect the output and to see our cipher."
   ]
  },
  {
   "cell_type": "code",
   "execution_count": 36,
   "metadata": {},
   "outputs": [
    {
     "data": {
      "text/plain": [
       "{'A': 'N',\n",
       " 'B': 'O',\n",
       " 'C': 'P',\n",
       " 'D': 'Q',\n",
       " 'E': 'R',\n",
       " 'F': 'S',\n",
       " 'G': 'T',\n",
       " 'H': 'U',\n",
       " 'I': 'V',\n",
       " 'J': 'W',\n",
       " 'K': 'X',\n",
       " 'L': 'Y',\n",
       " 'M': 'Z',\n",
       " 'N': 'A',\n",
       " 'O': 'B',\n",
       " 'P': 'C',\n",
       " 'Q': 'D',\n",
       " 'R': 'E',\n",
       " 'S': 'F',\n",
       " 'T': 'G',\n",
       " 'U': 'H',\n",
       " 'V': 'I',\n",
       " 'W': 'J',\n",
       " 'X': 'K',\n",
       " 'Y': 'L',\n",
       " 'Z': 'M',\n",
       " 'a': 'n',\n",
       " 'b': 'o',\n",
       " 'c': 'p',\n",
       " 'd': 'q',\n",
       " 'e': 'r',\n",
       " 'f': 's',\n",
       " 'g': 't',\n",
       " 'h': 'u',\n",
       " 'i': 'v',\n",
       " 'j': 'w',\n",
       " 'k': 'x',\n",
       " 'l': 'y',\n",
       " 'm': 'z',\n",
       " 'n': 'a',\n",
       " 'o': 'b',\n",
       " 'p': 'c',\n",
       " 'q': 'd',\n",
       " 'r': 'e',\n",
       " 's': 'f',\n",
       " 't': 'g',\n",
       " 'u': 'h',\n",
       " 'v': 'i',\n",
       " 'w': 'j',\n",
       " 'x': 'k',\n",
       " 'y': 'l',\n",
       " 'z': 'm'}"
      ]
     },
     "execution_count": 36,
     "metadata": {},
     "output_type": "execute_result"
    }
   ],
   "source": [
    "rot13_dict"
   ]
  },
  {
   "cell_type": "markdown",
   "metadata": {},
   "source": [
    "### In our function the list() to zip() to dict() can be done in one line:"
   ]
  },
  {
   "cell_type": "code",
   "execution_count": 37,
   "metadata": {},
   "outputs": [],
   "source": [
    "rot13_dict = dict(zip(list(input_letters), list(output_letters)))"
   ]
  },
  {
   "cell_type": "markdown",
   "metadata": {},
   "source": [
    "# Unicode \n",
    "\n",
    "Unicode is a computing industry standard for the consistent encoding, representation, and handling of text expressed in most of the world's writing systems.  In python we have two functions that can allow us to play with these codes:\n",
    "\n",
    "# `ord()` & `chr()`\n",
    "\n",
    "`ord()` converts a ***single*** character to its Unicode integer vale.\n",
    "\n",
    "Let's say, for example, that I wanted to convert the letter **A** to its Unicode value:"
   ]
  },
  {
   "cell_type": "code",
   "execution_count": 39,
   "metadata": {},
   "outputs": [
    {
     "data": {
      "text/plain": [
       "78"
      ]
     },
     "execution_count": 39,
     "metadata": {},
     "output_type": "execute_result"
    }
   ],
   "source": [
    "ord('A')+13"
   ]
  },
  {
   "cell_type": "markdown",
   "metadata": {},
   "source": [
    "`chr()` converts a Unicode integer into the ***single*** character it represents."
   ]
  },
  {
   "cell_type": "code",
   "execution_count": 46,
   "metadata": {},
   "outputs": [
    {
     "data": {
      "text/plain": [
       "'嗰'"
      ]
     },
     "execution_count": 46,
     "metadata": {},
     "output_type": "execute_result"
    }
   ],
   "source": [
    "chr(22000)"
   ]
  },
  {
   "cell_type": "markdown",
   "metadata": {},
   "source": [
    "### The fun thing is with a little math, we can create crazy ciphers:"
   ]
  },
  {
   "cell_type": "code",
   "execution_count": null,
   "metadata": {},
   "outputs": [],
   "source": [
    "def emoji_encode(s):\n",
    "    temp_list = []\n",
    "    for ch in list(s):\n",
    "        temp_list.append(chr(ord(ch) + 128467))\n",
    "    return ''.join(temp_list)\n",
    "    \n",
    "def emoji_decode(s):\n",
    "    temp_list = []\n",
    "    for ch in list(s):\n",
    "        temp_list.append(chr(ord(ch) - 128467))\n",
    "    return ''.join(temp_list)"
   ]
  },
  {
   "cell_type": "code",
   "execution_count": 47,
   "metadata": {},
   "outputs": [
    {
     "data": {
      "text/plain": [
       "'😧😻😸🗳😼🙆🗳🙀🙌🗳🙆🙇🙂🙅🙌'"
      ]
     },
     "execution_count": 47,
     "metadata": {},
     "output_type": "execute_result"
    }
   ],
   "source": [
    "emoji_encode('The is my story')"
   ]
  },
  {
   "cell_type": "code",
   "execution_count": 48,
   "metadata": {},
   "outputs": [
    {
     "data": {
      "text/plain": [
       "'The is my story'"
      ]
     },
     "execution_count": 48,
     "metadata": {},
     "output_type": "execute_result"
    }
   ],
   "source": [
    "emoji_decode('😧😻😸🗳😼🙆🗳🙀🙌🗳🙆🙇🙂🙅🙌')"
   ]
  },
  {
   "cell_type": "markdown",
   "metadata": {},
   "source": [
    "### Or hide a message in another language's character set like Chinese:\n",
    "\n",
    "'你好，世界'"
   ]
  },
  {
   "cell_type": "code",
   "execution_count": 52,
   "metadata": {},
   "outputs": [],
   "source": [
    "def chinese_cipher(s, e_or_d):\n",
    "    temp_list = []\n",
    "    for ch in list(s):\n",
    "        if e_or_d.lower()[:1] == 'e':\n",
    "            temp_list.append(chr(ord(ch) + 20320))\n",
    "        else:\n",
    "            temp_list.append(chr(ord(ch) - 20320))\n",
    "    return ''.join(temp_list)"
   ]
  },
  {
   "cell_type": "code",
   "execution_count": 53,
   "metadata": {},
   "outputs": [
    {
     "data": {
      "text/plain": [
       "'侴俈俉俓侀俉俓侀俍俙侀俔俏俐侍俓俅促俒俅俔侀俍俅俓俓俁俇俅侎侀侤俏俎侇俔侀俔俅俌俌侀俁俎俙俏俎俅侎'"
      ]
     },
     "execution_count": 53,
     "metadata": {},
     "output_type": "execute_result"
    }
   ],
   "source": [
    "chinese_cipher(\"This is my top-secret message. Don't tell anyone.\", 'e')"
   ]
  },
  {
   "cell_type": "code",
   "execution_count": 54,
   "metadata": {},
   "outputs": [
    {
     "data": {
      "text/plain": [
       "\"This is my top-secret message. Don't tell anyone.\""
      ]
     },
     "execution_count": 54,
     "metadata": {},
     "output_type": "execute_result"
    }
   ],
   "source": [
    "chinese_cipher('侴俈俉俓侀俉俓侀俍俙侀俔俏俐侍俓俅促俒俅俔侀俍俅俓俓俁俇俅侎侀侤俏俎侇俔侀俔俅俌俌侀俁俎俙俏俎俅侎', 'd')"
   ]
  },
  {
   "cell_type": "code",
   "execution_count": null,
   "metadata": {},
   "outputs": [],
   "source": []
  }
 ],
 "metadata": {
  "kernelspec": {
   "display_name": "Python 3",
   "language": "python",
   "name": "python3"
  },
  "language_info": {
   "codemirror_mode": {
    "name": "ipython",
    "version": 3
   },
   "file_extension": ".py",
   "mimetype": "text/x-python",
   "name": "python",
   "nbconvert_exporter": "python",
   "pygments_lexer": "ipython3",
   "version": "3.7.5"
  }
 },
 "nbformat": 4,
 "nbformat_minor": 2
}
