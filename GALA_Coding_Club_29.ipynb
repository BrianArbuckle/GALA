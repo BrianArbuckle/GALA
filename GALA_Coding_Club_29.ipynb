{
 "cells": [
  {
   "cell_type": "markdown",
   "metadata": {},
   "source": [
    "## Inheritance - More on classes\n",
    "\n",
    "No, we did not find out about our distant Great Aunt Buttercup, the princess of Florin has sadly passed away and left us with a millions of dollars!\n",
    "\n",
    "**Inheritance** provides a way to share functionality between classes. <br>\n",
    "Imagine several classes, Cat, Dog, Rabbit and so on. Although they may differ in some ways (only Dog might have the method bark), they are likely to be similar in others (all having the attributes color and name). <br>\n",
    "This similarity can be expressed by making them all inherit from a ***superclass*** Animal, which contains the shared functionality. <br>\n",
    "To inherit a class from another class, put the superclass name in parentheses after the class name.<br>\n",
    "Example:\n"
   ]
  },
  {
   "cell_type": "code",
   "execution_count": 2,
   "metadata": {},
   "outputs": [
    {
     "name": "stdout",
     "output_type": "stream",
     "text": [
      "brown\n",
      "Woof!\n"
     ]
    }
   ],
   "source": [
    "class Animal: \n",
    "    def __init__(self, name, color):\n",
    "        self.name = name\n",
    "        self.color = color\n",
    "\n",
    "class Cat(Animal):\n",
    "    def purr(self):\n",
    "        print(\"Purr...\")\n",
    "        \n",
    "class Dog(Animal):\n",
    "    def bark(self):\n",
    "        print(\"Woof!\")\n",
    "\n",
    "fido = Dog(\"Fido\", \"brown\")\n",
    "print(fido.color)\n",
    "fido.bark()\n"
   ]
  },
  {
   "cell_type": "markdown",
   "metadata": {},
   "source": [
    "### subclass\n",
    "A class that inherits from another class is called a **subclass**.\n",
    "### superclass\n",
    "A class that is inherited from is called a **superclass**.<br>\n",
    "If a class inherits from another with the same attributes or methods, it overrides them.\n",
    "\n",
    "Inheritance can also be indirect. One class can inherit from another, and that class can inherit from a third class."
   ]
  },
  {
   "cell_type": "code",
   "execution_count": 3,
   "metadata": {},
   "outputs": [
    {
     "name": "stdout",
     "output_type": "stream",
     "text": [
      "A method\n",
      "B method\n",
      "C method\n"
     ]
    }
   ],
   "source": [
    "class A:\n",
    "    def method(self):\n",
    "        print(\"A method\")\n",
    "    \n",
    "class B(A):\n",
    "    def another_method(self):\n",
    "        print(\"B method\")\n",
    "    \n",
    "class C(B):\n",
    "    def third_method(self):\n",
    "        print(\"C method\")\n",
    "    \n",
    "c = C()\n",
    "c.method()\n",
    "c.another_method()\n",
    "c.third_method()"
   ]
  },
  {
   "cell_type": "markdown",
   "metadata": {},
   "source": [
    "### super\n",
    "\n",
    "The function **super** is a useful inheritance-related function that refers to the parent class. It can be used to find the method with a certain name in an object's superclass.<br>\n",
    "In the example below super().spam() calls the spam method of the superclass.:\n"
   ]
  },
  {
   "cell_type": "code",
   "execution_count": 4,
   "metadata": {},
   "outputs": [
    {
     "name": "stdout",
     "output_type": "stream",
     "text": [
      "2\n",
      "1\n"
     ]
    }
   ],
   "source": [
    "class A:\n",
    "    def spam(self):\n",
    "        print(1)\n",
    "\n",
    "class B(A):\n",
    "    def spam(self):\n",
    "        print(2)\n",
    "        super().spam()\n",
    "            \n",
    "B().spam()\n"
   ]
  },
  {
   "cell_type": "markdown",
   "metadata": {},
   "source": [
    "Let's create a monster class using our Charecter Class:"
   ]
  },
  {
   "cell_type": "code",
   "execution_count": 5,
   "metadata": {},
   "outputs": [],
   "source": [
    "import random\n",
    "\n",
    "class Character:\n",
    "    def __init__(self, name = '', owner = '', hp = 10, level = 1, lives = 3):\n",
    "        \"\"\"If not specified, the name and owner fields default to a blank value.\n",
    "        hp stand for hit points.'\"\"\"\n",
    "        self.name = name\n",
    "        self.owner = owner\n",
    "        self.hp = hp\n",
    "        self.level = level\n",
    "        self.lives = lives\n",
    "    \n",
    "    @classmethod\n",
    "    def generic(cls):\n",
    "        first = random.choice(['Cora', 'Iris', 'Alice', 'Arabella', 'Clara', \n",
    "                                     'Daisy', 'Esther', 'Josephine', 'Lydia', 'Sadie', \n",
    "                                     'Cordelia', 'Imogen', 'Posey', 'Susannah']) \n",
    "        title =  random.choice(['The Strong', 'The Bold', 'The Fierce', \n",
    "                                'The Wise', 'The Stylish', 'The Brave',\n",
    "                                'The Seer', 'The Friend', 'The Mysterious'])\n",
    "        return cls(first + \" \" + title, 'computer')\n",
    "        \n",
    "    def hit(self, change = 1):\n",
    "        \"\"\"Lowers the character's hitpoints by the change value.  The default value is 1.\"\"\"\n",
    "        self.hp += -change\n",
    "        if self.hp <= 0:\n",
    "            choice = ['Ouch', 'No', 'Yikes', 'Bad Word', 'Really Bad Word', 'Really Really Bad Word']\n",
    "            word_1 = random.choice(choice)\n",
    "            print( word_1 +' ' + self.owner + ' you need to practice more')\n",
    "            self.lives -= 1\n",
    "        print(self.name + \", you have only \" + str(self.hp) + \" hit points left!\")\n",
    "        \n",
    "    def potion(self, change = 2):\n",
    "        self.hp += change\n",
    "        print(self.name + \", you have \" + str(self.hp) + \" hit points now!\")\n",
    "\n",
    "Merida = Character(name = \"Merida\", owner = 'Audrey')\n",
    "Mulan = Character(name = 'Mulan', owner = 'Brian')"
   ]
  },
  {
   "cell_type": "code",
   "execution_count": 6,
   "metadata": {},
   "outputs": [],
   "source": [
    "class Monster(Character):\n",
    "    @classmethod\n",
    "    def generic(cls):\n",
    "        first = random.choice(['Ercinee', 'Igor', 'Fred', 'Bob']) \n",
    "        title =  random.choice(['The Evil', 'The Wicked', 'The Fierce', \n",
    "                                'The Mean'])\n",
    "        return cls(first + \" \" + title, 'computer')\n",
    "    "
   ]
  },
  {
   "cell_type": "code",
   "execution_count": 7,
   "metadata": {},
   "outputs": [],
   "source": [
    "monster_1 = Monster.generic()"
   ]
  },
  {
   "cell_type": "code",
   "execution_count": 9,
   "metadata": {},
   "outputs": [
    {
     "data": {
      "text/plain": [
       "'Ercinee The Wicked'"
      ]
     },
     "execution_count": 9,
     "metadata": {},
     "output_type": "execute_result"
    }
   ],
   "source": [
    "monster_1.name"
   ]
  },
  {
   "cell_type": "code",
   "execution_count": 10,
   "metadata": {},
   "outputs": [
    {
     "data": {
      "text/plain": [
       "10"
      ]
     },
     "execution_count": 10,
     "metadata": {},
     "output_type": "execute_result"
    }
   ],
   "source": [
    "monster_1.hp"
   ]
  },
  {
   "cell_type": "code",
   "execution_count": 12,
   "metadata": {},
   "outputs": [
    {
     "name": "stdout",
     "output_type": "stream",
     "text": [
      "Ercinee The Wicked, you have only 9 hit points left!\n"
     ]
    }
   ],
   "source": [
    "monster_1.hit()"
   ]
  },
  {
   "cell_type": "code",
   "execution_count": null,
   "metadata": {},
   "outputs": [],
   "source": []
  },
  {
   "cell_type": "code",
   "execution_count": null,
   "metadata": {},
   "outputs": [],
   "source": []
  }
 ],
 "metadata": {
  "kernelspec": {
   "display_name": "Python 3",
   "language": "python",
   "name": "python3"
  },
  "language_info": {
   "codemirror_mode": {
    "name": "ipython",
    "version": 3
   },
   "file_extension": ".py",
   "mimetype": "text/x-python",
   "name": "python",
   "nbconvert_exporter": "python",
   "pygments_lexer": "ipython3",
   "version": "3.7.5"
  }
 },
 "nbformat": 4,
 "nbformat_minor": 2
}
