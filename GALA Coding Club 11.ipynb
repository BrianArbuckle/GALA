{
 "cells": [
  {
   "cell_type": "markdown",
   "metadata": {},
   "source": [
    "# Tuples\n",
    "\n",
    "Lists work well for storing sets of items that can change throughout the\n",
    "life of a program. The ability to modify lists is particularly important when you’re working with a list of users on a website or a list of characters in a game. However, sometimes you’ll want to create a list of items that cannot change. Tuples allow you to do just that. Python refers to values that cannot change as immutable, and an immutable list is called a tuple.\n",
    "\n",
    "## Defining a Tuple\n",
    "\n",
    "A tuple looks just like a list except you use parentheses instead of square brackets. Once you define a tuple, you can access individual elements by using each item’s index, just as you would for a list.\n",
    "\n",
    "For example, if we have a rectangle that should always be a certain size, we can ensure that its size doesn’t change by putting the dimensions into a tuple:"
   ]
  },
  {
   "cell_type": "code",
   "execution_count": 1,
   "metadata": {},
   "outputs": [
    {
     "name": "stdout",
     "output_type": "stream",
     "text": [
      "(200, 50)\n"
     ]
    }
   ],
   "source": [
    "dimensions = (200, 50)\n",
    "print(dimensions)"
   ]
  },
  {
   "cell_type": "markdown",
   "metadata": {},
   "source": [
    "## Looping Through All Values in a Tuple\n",
    "\n",
    "You can loop over all the values in a tuple using a for loop, just as you did with a list:"
   ]
  },
  {
   "cell_type": "code",
   "execution_count": 2,
   "metadata": {},
   "outputs": [
    {
     "name": "stdout",
     "output_type": "stream",
     "text": [
      "Harry\n",
      "Hermione Granger\n",
      "Hagrid\n",
      "Albus Brian Dumbledore\n",
      "Dobby\n",
      "Ron Weasley\n"
     ]
    }
   ],
   "source": [
    "potter_names = ('Harry', 'Hermione Granger', 'Hagrid', 'Albus Brian Dumbledore', 'Dobby', 'Ron Weasley')\n",
    "\n",
    "for name in potter_names:\n",
    "    print(name)"
   ]
  },
  {
   "cell_type": "markdown",
   "metadata": {},
   "source": [
    "## Immutable in Action\n",
    "\n",
    "Lets try and append Lord Voldemort to the Tuple and see what happens:"
   ]
  },
  {
   "cell_type": "code",
   "execution_count": 3,
   "metadata": {},
   "outputs": [
    {
     "ename": "AttributeError",
     "evalue": "'tuple' object has no attribute 'append'",
     "output_type": "error",
     "traceback": [
      "\u001b[0;31m---------------------------------------------------------------------------\u001b[0m",
      "\u001b[0;31mAttributeError\u001b[0m                            Traceback (most recent call last)",
      "\u001b[0;32m<ipython-input-3-a03c3b352d37>\u001b[0m in \u001b[0;36m<module>\u001b[0;34m()\u001b[0m\n\u001b[0;32m----> 1\u001b[0;31m \u001b[0mpotter_names\u001b[0m\u001b[0;34m.\u001b[0m\u001b[0mappend\u001b[0m\u001b[0;34m(\u001b[0m\u001b[0;34m'Lord Voldemort'\u001b[0m\u001b[0;34m)\u001b[0m\u001b[0;34m\u001b[0m\u001b[0m\n\u001b[0m",
      "\u001b[0;31mAttributeError\u001b[0m: 'tuple' object has no attribute 'append'"
     ]
    }
   ],
   "source": [
    "potter_names.append('Lord Voldemort')"
   ]
  },
  {
   "cell_type": "markdown",
   "metadata": {},
   "source": [
    "# Adding Shapes to a Map\n",
    "\n",
    "Let's first load a zoomed in view of the GALA map:"
   ]
  },
  {
   "cell_type": "code",
   "execution_count": 9,
   "metadata": {},
   "outputs": [
    {
     "data": {
      "text/html": [
       "<div style=\"width:100%;\"><div style=\"position:relative;width:100%;height:0;padding-bottom:60%;\"><iframe src=\"data:text/html;charset=utf-8;base64,PCFET0NUWVBFIGh0bWw+CjxoZWFkPiAgICAKICAgIDxtZXRhIGh0dHAtZXF1aXY9ImNvbnRlbnQtdHlwZSIgY29udGVudD0idGV4dC9odG1sOyBjaGFyc2V0PVVURi04IiAvPgogICAgPHNjcmlwdD5MX1BSRUZFUl9DQU5WQVM9ZmFsc2U7IExfTk9fVE9VQ0g9ZmFsc2U7IExfRElTQUJMRV8zRD1mYWxzZTs8L3NjcmlwdD4KICAgIDxzY3JpcHQgc3JjPSJodHRwczovL2Nkbi5qc2RlbGl2ci5uZXQvbnBtL2xlYWZsZXRAMS4zLjQvZGlzdC9sZWFmbGV0LmpzIj48L3NjcmlwdD4KICAgIDxzY3JpcHQgc3JjPSJodHRwczovL2FqYXguZ29vZ2xlYXBpcy5jb20vYWpheC9saWJzL2pxdWVyeS8xLjExLjEvanF1ZXJ5Lm1pbi5qcyI+PC9zY3JpcHQ+CiAgICA8c2NyaXB0IHNyYz0iaHR0cHM6Ly9tYXhjZG4uYm9vdHN0cmFwY2RuLmNvbS9ib290c3RyYXAvMy4yLjAvanMvYm9vdHN0cmFwLm1pbi5qcyI+PC9zY3JpcHQ+CiAgICA8c2NyaXB0IHNyYz0iaHR0cHM6Ly9jZG5qcy5jbG91ZGZsYXJlLmNvbS9hamF4L2xpYnMvTGVhZmxldC5hd2Vzb21lLW1hcmtlcnMvMi4wLjIvbGVhZmxldC5hd2Vzb21lLW1hcmtlcnMuanMiPjwvc2NyaXB0PgogICAgPGxpbmsgcmVsPSJzdHlsZXNoZWV0IiBocmVmPSJodHRwczovL2Nkbi5qc2RlbGl2ci5uZXQvbnBtL2xlYWZsZXRAMS4zLjQvZGlzdC9sZWFmbGV0LmNzcyIvPgogICAgPGxpbmsgcmVsPSJzdHlsZXNoZWV0IiBocmVmPSJodHRwczovL21heGNkbi5ib290c3RyYXBjZG4uY29tL2Jvb3RzdHJhcC8zLjIuMC9jc3MvYm9vdHN0cmFwLm1pbi5jc3MiLz4KICAgIDxsaW5rIHJlbD0ic3R5bGVzaGVldCIgaHJlZj0iaHR0cHM6Ly9tYXhjZG4uYm9vdHN0cmFwY2RuLmNvbS9ib290c3RyYXAvMy4yLjAvY3NzL2Jvb3RzdHJhcC10aGVtZS5taW4uY3NzIi8+CiAgICA8bGluayByZWw9InN0eWxlc2hlZXQiIGhyZWY9Imh0dHBzOi8vbWF4Y2RuLmJvb3RzdHJhcGNkbi5jb20vZm9udC1hd2Vzb21lLzQuNi4zL2Nzcy9mb250LWF3ZXNvbWUubWluLmNzcyIvPgogICAgPGxpbmsgcmVsPSJzdHlsZXNoZWV0IiBocmVmPSJodHRwczovL2NkbmpzLmNsb3VkZmxhcmUuY29tL2FqYXgvbGlicy9MZWFmbGV0LmF3ZXNvbWUtbWFya2Vycy8yLjAuMi9sZWFmbGV0LmF3ZXNvbWUtbWFya2Vycy5jc3MiLz4KICAgIDxsaW5rIHJlbD0ic3R5bGVzaGVldCIgaHJlZj0iaHR0cHM6Ly9yYXdjZG4uZ2l0aGFjay5jb20vcHl0aG9uLXZpc3VhbGl6YXRpb24vZm9saXVtL21hc3Rlci9mb2xpdW0vdGVtcGxhdGVzL2xlYWZsZXQuYXdlc29tZS5yb3RhdGUuY3NzIi8+CiAgICA8c3R5bGU+aHRtbCwgYm9keSB7d2lkdGg6IDEwMCU7aGVpZ2h0OiAxMDAlO21hcmdpbjogMDtwYWRkaW5nOiAwO308L3N0eWxlPgogICAgPHN0eWxlPiNtYXAge3Bvc2l0aW9uOmFic29sdXRlO3RvcDowO2JvdHRvbTowO3JpZ2h0OjA7bGVmdDowO308L3N0eWxlPgogICAgCiAgICA8bWV0YSBuYW1lPSJ2aWV3cG9ydCIgY29udGVudD0id2lkdGg9ZGV2aWNlLXdpZHRoLAogICAgICAgIGluaXRpYWwtc2NhbGU9MS4wLCBtYXhpbXVtLXNjYWxlPTEuMCwgdXNlci1zY2FsYWJsZT1ubyIgLz4KICAgIDxzdHlsZT4jbWFwX2FmOWI2MDM3NTMzYjQ2YjlhMmZiNTllYWU5NmVkNzczIHsKICAgICAgICBwb3NpdGlvbjogcmVsYXRpdmU7CiAgICAgICAgd2lkdGg6IDEwMC4wJTsKICAgICAgICBoZWlnaHQ6IDEwMC4wJTsKICAgICAgICBsZWZ0OiAwLjAlOwogICAgICAgIHRvcDogMC4wJTsKICAgICAgICB9CiAgICA8L3N0eWxlPgo8L2hlYWQ+Cjxib2R5PiAgICAKICAgIAogICAgPGRpdiBjbGFzcz0iZm9saXVtLW1hcCIgaWQ9Im1hcF9hZjliNjAzNzUzM2I0NmI5YTJmYjU5ZWFlOTZlZDc3MyIgPjwvZGl2Pgo8L2JvZHk+CjxzY3JpcHQ+ICAgIAogICAgCiAgICAKICAgICAgICB2YXIgYm91bmRzID0gbnVsbDsKICAgIAoKICAgIHZhciBtYXBfYWY5YjYwMzc1MzNiNDZiOWEyZmI1OWVhZTk2ZWQ3NzMgPSBMLm1hcCgKICAgICAgICAnbWFwX2FmOWI2MDM3NTMzYjQ2YjlhMmZiNTllYWU5NmVkNzczJywgewogICAgICAgIGNlbnRlcjogWzM0LjA1NTQ0LCAtMTE4LjMzMTMyXSwKICAgICAgICB6b29tOiAxNCwKICAgICAgICBtYXhCb3VuZHM6IGJvdW5kcywKICAgICAgICBsYXllcnM6IFtdLAogICAgICAgIHdvcmxkQ29weUp1bXA6IGZhbHNlLAogICAgICAgIGNyczogTC5DUlMuRVBTRzM4NTcsCiAgICAgICAgem9vbUNvbnRyb2w6IHRydWUsCiAgICAgICAgfSk7CgogICAgCiAgICAKICAgIHZhciB0aWxlX2xheWVyX2VjYWMwOTcyOWQwMDRjYmI4ZGNlYWRmOTVjZGI4NWE2ID0gTC50aWxlTGF5ZXIoCiAgICAgICAgJ2h0dHBzOi8vY2FydG9kYi1iYXNlbWFwcy17c30uZ2xvYmFsLnNzbC5mYXN0bHkubmV0L2xpZ2h0X2FsbC97en0ve3h9L3t5fS5wbmcnLAogICAgICAgIHsKICAgICAgICAiYXR0cmlidXRpb24iOiBudWxsLAogICAgICAgICJkZXRlY3RSZXRpbmEiOiBmYWxzZSwKICAgICAgICAibWF4TmF0aXZlWm9vbSI6IDE4LAogICAgICAgICJtYXhab29tIjogMTgsCiAgICAgICAgIm1pblpvb20iOiAwLAogICAgICAgICJub1dyYXAiOiBmYWxzZSwKICAgICAgICAib3BhY2l0eSI6IDEsCiAgICAgICAgInN1YmRvbWFpbnMiOiAiYWJjIiwKICAgICAgICAidG1zIjogZmFsc2UKfSkuYWRkVG8obWFwX2FmOWI2MDM3NTMzYjQ2YjlhMmZiNTllYWU5NmVkNzczKTsKICAgIAogICAgICAgIHZhciBtYXJrZXJfYWU1ZTY0NzE5YzI1NGIzNmIyMzkzOTE0MjQzZmQ2MGQgPSBMLm1hcmtlcigKICAgICAgICAgICAgWzM0LjA1NTQ0LCAtMTE4LjMzMTMyXSwKICAgICAgICAgICAgewogICAgICAgICAgICAgICAgaWNvbjogbmV3IEwuSWNvbi5EZWZhdWx0KCkKICAgICAgICAgICAgICAgIH0KICAgICAgICAgICAgKS5hZGRUbyhtYXBfYWY5YjYwMzc1MzNiNDZiOWEyZmI1OWVhZTk2ZWQ3NzMpOwogICAgICAgIAogICAgCgogICAgICAgICAgICAgICAgdmFyIGljb25fOGEwMWI4YTdiYjdjNGViMjliZjI3OWRjNjA1YWVmZTkgPSBMLkF3ZXNvbWVNYXJrZXJzLmljb24oewogICAgICAgICAgICAgICAgICAgIGljb246ICdncmFkdWF0aW9uLWNhcCcsCiAgICAgICAgICAgICAgICAgICAgaWNvbkNvbG9yOiAnd2hpdGUnLAogICAgICAgICAgICAgICAgICAgIG1hcmtlckNvbG9yOiAnYmxhY2snLAogICAgICAgICAgICAgICAgICAgIHByZWZpeDogJ2ZhJywKICAgICAgICAgICAgICAgICAgICBleHRyYUNsYXNzZXM6ICdmYS1yb3RhdGUtMCcKICAgICAgICAgICAgICAgICAgICB9KTsKICAgICAgICAgICAgICAgIG1hcmtlcl9hZTVlNjQ3MTljMjU0YjM2YjIzOTM5MTQyNDNmZDYwZC5zZXRJY29uKGljb25fOGEwMWI4YTdiYjdjNGViMjliZjI3OWRjNjA1YWVmZTkpOwogICAgICAgICAgICAKICAgIAogICAgICAgICAgICB2YXIgcG9wdXBfMmNmZWNmNGI2N2ZjNGQ1NDljMWU0N2Q3OWNlYjg3YTIgPSBMLnBvcHVwKHttYXhXaWR0aDogJzMwMCcKICAgICAgICAgICAgCiAgICAgICAgICAgIH0pOwoKICAgICAgICAgICAgCiAgICAgICAgICAgICAgICB2YXIgaHRtbF9jZTlmNzQwOTFlMDI0N2ZlOWZiOTkwZTgyY2EwZmE1ZCA9ICQoYDxkaXYgaWQ9Imh0bWxfY2U5Zjc0MDkxZTAyNDdmZTlmYjk5MGU4MmNhMGZhNWQiIHN0eWxlPSJ3aWR0aDogMTAwLjAlOyBoZWlnaHQ6IDEwMC4wJTsiPjEwNjcgV2VzdCBCbHZkLCBMb3MgQW5nZWxlcywgQ0EgOTAwMTk8L2Rpdj5gKVswXTsKICAgICAgICAgICAgICAgIHBvcHVwXzJjZmVjZjRiNjdmYzRkNTQ5YzFlNDdkNzljZWI4N2EyLnNldENvbnRlbnQoaHRtbF9jZTlmNzQwOTFlMDI0N2ZlOWZiOTkwZTgyY2EwZmE1ZCk7CiAgICAgICAgICAgIAoKICAgICAgICAgICAgbWFya2VyX2FlNWU2NDcxOWMyNTRiMzZiMjM5MzkxNDI0M2ZkNjBkLmJpbmRQb3B1cChwb3B1cF8yY2ZlY2Y0YjY3ZmM0ZDU0OWMxZTQ3ZDc5Y2ViODdhMikKICAgICAgICAgICAgOwoKICAgICAgICAgICAgCiAgICAgICAgCjwvc2NyaXB0Pg==\" style=\"position:absolute;width:100%;height:100%;left:0;top:0;border:none !important;\" allowfullscreen webkitallowfullscreen mozallowfullscreen></iframe></div></div>"
      ],
      "text/plain": [
       "<folium.folium.Map at 0x11a0c0ba8>"
      ]
     },
     "execution_count": 9,
     "metadata": {},
     "output_type": "execute_result"
    }
   ],
   "source": [
    "import folium\n",
    "from folium import plugins\n",
    "\n",
    "\n",
    "GALA_Address = '1067 West Blvd, Los Angeles, CA 90019'\n",
    "\n",
    "# GALA Latitude and Longitude from GEOPY\n",
    "gala_lat = 34.05544\n",
    "gala_long = -118.33132\n",
    "\n",
    "gala_map = folium.Map(location=[gala_lat, gala_long],\n",
    "                        zoom_start=14,\n",
    "                        tiles=\"CartoDB positron\")\n",
    "\n",
    "    \n",
    "folium.Marker(location=[gala_lat, gala_long],\n",
    "             icon=folium.Icon(color='black',icon='graduation-cap', prefix='fa'\n",
    "                             ), popup = GALA_Address).add_to(gala_map)\n",
    "\n",
    "\n",
    "\n",
    "gala_map"
   ]
  },
  {
   "cell_type": "code",
   "execution_count": 5,
   "metadata": {},
   "outputs": [
    {
     "data": {
      "text/plain": [
       "<folium.vector_layers.PolyLine at 0x10e1844a8>"
      ]
     },
     "execution_count": 5,
     "metadata": {},
     "output_type": "execute_result"
    }
   ],
   "source": [
    "line = [(34.0677263, -118.35418), (gala_lat, gala_long)]\n",
    "\n",
    "\n",
    "folium.PolyLine(line, color=\"red\", weight=2.5, opacity=1).add_to(gala_map)"
   ]
  },
  {
   "cell_type": "code",
   "execution_count": 6,
   "metadata": {},
   "outputs": [
    {
     "data": {
      "text/html": [
       "<div style=\"width:100%;\"><div style=\"position:relative;width:100%;height:0;padding-bottom:60%;\"><iframe src=\"data:text/html;charset=utf-8;base64,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\" style=\"position:absolute;width:100%;height:100%;left:0;top:0;border:none !important;\" allowfullscreen webkitallowfullscreen mozallowfullscreen></iframe></div></div>"
      ],
      "text/plain": [
       "<folium.folium.Map at 0x10e2d83c8>"
      ]
     },
     "execution_count": 6,
     "metadata": {},
     "output_type": "execute_result"
    }
   ],
   "source": [
    "gala_map"
   ]
  },
  {
   "cell_type": "code",
   "execution_count": 7,
   "metadata": {},
   "outputs": [
    {
     "data": {
      "text/html": [
       "<div style=\"width:100%;\"><div style=\"position:relative;width:100%;height:0;padding-bottom:60%;\"><iframe src=\"data:text/html;charset=utf-8;base64,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\" style=\"position:absolute;width:100%;height:100%;left:0;top:0;border:none !important;\" allowfullscreen webkitallowfullscreen mozallowfullscreen></iframe></div></div>"
      ],
      "text/plain": [
       "<folium.folium.Map at 0x10e2d83c8>"
      ]
     },
     "execution_count": 7,
     "metadata": {},
     "output_type": "execute_result"
    }
   ],
   "source": [
    "line2 = [(34.0677263, -118.35418),\n",
    "         (34.0677263, -118.34418) ,\n",
    "         (34.06242,-118.34418),\n",
    "         (34.07242,-118.34418), \n",
    "         (gala_lat, gala_long),\n",
    "        (34.0677263, -118.35418)]\n",
    "\n",
    "folium.PolyLine(line2, color=\"purple\", weight=2.5, opacity=1).add_to(gala_map)\n",
    "\n",
    "gala_map"
   ]
  },
  {
   "cell_type": "code",
   "execution_count": 8,
   "metadata": {},
   "outputs": [
    {
     "name": "stdout",
     "output_type": "stream",
     "text": [
      "Help on class Choropleth in module folium.features:\n",
      "\n",
      "class Choropleth(folium.map.FeatureGroup)\n",
      " |  Apply a GeoJSON overlay to the map.\n",
      " |  \n",
      " |  Plot a GeoJSON overlay on the base map. There is no requirement\n",
      " |  to bind data (passing just a GeoJSON plots a single-color overlay),\n",
      " |  but there is a data binding option to map your columnar data to\n",
      " |  different feature objects with a color scale.\n",
      " |  \n",
      " |  If data is passed as a Pandas DataFrame, the \"columns\" and \"key-on\"\n",
      " |  keywords must be included, the first to indicate which DataFrame\n",
      " |  columns to use, the second to indicate the layer in the GeoJSON\n",
      " |  on which to key the data. The 'columns' keyword does not need to be\n",
      " |  passed for a Pandas series.\n",
      " |  \n",
      " |  Colors are generated from color brewer (http://colorbrewer2.org/)\n",
      " |  sequential palettes. By default, linear binning is used between\n",
      " |  the min and the max of the values. Custom binning can be achieved\n",
      " |  with the `bins` parameter.\n",
      " |  \n",
      " |  TopoJSONs can be passed as \"geo_data\", but the \"topojson\" keyword must\n",
      " |  also be passed with the reference to the topojson objects to convert.\n",
      " |  See the topojson.feature method in the TopoJSON API reference:\n",
      " |  https://github.com/topojson/topojson/wiki/API-Reference\n",
      " |  \n",
      " |  \n",
      " |  Parameters\n",
      " |  ----------\n",
      " |  geo_data: string/object\n",
      " |      URL, file path, or data (json, dict, geopandas, etc) to your GeoJSON\n",
      " |      geometries\n",
      " |  data: Pandas DataFrame or Series, default None\n",
      " |      Data to bind to the GeoJSON.\n",
      " |  columns: dict or tuple, default None\n",
      " |      If the data is a Pandas DataFrame, the columns of data to be bound.\n",
      " |      Must pass column 1 as the key, and column 2 the values.\n",
      " |  key_on: string, default None\n",
      " |      Variable in the `geo_data` GeoJSON file to bind the data to. Must\n",
      " |      start with 'feature' and be in JavaScript objection notation.\n",
      " |      Ex: 'feature.id' or 'feature.properties.statename'.\n",
      " |  bins: int or sequence of scalars or str, default 6\n",
      " |      If `bins` is an int, it defines the number of equal-width\n",
      " |      bins between the min and the max of the values.\n",
      " |      If `bins` is a sequence, it directly defines the bin edges.\n",
      " |      For more information on this parameter, have a look at\n",
      " |      numpy.histogram function.\n",
      " |  fill_color: string, default 'blue'\n",
      " |      Area fill color. Can pass a hex code, color name, or if you are\n",
      " |      binding data, one of the following color brewer palettes:\n",
      " |      'BuGn', 'BuPu', 'GnBu', 'OrRd', 'PuBu', 'PuBuGn', 'PuRd', 'RdPu',\n",
      " |      'YlGn', 'YlGnBu', 'YlOrBr', and 'YlOrRd'.\n",
      " |  nan_fill_color: string, default 'black'\n",
      " |      Area fill color for nan or missing values.\n",
      " |      Can pass a hex code, color name.\n",
      " |  fill_opacity: float, default 0.6\n",
      " |      Area fill opacity, range 0-1.\n",
      " |  nan_fill_opacity: float, default fill_opacity\n",
      " |      Area fill opacity for nan or missing values, range 0-1.\n",
      " |  line_color: string, default 'black'\n",
      " |      GeoJSON geopath line color.\n",
      " |  line_weight: int, default 1\n",
      " |      GeoJSON geopath line weight.\n",
      " |  line_opacity: float, default 1\n",
      " |      GeoJSON geopath line opacity, range 0-1.\n",
      " |  legend_name: string, default empty string\n",
      " |      Title for data legend.\n",
      " |  topojson: string, default None\n",
      " |      If using a TopoJSON, passing \"objects.yourfeature\" to the topojson\n",
      " |      keyword argument will enable conversion to GeoJSON.\n",
      " |  smooth_factor: float, default None\n",
      " |      How much to simplify the polyline on each zoom level. More means\n",
      " |      better performance and smoother look, and less means more accurate\n",
      " |      representation. Leaflet defaults to 1.0.\n",
      " |  highlight: boolean, default False\n",
      " |      Enable highlight functionality when hovering over a GeoJSON area.\n",
      " |  name : string, optional\n",
      " |      The name of the layer, as it will appear in LayerControls\n",
      " |  overlay : bool, default False\n",
      " |      Adds the layer as an optional overlay (True) or the base layer (False).\n",
      " |  control : bool, default True\n",
      " |      Whether the Layer will be included in LayerControls.\n",
      " |  show: bool, default True\n",
      " |      Whether the layer will be shown on opening (only for overlays).\n",
      " |  \n",
      " |  Returns\n",
      " |  -------\n",
      " |  GeoJSON data layer in obj.template_vars\n",
      " |  \n",
      " |  Examples\n",
      " |  --------\n",
      " |  >>> Choropleth(geo_data='us-states.json', line_color='blue',\n",
      " |  ...            line_weight=3)\n",
      " |  >>> Choropleth(geo_data='geo.json', data=df,\n",
      " |  ...            columns=['Data 1', 'Data 2'],\n",
      " |  ...            key_on='feature.properties.myvalue',\n",
      " |  ...            fill_color='PuBu',\n",
      " |  ...            bins=[0, 20, 30, 40, 50, 60])\n",
      " |  >>> Choropleth(geo_data='countries.json',\n",
      " |  ...            topojson='objects.countries')\n",
      " |  >>> Choropleth(geo_data='geo.json', data=df,\n",
      " |  ...            columns=['Data 1', 'Data 2'],\n",
      " |  ...            key_on='feature.properties.myvalue',\n",
      " |  ...            fill_color='PuBu',\n",
      " |  ...            bins=[0, 20, 30, 40, 50, 60],\n",
      " |  ...            highlight=True)\n",
      " |  \n",
      " |  Method resolution order:\n",
      " |      Choropleth\n",
      " |      folium.map.FeatureGroup\n",
      " |      folium.map.Layer\n",
      " |      branca.element.MacroElement\n",
      " |      branca.element.Element\n",
      " |      builtins.object\n",
      " |  \n",
      " |  Methods defined here:\n",
      " |  \n",
      " |  __init__(self, geo_data, data=None, columns=None, key_on=None, bins=6, fill_color='blue', nan_fill_color='black', fill_opacity=0.6, nan_fill_opacity=None, line_color='black', line_weight=1, line_opacity=1, name=None, legend_name='', overlay=True, control=True, show=True, topojson=None, smooth_factor=None, highlight=None, **kwargs)\n",
      " |      Initialize self.  See help(type(self)) for accurate signature.\n",
      " |  \n",
      " |  render(self, **kwargs)\n",
      " |      Render the GeoJson/TopoJson and color scale objects.\n",
      " |  \n",
      " |  ----------------------------------------------------------------------\n",
      " |  Methods inherited from branca.element.Element:\n",
      " |  \n",
      " |  add_child(self, child, name=None, index=None)\n",
      " |      Add a child.\n",
      " |  \n",
      " |  add_children(self, child, name=None, index=None)\n",
      " |      Add a child.\n",
      " |  \n",
      " |  add_to(self, parent, name=None, index=None)\n",
      " |      Add element to a parent.\n",
      " |  \n",
      " |  get_bounds(self)\n",
      " |      Computes the bounds of the object and all it's children\n",
      " |      in the form [[lat_min, lon_min], [lat_max, lon_max]].\n",
      " |  \n",
      " |  get_name(self)\n",
      " |      Returns a string representation of the object.\n",
      " |      This string has to be unique and to be a python and\n",
      " |      javascript-compatible\n",
      " |      variable name.\n",
      " |  \n",
      " |  get_root(self)\n",
      " |      Returns the root of the elements tree.\n",
      " |  \n",
      " |  save(self, outfile, close_file=True, **kwargs)\n",
      " |      Saves an Element into a file.\n",
      " |      \n",
      " |      Parameters\n",
      " |      ----------\n",
      " |      outfile : str or file object\n",
      " |          The file (or filename) where you want to output the html.\n",
      " |      close_file : bool, default True\n",
      " |          Whether the file has to be closed after write.\n",
      " |  \n",
      " |  to_dict(self, depth=-1, ordered=True, **kwargs)\n",
      " |      Returns a dict representation of the object.\n",
      " |  \n",
      " |  to_json(self, depth=-1, **kwargs)\n",
      " |      Returns a JSON representation of the object.\n",
      " |  \n",
      " |  ----------------------------------------------------------------------\n",
      " |  Data descriptors inherited from branca.element.Element:\n",
      " |  \n",
      " |  __dict__\n",
      " |      dictionary for instance variables (if defined)\n",
      " |  \n",
      " |  __weakref__\n",
      " |      list of weak references to the object (if defined)\n",
      "\n"
     ]
    }
   ],
   "source": [
    "help(folium.Choropleth)"
   ]
  },
  {
   "cell_type": "code",
   "execution_count": 14,
   "metadata": {},
   "outputs": [],
   "source": [
    "my_zip_90036 = [(-118.361375, 34.062967), (-118.361452, 34.080191), (-118.361417, 34.083811), (-118.347435, 34.083505), (-118.346216, 34.081852), (-118.345149, 34.083455), (-118.34405, 34.083431), (-118.338583, 34.083457), (-118.338496, 34.080292), (-118.337995, 34.08029399999999), (-118.337734, 34.068981), (-118.337348, 34.068911), (-118.337763, 34.066905), (-118.337149, 34.064928), (-118.338469, 34.064925), (-118.338464, 34.062115), (-118.336545, 34.062077), (-118.337054, 34.060564), (-118.337616, 34.060423), (-118.338167, 34.058981), (-118.339393, 34.057063), (-118.353539, 34.057385), (-118.354642, 34.054199), (-118.355409, 34.054467), (-118.354739, 34.05741), (-118.359856, 34.057519), (-118.360966, 34.056668), (-118.363818, 34.058183), (-118.361375, 34.062967)]"
   ]
  },
  {
   "cell_type": "code",
   "execution_count": 15,
   "metadata": {},
   "outputs": [
    {
     "data": {
      "text/plain": [
       "[(-118.361375, 34.062967),\n",
       " (-118.361452, 34.080191),\n",
       " (-118.361417, 34.083811),\n",
       " (-118.347435, 34.083505),\n",
       " (-118.346216, 34.081852),\n",
       " (-118.345149, 34.083455),\n",
       " (-118.34405, 34.083431),\n",
       " (-118.338583, 34.083457),\n",
       " (-118.338496, 34.080292),\n",
       " (-118.337995, 34.08029399999999),\n",
       " (-118.337734, 34.068981),\n",
       " (-118.337348, 34.068911),\n",
       " (-118.337763, 34.066905),\n",
       " (-118.337149, 34.064928),\n",
       " (-118.338469, 34.064925),\n",
       " (-118.338464, 34.062115),\n",
       " (-118.336545, 34.062077),\n",
       " (-118.337054, 34.060564),\n",
       " (-118.337616, 34.060423),\n",
       " (-118.338167, 34.058981),\n",
       " (-118.339393, 34.057063),\n",
       " (-118.353539, 34.057385),\n",
       " (-118.354642, 34.054199),\n",
       " (-118.355409, 34.054467),\n",
       " (-118.354739, 34.05741),\n",
       " (-118.359856, 34.057519),\n",
       " (-118.360966, 34.056668),\n",
       " (-118.363818, 34.058183),\n",
       " (-118.361375, 34.062967)]"
      ]
     },
     "execution_count": 15,
     "metadata": {},
     "output_type": "execute_result"
    }
   ],
   "source": [
    "my_zip_90036"
   ]
  },
  {
   "cell_type": "code",
   "execution_count": 17,
   "metadata": {},
   "outputs": [
    {
     "name": "stdout",
     "output_type": "stream",
     "text": [
      "(-118.361375, 34.062967)\n",
      "(-118.361452, 34.080191)\n",
      "(-118.361417, 34.083811)\n",
      "(-118.347435, 34.083505)\n",
      "(-118.346216, 34.081852)\n",
      "(-118.345149, 34.083455)\n",
      "(-118.34405, 34.083431)\n",
      "(-118.338583, 34.083457)\n",
      "(-118.338496, 34.080292)\n",
      "(-118.337995, 34.08029399999999)\n",
      "(-118.337734, 34.068981)\n",
      "(-118.337348, 34.068911)\n",
      "(-118.337763, 34.066905)\n",
      "(-118.337149, 34.064928)\n",
      "(-118.338469, 34.064925)\n",
      "(-118.338464, 34.062115)\n",
      "(-118.336545, 34.062077)\n",
      "(-118.337054, 34.060564)\n",
      "(-118.337616, 34.060423)\n",
      "(-118.338167, 34.058981)\n",
      "(-118.339393, 34.057063)\n",
      "(-118.353539, 34.057385)\n",
      "(-118.354642, 34.054199)\n",
      "(-118.355409, 34.054467)\n",
      "(-118.354739, 34.05741)\n",
      "(-118.359856, 34.057519)\n",
      "(-118.360966, 34.056668)\n",
      "(-118.363818, 34.058183)\n",
      "(-118.361375, 34.062967)\n"
     ]
    }
   ],
   "source": [
    "for cordinate in my_zip_90036_wrong:\n",
    "    print(cordinate)"
   ]
  },
  {
   "cell_type": "code",
   "execution_count": null,
   "metadata": {},
   "outputs": [],
   "source": []
  }
 ],
 "metadata": {
  "kernelspec": {
   "display_name": "Python 3",
   "language": "python",
   "name": "python3"
  },
  "language_info": {
   "codemirror_mode": {
    "name": "ipython",
    "version": 3
   },
   "file_extension": ".py",
   "mimetype": "text/x-python",
   "name": "python",
   "nbconvert_exporter": "python",
   "pygments_lexer": "ipython3",
   "version": "3.6.4"
  }
 },
 "nbformat": 4,
 "nbformat_minor": 2
}
