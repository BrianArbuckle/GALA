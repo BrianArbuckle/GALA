{
 "cells": [
  {
   "cell_type": "markdown",
   "metadata": {},
   "source": [
    "# Building a Character Class\n",
    "\n",
    "Imagine a game where players operate a character who has several characteristics that you want to modify throughout the game.  This is one of the many ideal uses of **classes**.  \n",
    "\n",
    "Let's review by setting up the basis for our character class:"
   ]
  },
  {
   "cell_type": "code",
   "execution_count": null,
   "metadata": {},
   "outputs": [],
   "source": [
    "class Character:\n",
    "    def __init__(self, name = '', owner = '', hp = 10, level = 1, lives = 3):\n",
    "        \"\"\"If not specified, the name and owner fields default to a blank value.\n",
    "        hp stand for hit points.'\"\"\"\n",
    "        self.name = name\n",
    "        self.owner = owner\n",
    "        self.hp = hp\n",
    "        self.level = level\n",
    "        self.lives = lives\n",
    "        \n",
    "    def hit(self, change = 1):\n",
    "        self.hp += -change\n",
    "        "
   ]
  },
  {
   "cell_type": "code",
   "execution_count": null,
   "metadata": {},
   "outputs": [],
   "source": [
    "Mulan = Character(name = 'Mulan the Great!', owner = 'Brian')"
   ]
  },
  {
   "cell_type": "code",
   "execution_count": null,
   "metadata": {},
   "outputs": [],
   "source": [
    "Mulan.name"
   ]
  },
  {
   "cell_type": "markdown",
   "metadata": {},
   "source": [
    "### Adding a method\n",
    "In our game, when a monster hits a player, the player loses one hit point. \n",
    "\n",
    "\n",
    "Remember, a method is a function inside a class.  As without pizza class, all methods require the self argument, to refer to the instance of the class."
   ]
  },
  {
   "cell_type": "code",
   "execution_count": null,
   "metadata": {},
   "outputs": [],
   "source": [
    "class Character:\n",
    "    def __init__(self, name = '', owner = '', hp = 10, level = 1, lives = 3):\n",
    "        \"\"\"If not specified, the name and owner fields default to a blank value.\n",
    "        hp stand for hit points.'\"\"\"\n",
    "        self.name = name\n",
    "        self.owner = owner\n",
    "        self.hp = hp\n",
    "        self.level = level\n",
    "        self.lives = lives\n",
    "        \n",
    "    def hit(self, change = 1):\n",
    "        \"\"\"Lowers the character's hitpoints by the change value.  The default value is 1.\"\"\"\n",
    "        self.hp += -change"
   ]
  },
  {
   "cell_type": "markdown",
   "metadata": {},
   "source": [
    "Since we have changed the class, I will redefine my class:"
   ]
  },
  {
   "cell_type": "code",
   "execution_count": null,
   "metadata": {},
   "outputs": [],
   "source": [
    "Mulan = Character(name = 'Mulan the Great!', owner = 'Brian')"
   ]
  },
  {
   "cell_type": "markdown",
   "metadata": {},
   "source": [
    "Checking the hit points:"
   ]
  },
  {
   "cell_type": "code",
   "execution_count": null,
   "metadata": {},
   "outputs": [],
   "source": [
    "Mulan.hp"
   ]
  },
  {
   "cell_type": "markdown",
   "metadata": {},
   "source": [
    "Taking a hit from a monster:"
   ]
  },
  {
   "cell_type": "code",
   "execution_count": null,
   "metadata": {},
   "outputs": [],
   "source": [
    "Mulan.hit()"
   ]
  },
  {
   "cell_type": "markdown",
   "metadata": {},
   "source": [
    "Checking the hit points again:"
   ]
  },
  {
   "cell_type": "code",
   "execution_count": null,
   "metadata": {},
   "outputs": [],
   "source": [
    "Mulan.hp"
   ]
  },
  {
   "cell_type": "markdown",
   "metadata": {},
   "source": [
    "Let's say every time the final boss hits your charecter it loses 3 hit points, do we need another final boss method?"
   ]
  },
  {
   "cell_type": "code",
   "execution_count": null,
   "metadata": {},
   "outputs": [],
   "source": [
    "Mulan.hit(3)\n",
    "Mulan.hp"
   ]
  },
  {
   "cell_type": "markdown",
   "metadata": {},
   "source": [
    "Let's think about what we could add to the hit.  \n",
    "\n",
    "    Maybe print a line of text?  \n",
    "    Or what do we do when the hit points equal 0?\n",
    "    \n",
    "Edit the cell below:"
   ]
  },
  {
   "cell_type": "code",
   "execution_count": null,
   "metadata": {},
   "outputs": [],
   "source": [
    "class Character:\n",
    "    def __init__(self, name = '', owner = '', hp = 10, level = 1, lives = 3):\n",
    "        \"\"\"If not specified, the name and owner fields default to a blank value.\n",
    "        hp stand for hit points.'\"\"\"\n",
    "        self.name = name\n",
    "        self.owner = owner\n",
    "        self.hp = hp\n",
    "        self.level = level\n",
    "        self.lives = lives\n",
    "        \n",
    "    def hit(self, change = 1):\n",
    "        \"\"\"Lowers the character's hitpoints by the change value.  The default value is 1.\"\"\"\n",
    "        self.hp += -change"
   ]
  }
 ],
 "metadata": {
  "kernelspec": {
   "display_name": "Python 3",
   "language": "python",
   "name": "python3"
  },
  "language_info": {
   "codemirror_mode": {
    "name": "ipython",
    "version": 3
   },
   "file_extension": ".py",
   "mimetype": "text/x-python",
   "name": "python",
   "nbconvert_exporter": "python",
   "pygments_lexer": "ipython3",
   "version": "3.7.5"
  }
 },
 "nbformat": 4,
 "nbformat_minor": 2
}
